{
 "cells": [
  {
   "cell_type": "code",
   "execution_count": null,
   "id": "a596d72c",
   "metadata": {},
   "outputs": [],
   "source": [
    "import numpy as np\n",
    "import pandas as pd\n",
    "import glob\n",
    "import os\n",
    "import requests\n",
    "from docarray import DocumentArray\n",
    "from docarray import dataclass\n",
    "from docarray.typing import Image, Text\n",
    "from docarray import Document"
   ]
  },
  {
   "cell_type": "code",
   "execution_count": null,
   "id": "9fd233ef",
   "metadata": {},
   "outputs": [],
   "source": [
    "# explore unsplash dataset, if needed all csv files\n",
    "\n",
    "path = './'\n",
    "documents = ['photos', 'colors']\n",
    "datasets = {}\n",
    "\n",
    "for doc in documents:\n",
    "    files = glob.glob(path + doc + \".tsv*\")\n",
    "    \n",
    "    subsets = []\n",
    "    for filename in files:\n",
    "        df = pd.read_csv(filename, sep='\\t', header=0)\n",
    "        subsets.append(df)\n",
    "    \n",
    "    datasets[doc] = pd.concat(subsets, axis=0, ignore_index=True)"
   ]
  },
  {
   "cell_type": "code",
   "execution_count": null,
   "id": "a2d67716",
   "metadata": {},
   "outputs": [],
   "source": [
    "datasets['photos'].isna().sum()"
   ]
  },
  {
   "cell_type": "code",
   "execution_count": null,
   "id": "8929c7ee",
   "metadata": {},
   "outputs": [],
   "source": [
    "df = datasets['photos'].dropna(axis=0, subset=['ai_description'])"
   ]
  },
  {
   "cell_type": "code",
   "execution_count": null,
   "id": "ef74e198",
   "metadata": {},
   "outputs": [],
   "source": [
    "print(len(df))"
   ]
  },
  {
   "cell_type": "code",
   "execution_count": null,
   "id": "75184c45",
   "metadata": {},
   "outputs": [],
   "source": [
    "df.isna().sum()"
   ]
  },
  {
   "cell_type": "code",
   "execution_count": null,
   "id": "2d046891",
   "metadata": {},
   "outputs": [],
   "source": [
    "# get unique photo id's\n",
    "photo_id_list = list(set(df['photo_id'].values))\n",
    "print(len(photo_id_list))\n",
    "# photo_id_list"
   ]
  },
  {
   "cell_type": "code",
   "execution_count": null,
   "id": "c0bb5ff0",
   "metadata": {},
   "outputs": [],
   "source": [
    "photo_image_url_list = list(set(df['photo_image_url'].values))\n",
    "print(len(photo_image_url_list))\n",
    "# photo_image_url_list"
   ]
  },
  {
   "cell_type": "code",
   "execution_count": null,
   "id": "e7637091",
   "metadata": {},
   "outputs": [],
   "source": [
    "photo_id_to_img_url_dict = {}\n",
    "\n",
    "photo_id_to_img_url_dict = dict(zip(df.photo_id, df.photo_image_url))\n",
    "print(len(photo_id_to_img_url_dict))\n",
    "# photo_id_to_img_url_dict"
   ]
  },
  {
   "cell_type": "code",
   "execution_count": null,
   "id": "c38cb36e",
   "metadata": {},
   "outputs": [],
   "source": [
    "unsplash_lite_img_emb_da = DocumentArray()\n",
    "\n",
    "for photo_id in photo_id_list:\n",
    "    try:\n",
    "        image_path = f'resize_images/{photo_id}.jpg'\n",
    "        doc = Document(uri=image_path).load_uri_to_image_tensor()\n",
    "        unsplash_lite_img_emb_da.append(doc)\n",
    "    except:\n",
    "        continue"
   ]
  },
  {
   "cell_type": "code",
   "execution_count": null,
   "id": "d6c40f8c",
   "metadata": {},
   "outputs": [],
   "source": [
    "unsplash_lite_img_emb_da.summary()"
   ]
  },
  {
   "cell_type": "code",
   "execution_count": null,
   "id": "c3064924",
   "metadata": {},
   "outputs": [],
   "source": [
    "unsplash_lite_img_emb_da[0]"
   ]
  },
  {
   "cell_type": "markdown",
   "id": "e4ddb806",
   "metadata": {},
   "source": [
    "### Embedding Creation by Model Inference  with ONNX"
   ]
  },
  {
   "cell_type": "code",
   "execution_count": null,
   "id": "104628ad",
   "metadata": {},
   "outputs": [],
   "source": [
    "run_name = 'unsplash-lite-clip-run-onnx-11132022-2145'\n",
    "artifact_name = 'unsplash-lite-clean-clip-onnx-model'"
   ]
  },
  {
   "cell_type": "code",
   "execution_count": null,
   "id": "f0280036",
   "metadata": {},
   "outputs": [],
   "source": [
    "artifact_local_path = f\"{artifact_name}/{run_name}.zip\""
   ]
  },
  {
   "cell_type": "code",
   "execution_count": null,
   "id": "fe1bcc83",
   "metadata": {},
   "outputs": [],
   "source": [
    "import finetuner"
   ]
  },
  {
   "cell_type": "code",
   "execution_count": null,
   "id": "65d52c52",
   "metadata": {},
   "outputs": [],
   "source": [
    "# Quick Test\n",
    "image_da = DocumentArray([Document(uri='https://upload.wikimedia.org/wikipedia/commons/4/4e/Single_apple.png')])\n",
    "\n",
    "clip_image_encoder = finetuner.get_model(artifact=artifact_local_path, select_model='clip-vision', is_onnx=True)\n",
    "\n",
    "finetuner.encode(model=clip_image_encoder, data=image_da)\n",
    "\n",
    "print(image_da.summary())\n",
    "print(image_da.embeddings.shape)"
   ]
  },
  {
   "cell_type": "markdown",
   "id": "040bc7e1",
   "metadata": {},
   "source": [
    "##### FillUp unsplash_lite_img_da with Embeddings created by our finetuned CLIP Image model"
   ]
  },
  {
   "cell_type": "code",
   "execution_count": null,
   "id": "4d4cb75e",
   "metadata": {},
   "outputs": [],
   "source": [
    "finetuner.encode(model=clip_image_encoder, data=unsplash_lite_img_emb_da)"
   ]
  },
  {
   "cell_type": "code",
   "execution_count": null,
   "id": "42abb607",
   "metadata": {},
   "outputs": [],
   "source": [
    "unsplash_lite_img_emb_da.summary()"
   ]
  },
  {
   "cell_type": "markdown",
   "id": "f301d2d9",
   "metadata": {},
   "source": [
    "##### remove all tensors to decrease the size of embeddings"
   ]
  },
  {
   "cell_type": "code",
   "execution_count": null,
   "id": "28366d8e",
   "metadata": {},
   "outputs": [],
   "source": [
    "#remove all tensors to decrease the size of embeddings\n",
    "del unsplash_lite_img_emb_da[:, 'tensor']\n",
    "\n",
    "unsplash_lite_img_emb_da.summary()"
   ]
  },
  {
   "cell_type": "markdown",
   "id": "9dfe29d6",
   "metadata": {},
   "source": [
    "#### Convert local URI to Online URI, so we can show images directly from Online "
   ]
  },
  {
   "cell_type": "code",
   "execution_count": null,
   "id": "94597f77",
   "metadata": {},
   "outputs": [],
   "source": [
    "for doc in unsplash_lite_img_emb_da:\n",
    "    try:\n",
    "#         print(\"original:\", doc.uri)\n",
    "        photo_id = str(str(doc.uri).split('/')[1]).split('.')[0]\n",
    "#         print(\"photo_id:\",photo_id)\n",
    "#         print(\"photo_image_url:\", photo_id_to_img_url_dict[photo_id])\n",
    "        doc.uri = photo_id_to_img_url_dict[photo_id]\n",
    "#         src_uri_unsplash_lite_emb_da.append(doc)\n",
    "    except:\n",
    "        print(\"couldn't convert=>\", doc.uri)\n",
    "        continue"
   ]
  },
  {
   "cell_type": "code",
   "execution_count": null,
   "id": "5c2f4726",
   "metadata": {},
   "outputs": [],
   "source": [
    "unsplash_lite_img_emb_da.summary()"
   ]
  },
  {
   "cell_type": "code",
   "execution_count": null,
   "id": "c92b847d",
   "metadata": {},
   "outputs": [],
   "source": [
    "unsplash_lite_img_emb_da[0]"
   ]
  },
  {
   "cell_type": "code",
   "execution_count": null,
   "id": "805b1a84",
   "metadata": {},
   "outputs": [],
   "source": [
    "unsplash_lite_img_emb_da.save_binary(\"../frontend/unsplash_lite_img_emb_da.bin\", compress='lz4')"
   ]
  },
  {
   "cell_type": "code",
   "execution_count": null,
   "id": "b2e6dd67",
   "metadata": {},
   "outputs": [],
   "source": [
    "# data_da = DocumentArray.load_binary(\"../frontend/unsplash_lite_img_emb_da.bin\", compress='lz4')"
   ]
  },
  {
   "cell_type": "code",
   "execution_count": null,
   "id": "a6fc2236",
   "metadata": {},
   "outputs": [],
   "source": []
  }
 ],
 "metadata": {
  "kernelspec": {
   "display_name": "Python 3 (ipykernel)",
   "language": "python",
   "name": "python3"
  },
  "language_info": {
   "codemirror_mode": {
    "name": "ipython",
    "version": 3
   },
   "file_extension": ".py",
   "mimetype": "text/x-python",
   "name": "python",
   "nbconvert_exporter": "python",
   "pygments_lexer": "ipython3",
   "version": "3.10.6"
  }
 },
 "nbformat": 4,
 "nbformat_minor": 5
}
