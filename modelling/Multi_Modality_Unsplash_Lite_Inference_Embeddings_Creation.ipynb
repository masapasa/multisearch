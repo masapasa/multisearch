{
 "cells": [
  {
   "cell_type": "code",
   "execution_count": 1,
   "id": "a596d72c",
   "metadata": {},
   "outputs": [],
   "source": [
    "import numpy as np\n",
    "import pandas as pd\n",
    "import glob\n",
    "import os\n",
    "import requests\n",
    "from docarray import DocumentArray\n",
    "from docarray import dataclass\n",
    "from docarray.typing import Image, Text\n",
    "from docarray import Document"
   ]
  },
  {
   "cell_type": "code",
   "execution_count": 15,
   "id": "919ef879",
   "metadata": {},
   "outputs": [],
   "source": [
    "# explore unsplash dataset, if needed all csv files\n",
    "\n",
    "path = './'\n",
    "documents = ['photos', 'colors']\n",
    "datasets = {}\n",
    "\n",
    "for doc in documents:\n",
    "    files = glob.glob(path + doc + \".tsv*\")\n",
    "    \n",
    "    subsets = []\n",
    "    for filename in files:\n",
    "        df = pd.read_csv(filename, sep='\\t', header=0)\n",
    "        subsets.append(df)\n",
    "    \n",
    "    datasets[doc] = pd.concat(subsets, axis=0, ignore_index=True)"
   ]
  },
  {
   "cell_type": "code",
   "execution_count": 16,
   "id": "86e218c4",
   "metadata": {},
   "outputs": [
    {
     "data": {
      "text/plain": [
       "photo_id                              0\n",
       "photo_url                             0\n",
       "photo_image_url                       0\n",
       "photo_submitted_at                    0\n",
       "photo_featured                        0\n",
       "photo_width                           0\n",
       "photo_height                          0\n",
       "photo_aspect_ratio                    0\n",
       "photo_description                 14098\n",
       "photographer_username                 0\n",
       "photographer_first_name               0\n",
       "photographer_last_name             1582\n",
       "exif_camera_make                   2812\n",
       "exif_camera_model                  2852\n",
       "exif_iso                           3192\n",
       "exif_aperture_value                3600\n",
       "exif_focal_length                  3503\n",
       "exif_exposure_time                 3215\n",
       "photo_location_name               15309\n",
       "photo_location_latitude           17853\n",
       "photo_location_longitude          17856\n",
       "photo_location_country            16211\n",
       "photo_location_city               18856\n",
       "stats_views                           0\n",
       "stats_downloads                       0\n",
       "ai_description                     1359\n",
       "ai_primary_landmark_name          23813\n",
       "ai_primary_landmark_latitude      23813\n",
       "ai_primary_landmark_longitude     23813\n",
       "ai_primary_landmark_confidence    23813\n",
       "blur_hash                            11\n",
       "dtype: int64"
      ]
     },
     "execution_count": 16,
     "metadata": {},
     "output_type": "execute_result"
    }
   ],
   "source": [
    "datasets['photos'].isna().sum()"
   ]
  },
  {
   "cell_type": "code",
   "execution_count": 17,
   "id": "323a5eaf",
   "metadata": {},
   "outputs": [],
   "source": [
    "df = datasets['photos'].dropna(axis=0, subset=['ai_description'])"
   ]
  },
  {
   "cell_type": "code",
   "execution_count": 18,
   "id": "284ced15",
   "metadata": {},
   "outputs": [
    {
     "name": "stdout",
     "output_type": "stream",
     "text": [
      "23641\n"
     ]
    }
   ],
   "source": [
    "print(len(df))"
   ]
  },
  {
   "cell_type": "code",
   "execution_count": 19,
   "id": "7fdbea66",
   "metadata": {},
   "outputs": [
    {
     "data": {
      "text/plain": [
       "photo_id                              0\n",
       "photo_url                             0\n",
       "photo_image_url                       0\n",
       "photo_submitted_at                    0\n",
       "photo_featured                        0\n",
       "photo_width                           0\n",
       "photo_height                          0\n",
       "photo_aspect_ratio                    0\n",
       "photo_description                 13325\n",
       "photographer_username                 0\n",
       "photographer_first_name               0\n",
       "photographer_last_name             1472\n",
       "exif_camera_make                   2631\n",
       "exif_camera_model                  2668\n",
       "exif_iso                           2984\n",
       "exif_aperture_value                3371\n",
       "exif_focal_length                  3281\n",
       "exif_exposure_time                 3008\n",
       "photo_location_name               14457\n",
       "photo_location_latitude           16824\n",
       "photo_location_longitude          16827\n",
       "photo_location_country            15302\n",
       "photo_location_city               17807\n",
       "stats_views                           0\n",
       "stats_downloads                       0\n",
       "ai_description                        0\n",
       "ai_primary_landmark_name          22491\n",
       "ai_primary_landmark_latitude      22491\n",
       "ai_primary_landmark_longitude     22491\n",
       "ai_primary_landmark_confidence    22491\n",
       "blur_hash                            11\n",
       "dtype: int64"
      ]
     },
     "execution_count": 19,
     "metadata": {},
     "output_type": "execute_result"
    }
   ],
   "source": [
    "df.isna().sum()"
   ]
  },
  {
   "cell_type": "code",
   "execution_count": 21,
   "id": "403b7274",
   "metadata": {},
   "outputs": [
    {
     "name": "stdout",
     "output_type": "stream",
     "text": [
      "23641\n"
     ]
    }
   ],
   "source": [
    "# get unique photo id's\n",
    "photo_id_list = list(set(df['photo_id'].values))\n",
    "print(len(photo_id_list))\n",
    "# photo_id_list"
   ]
  },
  {
   "cell_type": "code",
   "execution_count": 22,
   "id": "c1b96728",
   "metadata": {},
   "outputs": [
    {
     "name": "stdout",
     "output_type": "stream",
     "text": [
      "23641\n"
     ]
    }
   ],
   "source": [
    "photo_image_url_list = list(set(df['photo_image_url'].values))\n",
    "print(len(photo_image_url_list))\n",
    "# photo_image_url_list"
   ]
  },
  {
   "cell_type": "code",
   "execution_count": 24,
   "id": "63e34e79",
   "metadata": {},
   "outputs": [
    {
     "name": "stdout",
     "output_type": "stream",
     "text": [
      "23641\n"
     ]
    }
   ],
   "source": [
    "photo_id_to_img_url_dict = {}\n",
    "\n",
    "photo_id_to_img_url_dict = dict(zip(df.photo_id, df.photo_image_url))\n",
    "print(len(photo_id_to_img_url_dict))\n",
    "# photo_id_to_img_url_dict"
   ]
  },
  {
   "cell_type": "code",
   "execution_count": 25,
   "id": "0939ce8e",
   "metadata": {},
   "outputs": [],
   "source": [
    "unsplash_lite_img_emb_da = DocumentArray()\n",
    "\n",
    "for photo_id in photo_id_list:\n",
    "    try:\n",
    "        image_path = f'resize_images/{photo_id}.jpg'\n",
    "        doc = Document(uri=image_path).load_uri_to_image_tensor()\n",
    "        unsplash_lite_img_emb_da.append(doc)\n",
    "    except:\n",
    "        continue"
   ]
  },
  {
   "cell_type": "code",
   "execution_count": 26,
   "id": "a2fe767b",
   "metadata": {},
   "outputs": [
    {
     "data": {
      "text/html": [
       "<pre style=\"white-space:pre;overflow-x:auto;line-height:normal;font-family:Menlo,'DejaVu Sans Mono',consolas,'Courier New',monospace\">╭─────────────────────── Documents Summary ───────────────────────╮\n",
       "│                                                                 │\n",
       "│   Type                   DocumentArrayInMemory                  │\n",
       "│   Length                 <span style=\"color: #008080; text-decoration-color: #008080; font-weight: bold\">23599</span>                                  │\n",
       "│   Homogenous Documents   <span style=\"color: #00ff00; text-decoration-color: #00ff00; font-style: italic\">True</span>                                   │\n",
       "│   Common Attributes      <span style=\"font-weight: bold\">(</span><span style=\"color: #008000; text-decoration-color: #008000\">'id'</span>, <span style=\"color: #008000; text-decoration-color: #008000\">'tensor'</span>, <span style=\"color: #008000; text-decoration-color: #008000\">'mime_type'</span>, <span style=\"color: #008000; text-decoration-color: #008000\">'uri'</span><span style=\"font-weight: bold\">)</span>   │\n",
       "│   Multimodal dataclass   <span style=\"color: #ff0000; text-decoration-color: #ff0000; font-style: italic\">False</span>                                  │\n",
       "│                                                                 │\n",
       "╰─────────────────────────────────────────────────────────────────╯\n",
       "╭────────────────────── Attributes Summary ───────────────────────╮\n",
       "│                                                                 │\n",
       "│  <span style=\"font-weight: bold\"> Attribute </span> <span style=\"font-weight: bold\"> Data type    </span> <span style=\"font-weight: bold\"> #Unique values </span> <span style=\"font-weight: bold\"> Has empty value </span>  │\n",
       "│  ─────────────────────────────────────────────────────────────  │\n",
       "│   id          <span style=\"font-weight: bold\">(</span><span style=\"color: #008000; text-decoration-color: #008000\">'str'</span>,<span style=\"font-weight: bold\">)</span>       <span style=\"color: #008080; text-decoration-color: #008080; font-weight: bold\">23599</span>            <span style=\"color: #ff0000; text-decoration-color: #ff0000; font-style: italic\">False</span>             │\n",
       "│   mime_type   <span style=\"font-weight: bold\">(</span><span style=\"color: #008000; text-decoration-color: #008000\">'str'</span>,<span style=\"font-weight: bold\">)</span>       <span style=\"color: #008080; text-decoration-color: #008080; font-weight: bold\">1</span>                <span style=\"color: #ff0000; text-decoration-color: #ff0000; font-style: italic\">False</span>             │\n",
       "│   tensor      <span style=\"font-weight: bold\">(</span><span style=\"color: #008000; text-decoration-color: #008000\">'ndarray'</span>,<span style=\"font-weight: bold\">)</span>   <span style=\"color: #008080; text-decoration-color: #008080; font-weight: bold\">23599</span>            <span style=\"color: #ff0000; text-decoration-color: #ff0000; font-style: italic\">False</span>             │\n",
       "│   uri         <span style=\"font-weight: bold\">(</span><span style=\"color: #008000; text-decoration-color: #008000\">'str'</span>,<span style=\"font-weight: bold\">)</span>       <span style=\"color: #008080; text-decoration-color: #008080; font-weight: bold\">23599</span>            <span style=\"color: #ff0000; text-decoration-color: #ff0000; font-style: italic\">False</span>             │\n",
       "│                                                                 │\n",
       "╰─────────────────────────────────────────────────────────────────╯\n",
       "</pre>\n"
      ],
      "text/plain": [
       "╭─────────────────────── Documents Summary ───────────────────────╮\n",
       "│                                                                 │\n",
       "│   Type                   DocumentArrayInMemory                  │\n",
       "│   Length                 \u001b[1;36m23599\u001b[0m                                  │\n",
       "│   Homogenous Documents   \u001b[3;92mTrue\u001b[0m                                   │\n",
       "│   Common Attributes      \u001b[1m(\u001b[0m\u001b[32m'id'\u001b[0m, \u001b[32m'tensor'\u001b[0m, \u001b[32m'mime_type'\u001b[0m, \u001b[32m'uri'\u001b[0m\u001b[1m)\u001b[0m   │\n",
       "│   Multimodal dataclass   \u001b[3;91mFalse\u001b[0m                                  │\n",
       "│                                                                 │\n",
       "╰─────────────────────────────────────────────────────────────────╯\n",
       "╭────────────────────── Attributes Summary ───────────────────────╮\n",
       "│                                                                 │\n",
       "│  \u001b[1m \u001b[0m\u001b[1mAttribute\u001b[0m\u001b[1m \u001b[0m \u001b[1m \u001b[0m\u001b[1mData type   \u001b[0m\u001b[1m \u001b[0m \u001b[1m \u001b[0m\u001b[1m#Unique values\u001b[0m\u001b[1m \u001b[0m \u001b[1m \u001b[0m\u001b[1mHas empty value\u001b[0m\u001b[1m \u001b[0m  │\n",
       "│  ─────────────────────────────────────────────────────────────  │\n",
       "│   id          \u001b[1m(\u001b[0m\u001b[32m'str'\u001b[0m,\u001b[1m)\u001b[0m       \u001b[1;36m23599\u001b[0m            \u001b[3;91mFalse\u001b[0m             │\n",
       "│   mime_type   \u001b[1m(\u001b[0m\u001b[32m'str'\u001b[0m,\u001b[1m)\u001b[0m       \u001b[1;36m1\u001b[0m                \u001b[3;91mFalse\u001b[0m             │\n",
       "│   tensor      \u001b[1m(\u001b[0m\u001b[32m'ndarray'\u001b[0m,\u001b[1m)\u001b[0m   \u001b[1;36m23599\u001b[0m            \u001b[3;91mFalse\u001b[0m             │\n",
       "│   uri         \u001b[1m(\u001b[0m\u001b[32m'str'\u001b[0m,\u001b[1m)\u001b[0m       \u001b[1;36m23599\u001b[0m            \u001b[3;91mFalse\u001b[0m             │\n",
       "│                                                                 │\n",
       "╰─────────────────────────────────────────────────────────────────╯\n"
      ]
     },
     "metadata": {},
     "output_type": "display_data"
    }
   ],
   "source": [
    "unsplash_lite_img_emb_da.summary()"
   ]
  },
  {
   "cell_type": "code",
   "execution_count": 27,
   "id": "abfa46f8",
   "metadata": {},
   "outputs": [
    {
     "data": {
      "text/html": [
       "<pre style=\"white-space:pre;overflow-x:auto;line-height:normal;font-family:Menlo,'DejaVu Sans Mono',consolas,'Courier New',monospace\">📄 <span style=\"font-weight: bold\">Document</span>: <span style=\"color: #008080; text-decoration-color: #008080\">f7c16e033ebcfe832e6ee49300a2ccca</span>\n",
       "╭────────────┬─────────────────────────────────────────────────────────────────╮\n",
       "│<span style=\"font-weight: bold\"> Attribute  </span>│<span style=\"font-weight: bold\"> Value                                                           </span>│\n",
       "├────────────┼─────────────────────────────────────────────────────────────────┤\n",
       "│ tensor     │ <span style=\"font-weight: bold\">&lt;</span><span style=\"color: #ff00ff; text-decoration-color: #ff00ff; font-weight: bold\">class</span><span style=\"color: #000000; text-decoration-color: #000000\"> </span><span style=\"color: #008000; text-decoration-color: #008000\">'numpy.ndarray'</span><span style=\"font-weight: bold\">&gt;</span> in shape <span style=\"font-weight: bold\">(</span><span style=\"color: #008080; text-decoration-color: #008080; font-weight: bold\">250</span>, <span style=\"color: #008080; text-decoration-color: #008080; font-weight: bold\">250</span>, <span style=\"color: #008080; text-decoration-color: #008080; font-weight: bold\">3</span><span style=\"font-weight: bold\">)</span>, dtype: uint8    │\n",
       "│ mime_type  │ image/jpeg                                                      │\n",
       "│ uri        │ resize_images/A6pK6vCywBg.jpg                                   │\n",
       "╰────────────┴─────────────────────────────────────────────────────────────────╯\n",
       "</pre>\n"
      ],
      "text/plain": [
       "📄 \u001b[1mDocument\u001b[0m: \u001b[36mf7c16e033ebcfe832e6ee49300a2ccca\u001b[0m\n",
       "╭────────────┬─────────────────────────────────────────────────────────────────╮\n",
       "│\u001b[1m \u001b[0m\u001b[1mAttribute \u001b[0m\u001b[1m \u001b[0m│\u001b[1m \u001b[0m\u001b[1mValue                                                          \u001b[0m\u001b[1m \u001b[0m│\n",
       "├────────────┼─────────────────────────────────────────────────────────────────┤\n",
       "│ tensor     │ \u001b[1m<\u001b[0m\u001b[1;95mclass\u001b[0m\u001b[39m \u001b[0m\u001b[32m'numpy.ndarray'\u001b[0m\u001b[1m>\u001b[0m in shape \u001b[1m(\u001b[0m\u001b[1;36m250\u001b[0m, \u001b[1;36m250\u001b[0m, \u001b[1;36m3\u001b[0m\u001b[1m)\u001b[0m, dtype: uint8    │\n",
       "│ mime_type  │ image/jpeg                                                      │\n",
       "│ uri        │ resize_images/A6pK6vCywBg.jpg                                   │\n",
       "╰────────────┴─────────────────────────────────────────────────────────────────╯\n"
      ]
     },
     "metadata": {},
     "output_type": "display_data"
    }
   ],
   "source": [
    "unsplash_lite_img_emb_da[0]"
   ]
  },
  {
   "cell_type": "markdown",
   "id": "e4ddb806",
   "metadata": {},
   "source": [
    "### Embedding Creation by Model Inference  with ONNX"
   ]
  },
  {
   "cell_type": "code",
   "execution_count": 28,
   "id": "6acd5f30",
   "metadata": {},
   "outputs": [],
   "source": [
    "run_name = 'unsplash-lite-clip-run-onnx-11132022-2145'\n",
    "artifact_name = 'unsplash-lite-clean-clip-onnx-model'"
   ]
  },
  {
   "cell_type": "code",
   "execution_count": 29,
   "id": "f0280036",
   "metadata": {},
   "outputs": [],
   "source": [
    "artifact_local_path = f\"{artifact_name}/{run_name}.zip\""
   ]
  },
  {
   "cell_type": "code",
   "execution_count": 31,
   "id": "3c1e19c2",
   "metadata": {},
   "outputs": [],
   "source": [
    "import finetuner"
   ]
  },
  {
   "cell_type": "code",
   "execution_count": 32,
   "id": "65d52c52",
   "metadata": {},
   "outputs": [
    {
     "data": {
      "application/vnd.jupyter.widget-view+json": {
       "model_id": "d05c0770b8e2464f8baa768949541c9a",
       "version_major": 2,
       "version_minor": 0
      },
      "text/plain": [
       "Output()"
      ]
     },
     "metadata": {},
     "output_type": "display_data"
    },
    {
     "data": {
      "text/html": [
       "<pre style=\"white-space:pre;overflow-x:auto;line-height:normal;font-family:Menlo,'DejaVu Sans Mono',consolas,'Courier New',monospace\"></pre>\n"
      ],
      "text/plain": []
     },
     "metadata": {},
     "output_type": "display_data"
    },
    {
     "data": {
      "text/html": [
       "<pre style=\"white-space:pre;overflow-x:auto;line-height:normal;font-family:Menlo,'DejaVu Sans Mono',consolas,'Courier New',monospace\">\n",
       "</pre>\n"
      ],
      "text/plain": [
       "\n"
      ]
     },
     "metadata": {},
     "output_type": "display_data"
    },
    {
     "data": {
      "text/html": [
       "<pre style=\"white-space:pre;overflow-x:auto;line-height:normal;font-family:Menlo,'DejaVu Sans Mono',consolas,'Courier New',monospace\">╭──────────────────────── Documents Summary ─────────────────────────╮\n",
       "│                                                                    │\n",
       "│   Type                   DocumentArrayInMemory                     │\n",
       "│   Length                 <span style=\"color: #008080; text-decoration-color: #008080; font-weight: bold\">1</span>                                         │\n",
       "│   Homogenous Documents   <span style=\"color: #00ff00; text-decoration-color: #00ff00; font-style: italic\">True</span>                                      │\n",
       "│   Common Attributes      <span style=\"font-weight: bold\">(</span><span style=\"color: #008000; text-decoration-color: #008000\">'id'</span>, <span style=\"color: #008000; text-decoration-color: #008000\">'mime_type'</span>, <span style=\"color: #008000; text-decoration-color: #008000\">'uri'</span>, <span style=\"color: #008000; text-decoration-color: #008000\">'embedding'</span><span style=\"font-weight: bold\">)</span>   │\n",
       "│   Multimodal dataclass   <span style=\"color: #ff0000; text-decoration-color: #ff0000; font-style: italic\">False</span>                                     │\n",
       "│                                                                    │\n",
       "╰────────────────────────────────────────────────────────────────────╯\n",
       "╭────────────────────── Attributes Summary ───────────────────────╮\n",
       "│                                                                 │\n",
       "│  <span style=\"font-weight: bold\"> Attribute </span> <span style=\"font-weight: bold\"> Data type    </span> <span style=\"font-weight: bold\"> #Unique values </span> <span style=\"font-weight: bold\"> Has empty value </span>  │\n",
       "│  ─────────────────────────────────────────────────────────────  │\n",
       "│   embedding   <span style=\"font-weight: bold\">(</span><span style=\"color: #008000; text-decoration-color: #008000\">'ndarray'</span>,<span style=\"font-weight: bold\">)</span>   <span style=\"color: #008080; text-decoration-color: #008080; font-weight: bold\">1</span>                <span style=\"color: #ff0000; text-decoration-color: #ff0000; font-style: italic\">False</span>             │\n",
       "│   id          <span style=\"font-weight: bold\">(</span><span style=\"color: #008000; text-decoration-color: #008000\">'str'</span>,<span style=\"font-weight: bold\">)</span>       <span style=\"color: #008080; text-decoration-color: #008080; font-weight: bold\">1</span>                <span style=\"color: #ff0000; text-decoration-color: #ff0000; font-style: italic\">False</span>             │\n",
       "│   mime_type   <span style=\"font-weight: bold\">(</span><span style=\"color: #008000; text-decoration-color: #008000\">'str'</span>,<span style=\"font-weight: bold\">)</span>       <span style=\"color: #008080; text-decoration-color: #008080; font-weight: bold\">1</span>                <span style=\"color: #ff0000; text-decoration-color: #ff0000; font-style: italic\">False</span>             │\n",
       "│   uri         <span style=\"font-weight: bold\">(</span><span style=\"color: #008000; text-decoration-color: #008000\">'str'</span>,<span style=\"font-weight: bold\">)</span>       <span style=\"color: #008080; text-decoration-color: #008080; font-weight: bold\">1</span>                <span style=\"color: #ff0000; text-decoration-color: #ff0000; font-style: italic\">False</span>             │\n",
       "│                                                                 │\n",
       "╰─────────────────────────────────────────────────────────────────╯\n",
       "</pre>\n"
      ],
      "text/plain": [
       "╭──────────────────────── Documents Summary ─────────────────────────╮\n",
       "│                                                                    │\n",
       "│   Type                   DocumentArrayInMemory                     │\n",
       "│   Length                 \u001b[1;36m1\u001b[0m                                         │\n",
       "│   Homogenous Documents   \u001b[3;92mTrue\u001b[0m                                      │\n",
       "│   Common Attributes      \u001b[1m(\u001b[0m\u001b[32m'id'\u001b[0m, \u001b[32m'mime_type'\u001b[0m, \u001b[32m'uri'\u001b[0m, \u001b[32m'embedding'\u001b[0m\u001b[1m)\u001b[0m   │\n",
       "│   Multimodal dataclass   \u001b[3;91mFalse\u001b[0m                                     │\n",
       "│                                                                    │\n",
       "╰────────────────────────────────────────────────────────────────────╯\n",
       "╭────────────────────── Attributes Summary ───────────────────────╮\n",
       "│                                                                 │\n",
       "│  \u001b[1m \u001b[0m\u001b[1mAttribute\u001b[0m\u001b[1m \u001b[0m \u001b[1m \u001b[0m\u001b[1mData type   \u001b[0m\u001b[1m \u001b[0m \u001b[1m \u001b[0m\u001b[1m#Unique values\u001b[0m\u001b[1m \u001b[0m \u001b[1m \u001b[0m\u001b[1mHas empty value\u001b[0m\u001b[1m \u001b[0m  │\n",
       "│  ─────────────────────────────────────────────────────────────  │\n",
       "│   embedding   \u001b[1m(\u001b[0m\u001b[32m'ndarray'\u001b[0m,\u001b[1m)\u001b[0m   \u001b[1;36m1\u001b[0m                \u001b[3;91mFalse\u001b[0m             │\n",
       "│   id          \u001b[1m(\u001b[0m\u001b[32m'str'\u001b[0m,\u001b[1m)\u001b[0m       \u001b[1;36m1\u001b[0m                \u001b[3;91mFalse\u001b[0m             │\n",
       "│   mime_type   \u001b[1m(\u001b[0m\u001b[32m'str'\u001b[0m,\u001b[1m)\u001b[0m       \u001b[1;36m1\u001b[0m                \u001b[3;91mFalse\u001b[0m             │\n",
       "│   uri         \u001b[1m(\u001b[0m\u001b[32m'str'\u001b[0m,\u001b[1m)\u001b[0m       \u001b[1;36m1\u001b[0m                \u001b[3;91mFalse\u001b[0m             │\n",
       "│                                                                 │\n",
       "╰─────────────────────────────────────────────────────────────────╯\n"
      ]
     },
     "metadata": {},
     "output_type": "display_data"
    },
    {
     "name": "stdout",
     "output_type": "stream",
     "text": [
      "None\n",
      "(1, 512)\n"
     ]
    }
   ],
   "source": [
    "# Quick Test\n",
    "image_da = DocumentArray([Document(uri='https://upload.wikimedia.org/wikipedia/commons/4/4e/Single_apple.png')])\n",
    "\n",
    "clip_image_encoder = finetuner.get_model(artifact=artifact_local_path, select_model='clip-vision', is_onnx=True)\n",
    "\n",
    "finetuner.encode(model=clip_image_encoder, data=image_da)\n",
    "\n",
    "print(image_da.summary())\n",
    "print(image_da.embeddings.shape)"
   ]
  },
  {
   "cell_type": "markdown",
   "id": "9282fb8d",
   "metadata": {},
   "source": [
    "##### FillUp unsplash_lite_img_da with Embeddings created by our finetuned CLIP Image model"
   ]
  },
  {
   "cell_type": "code",
   "execution_count": 34,
   "id": "4d4cb75e",
   "metadata": {},
   "outputs": [
    {
     "data": {
      "application/vnd.jupyter.widget-view+json": {
       "model_id": "12209b70de044968a0ab577d89d69603",
       "version_major": 2,
       "version_minor": 0
      },
      "text/plain": [
       "Output()"
      ]
     },
     "metadata": {},
     "output_type": "display_data"
    },
    {
     "data": {
      "text/html": [
       "<pre style=\"white-space:pre;overflow-x:auto;line-height:normal;font-family:Menlo,'DejaVu Sans Mono',consolas,'Courier New',monospace\"></pre>\n"
      ],
      "text/plain": []
     },
     "metadata": {},
     "output_type": "display_data"
    },
    {
     "data": {
      "text/html": [
       "<pre style=\"white-space:pre;overflow-x:auto;line-height:normal;font-family:Menlo,'DejaVu Sans Mono',consolas,'Courier New',monospace\">\n",
       "</pre>\n"
      ],
      "text/plain": [
       "\n"
      ]
     },
     "metadata": {},
     "output_type": "display_data"
    }
   ],
   "source": [
    "finetuner.encode(model=clip_image_encoder, data=unsplash_lite_img_emb_da)"
   ]
  },
  {
   "cell_type": "code",
   "execution_count": 35,
   "id": "612cbcfd",
   "metadata": {},
   "outputs": [
    {
     "data": {
      "text/html": [
       "<pre style=\"white-space:pre;overflow-x:auto;line-height:normal;font-family:Menlo,'DejaVu Sans Mono',consolas,'Courier New',monospace\">╭───────────────────────────── Documents Summary ──────────────────────────────╮\n",
       "│                                                                              │\n",
       "│   Type                   DocumentArrayInMemory                               │\n",
       "│   Length                 <span style=\"color: #008080; text-decoration-color: #008080; font-weight: bold\">23599</span>                                               │\n",
       "│   Homogenous Documents   <span style=\"color: #00ff00; text-decoration-color: #00ff00; font-style: italic\">True</span>                                                │\n",
       "│   Common Attributes      <span style=\"font-weight: bold\">(</span><span style=\"color: #008000; text-decoration-color: #008000\">'id'</span>, <span style=\"color: #008000; text-decoration-color: #008000\">'tensor'</span>, <span style=\"color: #008000; text-decoration-color: #008000\">'mime_type'</span>, <span style=\"color: #008000; text-decoration-color: #008000\">'uri'</span>, <span style=\"color: #008000; text-decoration-color: #008000\">'embedding'</span><span style=\"font-weight: bold\">)</span>   │\n",
       "│   Multimodal dataclass   <span style=\"color: #ff0000; text-decoration-color: #ff0000; font-style: italic\">False</span>                                               │\n",
       "│                                                                              │\n",
       "╰──────────────────────────────────────────────────────────────────────────────╯\n",
       "╭────────────────────── Attributes Summary ───────────────────────╮\n",
       "│                                                                 │\n",
       "│  <span style=\"font-weight: bold\"> Attribute </span> <span style=\"font-weight: bold\"> Data type    </span> <span style=\"font-weight: bold\"> #Unique values </span> <span style=\"font-weight: bold\"> Has empty value </span>  │\n",
       "│  ─────────────────────────────────────────────────────────────  │\n",
       "│   embedding   <span style=\"font-weight: bold\">(</span><span style=\"color: #008000; text-decoration-color: #008000\">'ndarray'</span>,<span style=\"font-weight: bold\">)</span>   <span style=\"color: #008080; text-decoration-color: #008080; font-weight: bold\">23599</span>            <span style=\"color: #ff0000; text-decoration-color: #ff0000; font-style: italic\">False</span>             │\n",
       "│   id          <span style=\"font-weight: bold\">(</span><span style=\"color: #008000; text-decoration-color: #008000\">'str'</span>,<span style=\"font-weight: bold\">)</span>       <span style=\"color: #008080; text-decoration-color: #008080; font-weight: bold\">23599</span>            <span style=\"color: #ff0000; text-decoration-color: #ff0000; font-style: italic\">False</span>             │\n",
       "│   mime_type   <span style=\"font-weight: bold\">(</span><span style=\"color: #008000; text-decoration-color: #008000\">'str'</span>,<span style=\"font-weight: bold\">)</span>       <span style=\"color: #008080; text-decoration-color: #008080; font-weight: bold\">1</span>                <span style=\"color: #ff0000; text-decoration-color: #ff0000; font-style: italic\">False</span>             │\n",
       "│   tensor      <span style=\"font-weight: bold\">(</span><span style=\"color: #008000; text-decoration-color: #008000\">'ndarray'</span>,<span style=\"font-weight: bold\">)</span>   <span style=\"color: #008080; text-decoration-color: #008080; font-weight: bold\">23599</span>            <span style=\"color: #ff0000; text-decoration-color: #ff0000; font-style: italic\">False</span>             │\n",
       "│   uri         <span style=\"font-weight: bold\">(</span><span style=\"color: #008000; text-decoration-color: #008000\">'str'</span>,<span style=\"font-weight: bold\">)</span>       <span style=\"color: #008080; text-decoration-color: #008080; font-weight: bold\">23599</span>            <span style=\"color: #ff0000; text-decoration-color: #ff0000; font-style: italic\">False</span>             │\n",
       "│                                                                 │\n",
       "╰─────────────────────────────────────────────────────────────────╯\n",
       "</pre>\n"
      ],
      "text/plain": [
       "╭───────────────────────────── Documents Summary ──────────────────────────────╮\n",
       "│                                                                              │\n",
       "│   Type                   DocumentArrayInMemory                               │\n",
       "│   Length                 \u001b[1;36m23599\u001b[0m                                               │\n",
       "│   Homogenous Documents   \u001b[3;92mTrue\u001b[0m                                                │\n",
       "│   Common Attributes      \u001b[1m(\u001b[0m\u001b[32m'id'\u001b[0m, \u001b[32m'tensor'\u001b[0m, \u001b[32m'mime_type'\u001b[0m, \u001b[32m'uri'\u001b[0m, \u001b[32m'embedding'\u001b[0m\u001b[1m)\u001b[0m   │\n",
       "│   Multimodal dataclass   \u001b[3;91mFalse\u001b[0m                                               │\n",
       "│                                                                              │\n",
       "╰──────────────────────────────────────────────────────────────────────────────╯\n",
       "╭────────────────────── Attributes Summary ───────────────────────╮\n",
       "│                                                                 │\n",
       "│  \u001b[1m \u001b[0m\u001b[1mAttribute\u001b[0m\u001b[1m \u001b[0m \u001b[1m \u001b[0m\u001b[1mData type   \u001b[0m\u001b[1m \u001b[0m \u001b[1m \u001b[0m\u001b[1m#Unique values\u001b[0m\u001b[1m \u001b[0m \u001b[1m \u001b[0m\u001b[1mHas empty value\u001b[0m\u001b[1m \u001b[0m  │\n",
       "│  ─────────────────────────────────────────────────────────────  │\n",
       "│   embedding   \u001b[1m(\u001b[0m\u001b[32m'ndarray'\u001b[0m,\u001b[1m)\u001b[0m   \u001b[1;36m23599\u001b[0m            \u001b[3;91mFalse\u001b[0m             │\n",
       "│   id          \u001b[1m(\u001b[0m\u001b[32m'str'\u001b[0m,\u001b[1m)\u001b[0m       \u001b[1;36m23599\u001b[0m            \u001b[3;91mFalse\u001b[0m             │\n",
       "│   mime_type   \u001b[1m(\u001b[0m\u001b[32m'str'\u001b[0m,\u001b[1m)\u001b[0m       \u001b[1;36m1\u001b[0m                \u001b[3;91mFalse\u001b[0m             │\n",
       "│   tensor      \u001b[1m(\u001b[0m\u001b[32m'ndarray'\u001b[0m,\u001b[1m)\u001b[0m   \u001b[1;36m23599\u001b[0m            \u001b[3;91mFalse\u001b[0m             │\n",
       "│   uri         \u001b[1m(\u001b[0m\u001b[32m'str'\u001b[0m,\u001b[1m)\u001b[0m       \u001b[1;36m23599\u001b[0m            \u001b[3;91mFalse\u001b[0m             │\n",
       "│                                                                 │\n",
       "╰─────────────────────────────────────────────────────────────────╯\n"
      ]
     },
     "metadata": {},
     "output_type": "display_data"
    }
   ],
   "source": [
    "unsplash_lite_img_emb_da.summary()"
   ]
  },
  {
   "cell_type": "markdown",
   "id": "756064a0",
   "metadata": {},
   "source": [
    "##### remove all tensors to decrease the size of embeddings"
   ]
  },
  {
   "cell_type": "code",
   "execution_count": 36,
   "id": "bb0a77ec",
   "metadata": {},
   "outputs": [
    {
     "data": {
      "text/html": [
       "<pre style=\"white-space:pre;overflow-x:auto;line-height:normal;font-family:Menlo,'DejaVu Sans Mono',consolas,'Courier New',monospace\">╭──────────────────────── Documents Summary ─────────────────────────╮\n",
       "│                                                                    │\n",
       "│   Type                   DocumentArrayInMemory                     │\n",
       "│   Length                 <span style=\"color: #008080; text-decoration-color: #008080; font-weight: bold\">23599</span>                                     │\n",
       "│   Homogenous Documents   <span style=\"color: #00ff00; text-decoration-color: #00ff00; font-style: italic\">True</span>                                      │\n",
       "│   Common Attributes      <span style=\"font-weight: bold\">(</span><span style=\"color: #008000; text-decoration-color: #008000\">'id'</span>, <span style=\"color: #008000; text-decoration-color: #008000\">'mime_type'</span>, <span style=\"color: #008000; text-decoration-color: #008000\">'uri'</span>, <span style=\"color: #008000; text-decoration-color: #008000\">'embedding'</span><span style=\"font-weight: bold\">)</span>   │\n",
       "│   Multimodal dataclass   <span style=\"color: #ff0000; text-decoration-color: #ff0000; font-style: italic\">False</span>                                     │\n",
       "│                                                                    │\n",
       "╰────────────────────────────────────────────────────────────────────╯\n",
       "╭────────────────────── Attributes Summary ───────────────────────╮\n",
       "│                                                                 │\n",
       "│  <span style=\"font-weight: bold\"> Attribute </span> <span style=\"font-weight: bold\"> Data type    </span> <span style=\"font-weight: bold\"> #Unique values </span> <span style=\"font-weight: bold\"> Has empty value </span>  │\n",
       "│  ─────────────────────────────────────────────────────────────  │\n",
       "│   embedding   <span style=\"font-weight: bold\">(</span><span style=\"color: #008000; text-decoration-color: #008000\">'ndarray'</span>,<span style=\"font-weight: bold\">)</span>   <span style=\"color: #008080; text-decoration-color: #008080; font-weight: bold\">23599</span>            <span style=\"color: #ff0000; text-decoration-color: #ff0000; font-style: italic\">False</span>             │\n",
       "│   id          <span style=\"font-weight: bold\">(</span><span style=\"color: #008000; text-decoration-color: #008000\">'str'</span>,<span style=\"font-weight: bold\">)</span>       <span style=\"color: #008080; text-decoration-color: #008080; font-weight: bold\">23599</span>            <span style=\"color: #ff0000; text-decoration-color: #ff0000; font-style: italic\">False</span>             │\n",
       "│   mime_type   <span style=\"font-weight: bold\">(</span><span style=\"color: #008000; text-decoration-color: #008000\">'str'</span>,<span style=\"font-weight: bold\">)</span>       <span style=\"color: #008080; text-decoration-color: #008080; font-weight: bold\">1</span>                <span style=\"color: #ff0000; text-decoration-color: #ff0000; font-style: italic\">False</span>             │\n",
       "│   uri         <span style=\"font-weight: bold\">(</span><span style=\"color: #008000; text-decoration-color: #008000\">'str'</span>,<span style=\"font-weight: bold\">)</span>       <span style=\"color: #008080; text-decoration-color: #008080; font-weight: bold\">23599</span>            <span style=\"color: #ff0000; text-decoration-color: #ff0000; font-style: italic\">False</span>             │\n",
       "│                                                                 │\n",
       "╰─────────────────────────────────────────────────────────────────╯\n",
       "</pre>\n"
      ],
      "text/plain": [
       "╭──────────────────────── Documents Summary ─────────────────────────╮\n",
       "│                                                                    │\n",
       "│   Type                   DocumentArrayInMemory                     │\n",
       "│   Length                 \u001b[1;36m23599\u001b[0m                                     │\n",
       "│   Homogenous Documents   \u001b[3;92mTrue\u001b[0m                                      │\n",
       "│   Common Attributes      \u001b[1m(\u001b[0m\u001b[32m'id'\u001b[0m, \u001b[32m'mime_type'\u001b[0m, \u001b[32m'uri'\u001b[0m, \u001b[32m'embedding'\u001b[0m\u001b[1m)\u001b[0m   │\n",
       "│   Multimodal dataclass   \u001b[3;91mFalse\u001b[0m                                     │\n",
       "│                                                                    │\n",
       "╰────────────────────────────────────────────────────────────────────╯\n",
       "╭────────────────────── Attributes Summary ───────────────────────╮\n",
       "│                                                                 │\n",
       "│  \u001b[1m \u001b[0m\u001b[1mAttribute\u001b[0m\u001b[1m \u001b[0m \u001b[1m \u001b[0m\u001b[1mData type   \u001b[0m\u001b[1m \u001b[0m \u001b[1m \u001b[0m\u001b[1m#Unique values\u001b[0m\u001b[1m \u001b[0m \u001b[1m \u001b[0m\u001b[1mHas empty value\u001b[0m\u001b[1m \u001b[0m  │\n",
       "│  ─────────────────────────────────────────────────────────────  │\n",
       "│   embedding   \u001b[1m(\u001b[0m\u001b[32m'ndarray'\u001b[0m,\u001b[1m)\u001b[0m   \u001b[1;36m23599\u001b[0m            \u001b[3;91mFalse\u001b[0m             │\n",
       "│   id          \u001b[1m(\u001b[0m\u001b[32m'str'\u001b[0m,\u001b[1m)\u001b[0m       \u001b[1;36m23599\u001b[0m            \u001b[3;91mFalse\u001b[0m             │\n",
       "│   mime_type   \u001b[1m(\u001b[0m\u001b[32m'str'\u001b[0m,\u001b[1m)\u001b[0m       \u001b[1;36m1\u001b[0m                \u001b[3;91mFalse\u001b[0m             │\n",
       "│   uri         \u001b[1m(\u001b[0m\u001b[32m'str'\u001b[0m,\u001b[1m)\u001b[0m       \u001b[1;36m23599\u001b[0m            \u001b[3;91mFalse\u001b[0m             │\n",
       "│                                                                 │\n",
       "╰─────────────────────────────────────────────────────────────────╯\n"
      ]
     },
     "metadata": {},
     "output_type": "display_data"
    }
   ],
   "source": [
    "#remove all tensors to decrease the size of embeddings\n",
    "del unsplash_lite_img_emb_da[:, 'tensor']\n",
    "\n",
    "unsplash_lite_img_emb_da.summary()"
   ]
  },
  {
   "cell_type": "markdown",
   "id": "d3255991",
   "metadata": {},
   "source": [
    "#### Convert local URI to Online URI, so we can show images directly from Online "
   ]
  },
  {
   "cell_type": "code",
   "execution_count": 37,
   "id": "3c5f99f3",
   "metadata": {},
   "outputs": [],
   "source": [
    "for doc in unsplash_lite_img_emb_da:\n",
    "    try:\n",
    "#         print(\"original:\", doc.uri)\n",
    "        photo_id = str(str(doc.uri).split('/')[1]).split('.')[0]\n",
    "#         print(\"photo_id:\",photo_id)\n",
    "#         print(\"photo_image_url:\", photo_id_to_img_url_dict[photo_id])\n",
    "        doc.uri = photo_id_to_img_url_dict[photo_id]\n",
    "#         src_uri_unsplash_lite_emb_da.append(doc)\n",
    "    except:\n",
    "        print(\"couldn't convert=>\", doc.uri)\n",
    "        continue"
   ]
  },
  {
   "cell_type": "code",
   "execution_count": 38,
   "id": "5c2f4726",
   "metadata": {},
   "outputs": [
    {
     "data": {
      "text/html": [
       "<pre style=\"white-space:pre;overflow-x:auto;line-height:normal;font-family:Menlo,'DejaVu Sans Mono',consolas,'Courier New',monospace\">╭──────────────────────── Documents Summary ─────────────────────────╮\n",
       "│                                                                    │\n",
       "│   Type                   DocumentArrayInMemory                     │\n",
       "│   Length                 <span style=\"color: #008080; text-decoration-color: #008080; font-weight: bold\">23599</span>                                     │\n",
       "│   Homogenous Documents   <span style=\"color: #00ff00; text-decoration-color: #00ff00; font-style: italic\">True</span>                                      │\n",
       "│   Common Attributes      <span style=\"font-weight: bold\">(</span><span style=\"color: #008000; text-decoration-color: #008000\">'id'</span>, <span style=\"color: #008000; text-decoration-color: #008000\">'mime_type'</span>, <span style=\"color: #008000; text-decoration-color: #008000\">'uri'</span>, <span style=\"color: #008000; text-decoration-color: #008000\">'embedding'</span><span style=\"font-weight: bold\">)</span>   │\n",
       "│   Multimodal dataclass   <span style=\"color: #ff0000; text-decoration-color: #ff0000; font-style: italic\">False</span>                                     │\n",
       "│                                                                    │\n",
       "╰────────────────────────────────────────────────────────────────────╯\n",
       "╭────────────────────── Attributes Summary ───────────────────────╮\n",
       "│                                                                 │\n",
       "│  <span style=\"font-weight: bold\"> Attribute </span> <span style=\"font-weight: bold\"> Data type    </span> <span style=\"font-weight: bold\"> #Unique values </span> <span style=\"font-weight: bold\"> Has empty value </span>  │\n",
       "│  ─────────────────────────────────────────────────────────────  │\n",
       "│   embedding   <span style=\"font-weight: bold\">(</span><span style=\"color: #008000; text-decoration-color: #008000\">'ndarray'</span>,<span style=\"font-weight: bold\">)</span>   <span style=\"color: #008080; text-decoration-color: #008080; font-weight: bold\">23599</span>            <span style=\"color: #ff0000; text-decoration-color: #ff0000; font-style: italic\">False</span>             │\n",
       "│   id          <span style=\"font-weight: bold\">(</span><span style=\"color: #008000; text-decoration-color: #008000\">'str'</span>,<span style=\"font-weight: bold\">)</span>       <span style=\"color: #008080; text-decoration-color: #008080; font-weight: bold\">23599</span>            <span style=\"color: #ff0000; text-decoration-color: #ff0000; font-style: italic\">False</span>             │\n",
       "│   mime_type   <span style=\"font-weight: bold\">(</span><span style=\"color: #008000; text-decoration-color: #008000\">'str'</span>,<span style=\"font-weight: bold\">)</span>       <span style=\"color: #008080; text-decoration-color: #008080; font-weight: bold\">2</span>                <span style=\"color: #ff0000; text-decoration-color: #ff0000; font-style: italic\">False</span>             │\n",
       "│   uri         <span style=\"font-weight: bold\">(</span><span style=\"color: #008000; text-decoration-color: #008000\">'str'</span>,<span style=\"font-weight: bold\">)</span>       <span style=\"color: #008080; text-decoration-color: #008080; font-weight: bold\">23599</span>            <span style=\"color: #ff0000; text-decoration-color: #ff0000; font-style: italic\">False</span>             │\n",
       "│                                                                 │\n",
       "╰─────────────────────────────────────────────────────────────────╯\n",
       "</pre>\n"
      ],
      "text/plain": [
       "╭──────────────────────── Documents Summary ─────────────────────────╮\n",
       "│                                                                    │\n",
       "│   Type                   DocumentArrayInMemory                     │\n",
       "│   Length                 \u001b[1;36m23599\u001b[0m                                     │\n",
       "│   Homogenous Documents   \u001b[3;92mTrue\u001b[0m                                      │\n",
       "│   Common Attributes      \u001b[1m(\u001b[0m\u001b[32m'id'\u001b[0m, \u001b[32m'mime_type'\u001b[0m, \u001b[32m'uri'\u001b[0m, \u001b[32m'embedding'\u001b[0m\u001b[1m)\u001b[0m   │\n",
       "│   Multimodal dataclass   \u001b[3;91mFalse\u001b[0m                                     │\n",
       "│                                                                    │\n",
       "╰────────────────────────────────────────────────────────────────────╯\n",
       "╭────────────────────── Attributes Summary ───────────────────────╮\n",
       "│                                                                 │\n",
       "│  \u001b[1m \u001b[0m\u001b[1mAttribute\u001b[0m\u001b[1m \u001b[0m \u001b[1m \u001b[0m\u001b[1mData type   \u001b[0m\u001b[1m \u001b[0m \u001b[1m \u001b[0m\u001b[1m#Unique values\u001b[0m\u001b[1m \u001b[0m \u001b[1m \u001b[0m\u001b[1mHas empty value\u001b[0m\u001b[1m \u001b[0m  │\n",
       "│  ─────────────────────────────────────────────────────────────  │\n",
       "│   embedding   \u001b[1m(\u001b[0m\u001b[32m'ndarray'\u001b[0m,\u001b[1m)\u001b[0m   \u001b[1;36m23599\u001b[0m            \u001b[3;91mFalse\u001b[0m             │\n",
       "│   id          \u001b[1m(\u001b[0m\u001b[32m'str'\u001b[0m,\u001b[1m)\u001b[0m       \u001b[1;36m23599\u001b[0m            \u001b[3;91mFalse\u001b[0m             │\n",
       "│   mime_type   \u001b[1m(\u001b[0m\u001b[32m'str'\u001b[0m,\u001b[1m)\u001b[0m       \u001b[1;36m2\u001b[0m                \u001b[3;91mFalse\u001b[0m             │\n",
       "│   uri         \u001b[1m(\u001b[0m\u001b[32m'str'\u001b[0m,\u001b[1m)\u001b[0m       \u001b[1;36m23599\u001b[0m            \u001b[3;91mFalse\u001b[0m             │\n",
       "│                                                                 │\n",
       "╰─────────────────────────────────────────────────────────────────╯\n"
      ]
     },
     "metadata": {},
     "output_type": "display_data"
    }
   ],
   "source": [
    "unsplash_lite_img_emb_da.summary()"
   ]
  },
  {
   "cell_type": "code",
   "execution_count": 39,
   "id": "c92b847d",
   "metadata": {},
   "outputs": [
    {
     "data": {
      "text/html": [
       "<pre style=\"white-space:pre;overflow-x:auto;line-height:normal;font-family:Menlo,'DejaVu Sans Mono',consolas,'Courier New',monospace\">📄 <span style=\"font-weight: bold\">Document</span>: <span style=\"color: #008080; text-decoration-color: #008080\">f7c16e033ebcfe832e6ee49300a2ccca</span>\n",
       "╭───────────┬──────────────────────────────────────────────────────────────────╮\n",
       "│<span style=\"font-weight: bold\"> Attribute </span>│<span style=\"font-weight: bold\"> Value                                                            </span>│\n",
       "├───────────┼──────────────────────────────────────────────────────────────────┤\n",
       "│ mime_type │ image/jpeg                                                       │\n",
       "│ uri       │ <span style=\"color: #0000ff; text-decoration-color: #0000ff; text-decoration: underline\">https://images.unsplash.com/photo-1566296906137-2367d1561746</span>     │\n",
       "│ embedding │ <span style=\"color: #cb97ff; text-decoration-color: #cb97ff; background-color: #cb97ff\">▄</span><span style=\"color: #cb98ff; text-decoration-color: #cb98ff; background-color: #cb98ff\">▄</span><span style=\"color: #c994ff; text-decoration-color: #c994ff; background-color: #c994ff\">▄</span><span style=\"color: #c892fe; text-decoration-color: #c892fe; background-color: #c892fe\">▄</span><span style=\"color: #d4a9ff; text-decoration-color: #d4a9ff; background-color: #d4a9ff\">▄</span><span style=\"color: #ca96ff; text-decoration-color: #ca96ff; background-color: #ca96ff\">▄</span><span style=\"color: #c993fe; text-decoration-color: #c993fe; background-color: #c993fe\">▄</span><span style=\"color: #d8b1ff; text-decoration-color: #d8b1ff; background-color: #d8b1ff\">▄</span><span style=\"color: #d0a1ff; text-decoration-color: #d0a1ff; background-color: #d0a1ff\">▄</span><span style=\"color: #c68dff; text-decoration-color: #c68dff; background-color: #c68dff\">▄</span><span style=\"color: #ca96ff; text-decoration-color: #ca96ff; background-color: #ca96ff\">▄</span><span style=\"color: #c78fff; text-decoration-color: #c78fff; background-color: #c78fff\">▄</span><span style=\"color: #ce9dff; text-decoration-color: #ce9dff; background-color: #ce9dff\">▄</span><span style=\"color: #c388fe; text-decoration-color: #c388fe; background-color: #c388fe\">▄</span><span style=\"color: #d1a3ff; text-decoration-color: #d1a3ff; background-color: #d1a3ff\">▄</span><span style=\"color: #ca95fe; text-decoration-color: #ca95fe; background-color: #ca95fe\">▄</span><span style=\"color: #c78fff; text-decoration-color: #c78fff; background-color: #c78fff\">▄</span><span style=\"color: #ce9dff; text-decoration-color: #ce9dff; background-color: #ce9dff\">▄</span><span style=\"color: #cf9fff; text-decoration-color: #cf9fff; background-color: #cf9fff\">▄</span><span style=\"color: #d2a5ff; text-decoration-color: #d2a5ff; background-color: #d2a5ff\">▄</span><span style=\"color: #d6aefe; text-decoration-color: #d6aefe; background-color: #d6aefe\">▄</span><span style=\"color: #cf9ffe; text-decoration-color: #cf9ffe; background-color: #cf9ffe\">▄</span><span style=\"color: #c68dff; text-decoration-color: #c68dff; background-color: #c68dff\">▄</span><span style=\"color: #c891ff; text-decoration-color: #c891ff; background-color: #c891ff\">▄</span><span style=\"color: #c994fe; text-decoration-color: #c994fe; background-color: #c994fe\">▄</span><span style=\"color: #c993ff; text-decoration-color: #c993ff; background-color: #c993ff\">▄</span><span style=\"color: #ca96ff; text-decoration-color: #ca96ff; background-color: #ca96ff\">▄</span><span style=\"color: #c388ff; text-decoration-color: #c388ff; background-color: #c388ff\">▄</span><span style=\"color: #c68efe; text-decoration-color: #c68efe; background-color: #c68efe\">▄</span><span style=\"color: #cc9afe; text-decoration-color: #cc9afe; background-color: #cc9afe\">▄</span><span style=\"color: #c387ff; text-decoration-color: #c387ff; background-color: #c387ff\">▄</span><span style=\"color: #d5acff; text-decoration-color: #d5acff; background-color: #d5acff\">▄</span><span style=\"color: #ce9efe; text-decoration-color: #ce9efe; background-color: #ce9efe\">▄</span><span style=\"color: #d1a3fe; text-decoration-color: #d1a3fe; background-color: #d1a3fe\">▄</span><span style=\"color: #c891ff; text-decoration-color: #c891ff; background-color: #c891ff\">▄</span><span style=\"color: #c994ff; text-decoration-color: #c994ff; background-color: #c994ff\">▄▄</span><span style=\"color: #cb98ff; text-decoration-color: #cb98ff; background-color: #cb98ff\">▄</span><span style=\"color: #c48aff; text-decoration-color: #c48aff; background-color: #c48aff\">▄</span><span style=\"color: #b164ff; text-decoration-color: #b164ff; background-color: #b164ff\">▄</span><span style=\"color: #c184ff; text-decoration-color: #c184ff; background-color: #c184ff\">▄</span><span style=\"color: #ca95fe; text-decoration-color: #ca95fe; background-color: #ca95fe\">▄</span><span style=\"color: #c387ff; text-decoration-color: #c387ff; background-color: #c387ff\">▄</span><span style=\"color: #cb97ff; text-decoration-color: #cb97ff; background-color: #cb97ff\">▄</span><span style=\"color: #ce9eff; text-decoration-color: #ce9eff; background-color: #ce9eff\">▄</span><span style=\"color: #b770ff; text-decoration-color: #b770ff; background-color: #b770ff\">▄</span><span style=\"color: #ca96ff; text-decoration-color: #ca96ff; background-color: #ca96ff\">▄▄▄</span><span style=\"color: #cfa0ff; text-decoration-color: #cfa0ff; background-color: #cfa0ff\">▄</span><span style=\"color: #ce9dff; text-decoration-color: #ce9dff; background-color: #ce9dff\">▄</span><span style=\"color: #c891ff; text-decoration-color: #c891ff; background-color: #c891ff\">▄</span><span style=\"color: #ce9eff; text-decoration-color: #ce9eff; background-color: #ce9eff\">▄</span><span style=\"color: #d2a6ff; text-decoration-color: #d2a6ff; background-color: #d2a6ff\">▄</span><span style=\"color: #c68eff; text-decoration-color: #c68eff; background-color: #c68eff\">▄</span><span style=\"color: #c994fe; text-decoration-color: #c994fe; background-color: #c994fe\">▄</span><span style=\"color: #ca96ff; text-decoration-color: #ca96ff; background-color: #ca96ff\">▄</span><span style=\"color: #cd9bff; text-decoration-color: #cd9bff; background-color: #cd9bff\">▄</span><span style=\"color: #cb97ff; text-decoration-color: #cb97ff; background-color: #cb97ff\">▄</span><span style=\"color: #d0a2ff; text-decoration-color: #d0a2ff; background-color: #d0a2ff\">▄</span><span style=\"color: #bd7cff; text-decoration-color: #bd7cff; background-color: #bd7cff\">▄</span><span style=\"color: #c790ff; text-decoration-color: #c790ff; background-color: #c790ff\">▄</span><span style=\"color: #ca95ff; text-decoration-color: #ca95ff; background-color: #ca95ff\">▄</span><span style=\"color: #ce9efe; text-decoration-color: #ce9efe; background-color: #ce9efe\">▄</span> │\n",
       "│           │ <span style=\"color: #cb98ff; text-decoration-color: #cb98ff; background-color: #cb98ff\">▄</span><span style=\"color: #cd9bff; text-decoration-color: #cd9bff; background-color: #cd9bff\">▄▄</span><span style=\"color: #c68eff; text-decoration-color: #c68eff; background-color: #c68eff\">▄</span><span style=\"color: #c993ff; text-decoration-color: #c993ff; background-color: #c993ff\">▄</span><span style=\"color: #c48afe; text-decoration-color: #c48afe; background-color: #c48afe\">▄</span><span style=\"color: #c993ff; text-decoration-color: #c993ff; background-color: #c993ff\">▄</span><span style=\"color: #cb98ff; text-decoration-color: #cb98ff; background-color: #cb98ff\">▄</span><span style=\"color: #c58cff; text-decoration-color: #c58cff; background-color: #c58cff\">▄</span><span style=\"color: #c387ff; text-decoration-color: #c387ff; background-color: #c387ff\">▄</span><span style=\"color: #c68eff; text-decoration-color: #c68eff; background-color: #c68eff\">▄</span><span style=\"color: #c58bff; text-decoration-color: #c58bff; background-color: #c58bff\">▄</span><span style=\"color: #c993ff; text-decoration-color: #c993ff; background-color: #c993ff\">▄</span><span style=\"color: #ca96ff; text-decoration-color: #ca96ff; background-color: #ca96ff\">▄</span><span style=\"color: #c892ff; text-decoration-color: #c892ff; background-color: #c892ff\">▄</span><span style=\"color: #c994ff; text-decoration-color: #c994ff; background-color: #c994ff\">▄</span><span style=\"color: #c68eff; text-decoration-color: #c68eff; background-color: #c68eff\">▄</span><span style=\"color: #cc9aff; text-decoration-color: #cc9aff; background-color: #cc9aff\">▄▄</span><span style=\"color: #cb97ff; text-decoration-color: #cb97ff; background-color: #cb97ff\">▄</span><span style=\"color: #cd9bff; text-decoration-color: #cd9bff; background-color: #cd9bff\">▄</span><span style=\"color: #c68eff; text-decoration-color: #c68eff; background-color: #c68eff\">▄</span><span style=\"color: #c892fe; text-decoration-color: #c892fe; background-color: #c892fe\">▄</span><span style=\"color: #d0a2ff; text-decoration-color: #d0a2ff; background-color: #d0a2ff\">▄</span><span style=\"color: #c790ff; text-decoration-color: #c790ff; background-color: #c790ff\">▄▄</span><span style=\"color: #ce9dff; text-decoration-color: #ce9dff; background-color: #ce9dff\">▄</span><span style=\"color: #2b0056; text-decoration-color: #2b0056; background-color: #2b0056\">▄</span><span style=\"color: #cfa0ff; text-decoration-color: #cfa0ff; background-color: #cfa0ff\">▄</span><span style=\"color: #c790ff; text-decoration-color: #c790ff; background-color: #c790ff\">▄</span><span style=\"color: #cd9cff; text-decoration-color: #cd9cff; background-color: #cd9cff\">▄</span><span style=\"color: #c993ff; text-decoration-color: #c993ff; background-color: #c993ff\">▄</span><span style=\"color: #c68eff; text-decoration-color: #c68eff; background-color: #c68eff\">▄</span><span style=\"color: #b973ff; text-decoration-color: #b973ff; background-color: #b973ff\">▄</span><span style=\"color: #ae5dff; text-decoration-color: #ae5dff; background-color: #ae5dff\">▄</span><span style=\"color: #cd9cff; text-decoration-color: #cd9cff; background-color: #cd9cff\">▄</span><span style=\"color: #cb98ff; text-decoration-color: #cb98ff; background-color: #cb98ff\">▄</span><span style=\"color: #c78fff; text-decoration-color: #c78fff; background-color: #c78fff\">▄</span><span style=\"color: #d0a2ff; text-decoration-color: #d0a2ff; background-color: #d0a2ff\">▄</span><span style=\"color: #d5acff; text-decoration-color: #d5acff; background-color: #d5acff\">▄</span><span style=\"color: #cc9aff; text-decoration-color: #cc9aff; background-color: #cc9aff\">▄</span><span style=\"color: #c184fe; text-decoration-color: #c184fe; background-color: #c184fe\">▄</span><span style=\"color: #c790ff; text-decoration-color: #c790ff; background-color: #c790ff\">▄</span><span style=\"color: #cb98ff; text-decoration-color: #cb98ff; background-color: #cb98ff\">▄</span><span style=\"color: #c68dff; text-decoration-color: #c68dff; background-color: #c68dff\">▄</span><span style=\"color: #be7dff; text-decoration-color: #be7dff; background-color: #be7dff\">▄</span><span style=\"color: #ca95ff; text-decoration-color: #ca95ff; background-color: #ca95ff\">▄</span><span style=\"color: #cb98ff; text-decoration-color: #cb98ff; background-color: #cb98ff\">▄</span><span style=\"color: #c489ff; text-decoration-color: #c489ff; background-color: #c489ff\">▄</span><span style=\"color: #c68dff; text-decoration-color: #c68dff; background-color: #c68dff\">▄</span><span style=\"color: #c993fe; text-decoration-color: #c993fe; background-color: #c993fe\">▄</span><span style=\"color: #c790ff; text-decoration-color: #c790ff; background-color: #c790ff\">▄</span><span style=\"color: #c489fe; text-decoration-color: #c489fe; background-color: #c489fe\">▄</span><span style=\"color: #ca96fe; text-decoration-color: #ca96fe; background-color: #ca96fe\">▄</span><span style=\"color: #cc9aff; text-decoration-color: #cc9aff; background-color: #cc9aff\">▄</span><span style=\"color: #c892ff; text-decoration-color: #c892ff; background-color: #c892ff\">▄</span><span style=\"color: #cfa0fe; text-decoration-color: #cfa0fe; background-color: #cfa0fe\">▄</span><span style=\"color: #d1a3fe; text-decoration-color: #d1a3fe; background-color: #d1a3fe\">▄</span><span style=\"color: #c285ff; text-decoration-color: #c285ff; background-color: #c285ff\">▄</span><span style=\"color: #c78ffe; text-decoration-color: #c78ffe; background-color: #c78ffe\">▄</span><span style=\"color: #c993ff; text-decoration-color: #c993ff; background-color: #c993ff\">▄</span><span style=\"color: #c892ff; text-decoration-color: #c892ff; background-color: #c892ff\">▄</span><span style=\"color: #ca95ff; text-decoration-color: #ca95ff; background-color: #ca95ff\">▄</span><span style=\"color: #cb98ff; text-decoration-color: #cb98ff; background-color: #cb98ff\">▄</span> │\n",
       "│           │ <span style=\"color: #cb98ff; text-decoration-color: #cb98ff; background-color: #cb98ff\">▄</span><span style=\"color: #cd9bff; text-decoration-color: #cd9bff; background-color: #cd9bff\">▄</span><span style=\"color: #cc99ff; text-decoration-color: #cc99ff; background-color: #cc99ff\">▄</span><span style=\"color: #ce9dff; text-decoration-color: #ce9dff; background-color: #ce9dff\">▄</span><span style=\"color: #dcbaff; text-decoration-color: #dcbaff; background-color: #dcbaff\">▄</span><span style=\"color: #c892ff; text-decoration-color: #c892ff; background-color: #c892ff\">▄</span><span style=\"color: #c790ff; text-decoration-color: #c790ff; background-color: #c790ff\">▄</span><span style=\"color: #c68eff; text-decoration-color: #c68eff; background-color: #c68eff\">▄</span><span style=\"color: #c286ff; text-decoration-color: #c286ff; background-color: #c286ff\">▄</span><span style=\"color: #c892ff; text-decoration-color: #c892ff; background-color: #c892ff\">▄</span><span style=\"color: #ca96ff; text-decoration-color: #ca96ff; background-color: #ca96ff\">▄</span><span style=\"color: #c388ff; text-decoration-color: #c388ff; background-color: #c388ff\">▄</span><span style=\"color: #ca96ff; text-decoration-color: #ca96ff; background-color: #ca96ff\">▄</span><span style=\"color: #cd9bfe; text-decoration-color: #cd9bfe; background-color: #cd9bfe\">▄</span><span style=\"color: #c58bff; text-decoration-color: #c58bff; background-color: #c58bff\">▄</span><span style=\"color: #c892ff; text-decoration-color: #c892ff; background-color: #c892ff\">▄</span><span style=\"color: #cd9bff; text-decoration-color: #cd9bff; background-color: #cd9bff\">▄</span><span style=\"color: #c790ff; text-decoration-color: #c790ff; background-color: #c790ff\">▄</span><span style=\"color: #d1a3ff; text-decoration-color: #d1a3ff; background-color: #d1a3ff\">▄</span><span style=\"color: #c58bff; text-decoration-color: #c58bff; background-color: #c58bff\">▄</span><span style=\"color: #cb97ff; text-decoration-color: #cb97ff; background-color: #cb97ff\">▄</span><span style=\"color: #c993ff; text-decoration-color: #c993ff; background-color: #c993ff\">▄</span><span style=\"color: #c78ffe; text-decoration-color: #c78ffe; background-color: #c78ffe\">▄</span><span style=\"color: #dbb8ff; text-decoration-color: #dbb8ff; background-color: #dbb8ff\">▄</span><span style=\"color: #c790ff; text-decoration-color: #c790ff; background-color: #c790ff\">▄</span><span style=\"color: #ca95fe; text-decoration-color: #ca95fe; background-color: #ca95fe\">▄</span><span style=\"color: #c183ff; text-decoration-color: #c183ff; background-color: #c183ff\">▄</span><span style=\"color: #cfa0ff; text-decoration-color: #cfa0ff; background-color: #cfa0ff\">▄</span><span style=\"color: #c68dff; text-decoration-color: #c68dff; background-color: #c68dff\">▄</span><span style=\"color: #cb98ff; text-decoration-color: #cb98ff; background-color: #cb98ff\">▄</span><span style=\"color: #cb98fe; text-decoration-color: #cb98fe; background-color: #cb98fe\">▄</span><span style=\"color: #c388fe; text-decoration-color: #c388fe; background-color: #c388fe\">▄</span><span style=\"color: #c388ff; text-decoration-color: #c388ff; background-color: #c388ff\">▄</span><span style=\"color: #c892ff; text-decoration-color: #c892ff; background-color: #c892ff\">▄</span><span style=\"color: #c68efe; text-decoration-color: #c68efe; background-color: #c68efe\">▄</span><span style=\"color: #cd9cff; text-decoration-color: #cd9cff; background-color: #cd9cff\">▄</span><span style=\"color: #c993ff; text-decoration-color: #c993ff; background-color: #c993ff\">▄</span><span style=\"color: #cc99fe; text-decoration-color: #cc99fe; background-color: #cc99fe\">▄</span><span style=\"color: #cfa0ff; text-decoration-color: #cfa0ff; background-color: #cfa0ff\">▄▄</span><span style=\"color: #c68eff; text-decoration-color: #c68eff; background-color: #c68eff\">▄</span><span style=\"color: #c790ff; text-decoration-color: #c790ff; background-color: #c790ff\">▄</span><span style=\"color: #cb98fe; text-decoration-color: #cb98fe; background-color: #cb98fe\">▄</span><span style=\"color: #ca95fe; text-decoration-color: #ca95fe; background-color: #ca95fe\">▄</span><span style=\"color: #ca96ff; text-decoration-color: #ca96ff; background-color: #ca96ff\">▄</span><span style=\"color: #ca95ff; text-decoration-color: #ca95ff; background-color: #ca95ff\">▄</span><span style=\"color: #c78fff; text-decoration-color: #c78fff; background-color: #c78fff\">▄</span><span style=\"color: #cd9cff; text-decoration-color: #cd9cff; background-color: #cd9cff\">▄</span><span style=\"color: #cc9aff; text-decoration-color: #cc9aff; background-color: #cc9aff\">▄</span><span style=\"color: #c183ff; text-decoration-color: #c183ff; background-color: #c183ff\">▄</span><span style=\"color: #cd9bff; text-decoration-color: #cd9bff; background-color: #cd9bff\">▄</span><span style=\"color: #d0a1ff; text-decoration-color: #d0a1ff; background-color: #d0a1ff\">▄</span><span style=\"color: #c891ff; text-decoration-color: #c891ff; background-color: #c891ff\">▄</span><span style=\"color: #c387ff; text-decoration-color: #c387ff; background-color: #c387ff\">▄</span><span style=\"color: #cc9aff; text-decoration-color: #cc9aff; background-color: #cc9aff\">▄</span><span style=\"color: #c58cff; text-decoration-color: #c58cff; background-color: #c58cff\">▄</span><span style=\"color: #c68dff; text-decoration-color: #c68dff; background-color: #c68dff\">▄</span><span style=\"color: #cc99ff; text-decoration-color: #cc99ff; background-color: #cc99ff\">▄</span><span style=\"color: #ca95ff; text-decoration-color: #ca95ff; background-color: #ca95ff\">▄</span><span style=\"color: #cb97fe; text-decoration-color: #cb97fe; background-color: #cb97fe\">▄</span><span style=\"color: #cf9fff; text-decoration-color: #cf9fff; background-color: #cf9fff\">▄</span><span style=\"color: #c68efe; text-decoration-color: #c68efe; background-color: #c68efe\">▄</span><span style=\"color: #ce9dff; text-decoration-color: #ce9dff; background-color: #ce9dff\">▄</span><span style=\"color: #c891ff; text-decoration-color: #c891ff; background-color: #c891ff\">▄</span> │\n",
       "│           │ <span style=\"color: #cc99fe; text-decoration-color: #cc99fe; background-color: #cc99fe\">▄</span><span style=\"color: #c388ff; text-decoration-color: #c388ff; background-color: #c388ff\">▄</span><span style=\"color: #c489ff; text-decoration-color: #c489ff; background-color: #c489ff\">▄</span><span style=\"color: #cfa0ff; text-decoration-color: #cfa0ff; background-color: #cfa0ff\">▄</span><span style=\"color: #c489ff; text-decoration-color: #c489ff; background-color: #c489ff\">▄</span><span style=\"color: #cfa0ff; text-decoration-color: #cfa0ff; background-color: #cfa0ff\">▄</span><span style=\"color: #c489ff; text-decoration-color: #c489ff; background-color: #c489ff\">▄</span><span style=\"color: #cc9aff; text-decoration-color: #cc9aff; background-color: #cc9aff\">▄</span><span style=\"color: #c993ff; text-decoration-color: #c993ff; background-color: #c993ff\">▄</span><span style=\"color: #ce9eff; text-decoration-color: #ce9eff; background-color: #ce9eff\">▄</span><span style=\"color: #c68efe; text-decoration-color: #c68efe; background-color: #c68efe\">▄</span><span style=\"color: #ca95fe; text-decoration-color: #ca95fe; background-color: #ca95fe\">▄</span><span style=\"color: #c58bfe; text-decoration-color: #c58bfe; background-color: #c58bfe\">▄</span><span style=\"color: #ca96ff; text-decoration-color: #ca96ff; background-color: #ca96ff\">▄</span><span style=\"color: #ca95ff; text-decoration-color: #ca95ff; background-color: #ca95ff\">▄▄</span><span style=\"color: #cb98ff; text-decoration-color: #cb98ff; background-color: #cb98ff\">▄</span><span style=\"color: #c68eff; text-decoration-color: #c68eff; background-color: #c68eff\">▄</span><span style=\"color: #c78ffe; text-decoration-color: #c78ffe; background-color: #c78ffe\">▄</span><span style=\"color: #c68eff; text-decoration-color: #c68eff; background-color: #c68eff\">▄</span><span style=\"color: #ce9dff; text-decoration-color: #ce9dff; background-color: #ce9dff\">▄</span><span style=\"color: #cd9cff; text-decoration-color: #cd9cff; background-color: #cd9cff\">▄</span><span style=\"color: #ca95ff; text-decoration-color: #ca95ff; background-color: #ca95ff\">▄</span><span style=\"color: #ca96ff; text-decoration-color: #ca96ff; background-color: #ca96ff\">▄</span><span style=\"color: #c891fe; text-decoration-color: #c891fe; background-color: #c891fe\">▄</span><span style=\"color: #cb97fe; text-decoration-color: #cb97fe; background-color: #cb97fe\">▄</span><span style=\"color: #c790ff; text-decoration-color: #c790ff; background-color: #c790ff\">▄</span><span style=\"color: #d1a4ff; text-decoration-color: #d1a4ff; background-color: #d1a4ff\">▄</span><span style=\"color: #cb98ff; text-decoration-color: #cb98ff; background-color: #cb98ff\">▄</span><span style=\"color: #c58bfe; text-decoration-color: #c58bfe; background-color: #c58bfe\">▄</span><span style=\"color: #ce9eff; text-decoration-color: #ce9eff; background-color: #ce9eff\">▄</span><span style=\"color: #c892ff; text-decoration-color: #c892ff; background-color: #c892ff\">▄</span><span style=\"color: #cd9bff; text-decoration-color: #cd9bff; background-color: #cd9bff\">▄</span><span style=\"color: #ca96ff; text-decoration-color: #ca96ff; background-color: #ca96ff\">▄</span><span style=\"color: #c68dff; text-decoration-color: #c68dff; background-color: #c68dff\">▄</span><span style=\"color: #c58cff; text-decoration-color: #c58cff; background-color: #c58cff\">▄</span><span style=\"color: #cb97ff; text-decoration-color: #cb97ff; background-color: #cb97ff\">▄</span><span style=\"color: #c68eff; text-decoration-color: #c68eff; background-color: #c68eff\">▄</span><span style=\"color: #c48aff; text-decoration-color: #c48aff; background-color: #c48aff\">▄</span><span style=\"color: #cd9bff; text-decoration-color: #cd9bff; background-color: #cd9bff\">▄</span><span style=\"color: #d0a2ff; text-decoration-color: #d0a2ff; background-color: #d0a2ff\">▄</span><span style=\"color: #cd9bff; text-decoration-color: #cd9bff; background-color: #cd9bff\">▄</span><span style=\"color: #ce9dff; text-decoration-color: #ce9dff; background-color: #ce9dff\">▄</span><span style=\"color: #c993ff; text-decoration-color: #c993ff; background-color: #c993ff\">▄</span><span style=\"color: #cb97fe; text-decoration-color: #cb97fe; background-color: #cb97fe\">▄</span><span style=\"color: #c48aff; text-decoration-color: #c48aff; background-color: #c48aff\">▄</span><span style=\"color: #ca96ff; text-decoration-color: #ca96ff; background-color: #ca96ff\">▄</span><span style=\"color: #ca95ff; text-decoration-color: #ca95ff; background-color: #ca95ff\">▄</span><span style=\"color: #ce9dff; text-decoration-color: #ce9dff; background-color: #ce9dff\">▄</span><span style=\"color: #cfa0ff; text-decoration-color: #cfa0ff; background-color: #cfa0ff\">▄</span><span style=\"color: #cb97ff; text-decoration-color: #cb97ff; background-color: #cb97ff\">▄</span><span style=\"color: #c68dff; text-decoration-color: #c68dff; background-color: #c68dff\">▄</span><span style=\"color: #ba75ff; text-decoration-color: #ba75ff; background-color: #ba75ff\">▄</span><span style=\"color: #c891ff; text-decoration-color: #c891ff; background-color: #c891ff\">▄</span><span style=\"color: #cc9afe; text-decoration-color: #cc9afe; background-color: #cc9afe\">▄</span><span style=\"color: #cb98ff; text-decoration-color: #cb98ff; background-color: #cb98ff\">▄▄</span><span style=\"color: #c489fe; text-decoration-color: #c489fe; background-color: #c489fe\">▄</span><span style=\"color: #d1a3ff; text-decoration-color: #d1a3ff; background-color: #d1a3ff\">▄</span><span style=\"color: #cd9cff; text-decoration-color: #cd9cff; background-color: #cd9cff\">▄</span><span style=\"color: #c994ff; text-decoration-color: #c994ff; background-color: #c994ff\">▄</span><span style=\"color: #ca96fe; text-decoration-color: #ca96fe; background-color: #ca96fe\">▄</span><span style=\"color: #cf9ffe; text-decoration-color: #cf9ffe; background-color: #cf9ffe\">▄</span><span style=\"color: #c48aff; text-decoration-color: #c48aff; background-color: #c48aff\">▄</span> │\n",
       "│           │ <span style=\"color: #cd9bff; text-decoration-color: #cd9bff; background-color: #cd9bff\">▄</span><span style=\"color: #d1a4ff; text-decoration-color: #d1a4ff; background-color: #d1a4ff\">▄</span><span style=\"color: #c285ff; text-decoration-color: #c285ff; background-color: #c285ff\">▄</span><span style=\"color: #c790ff; text-decoration-color: #c790ff; background-color: #c790ff\">▄</span><span style=\"color: #cb98ff; text-decoration-color: #cb98ff; background-color: #cb98ff\">▄</span><span style=\"color: #c790ff; text-decoration-color: #c790ff; background-color: #c790ff\">▄</span><span style=\"color: #ddbcff; text-decoration-color: #ddbcff; background-color: #ddbcff\">▄</span><span style=\"color: #d3a8ff; text-decoration-color: #d3a8ff; background-color: #d3a8ff\">▄</span><span style=\"color: #c68dff; text-decoration-color: #c68dff; background-color: #c68dff\">▄</span><span style=\"color: #c387ff; text-decoration-color: #c387ff; background-color: #c387ff\">▄</span><span style=\"color: #ca96ff; text-decoration-color: #ca96ff; background-color: #ca96ff\">▄</span><span style=\"color: #c891fe; text-decoration-color: #c891fe; background-color: #c891fe\">▄</span><span style=\"color: #c892ff; text-decoration-color: #c892ff; background-color: #c892ff\">▄</span><span style=\"color: #cd9bff; text-decoration-color: #cd9bff; background-color: #cd9bff\">▄</span><span style=\"color: #cc9aff; text-decoration-color: #cc9aff; background-color: #cc9aff\">▄</span><span style=\"color: #d0a2ff; text-decoration-color: #d0a2ff; background-color: #d0a2ff\">▄</span><span style=\"color: #cb97ff; text-decoration-color: #cb97ff; background-color: #cb97ff\">▄</span><span style=\"color: #ca95ff; text-decoration-color: #ca95ff; background-color: #ca95ff\">▄</span><span style=\"color: #c891fe; text-decoration-color: #c891fe; background-color: #c891fe\">▄</span><span style=\"color: #cc9afe; text-decoration-color: #cc9afe; background-color: #cc9afe\">▄</span><span style=\"color: #c78fff; text-decoration-color: #c78fff; background-color: #c78fff\">▄</span><span style=\"color: #c892ff; text-decoration-color: #c892ff; background-color: #c892ff\">▄</span><span style=\"color: #ce9eff; text-decoration-color: #ce9eff; background-color: #ce9eff\">▄</span><span style=\"color: #cd9bff; text-decoration-color: #cd9bff; background-color: #cd9bff\">▄</span><span style=\"color: #d1a4fe; text-decoration-color: #d1a4fe; background-color: #d1a4fe\">▄</span><span style=\"color: #c68eff; text-decoration-color: #c68eff; background-color: #c68eff\">▄</span><span style=\"color: #c58cff; text-decoration-color: #c58cff; background-color: #c58cff\">▄</span><span style=\"color: #c48aff; text-decoration-color: #c48aff; background-color: #c48aff\">▄</span><span style=\"color: #ce9eff; text-decoration-color: #ce9eff; background-color: #ce9eff\">▄</span><span style=\"color: #ab57fe; text-decoration-color: #ab57fe; background-color: #ab57fe\">▄</span><span style=\"color: #cc99fe; text-decoration-color: #cc99fe; background-color: #cc99fe\">▄</span><span style=\"color: #cc99ff; text-decoration-color: #cc99ff; background-color: #cc99ff\">▄</span><span style=\"color: #c68eff; text-decoration-color: #c68eff; background-color: #c68eff\">▄</span><span style=\"color: #cc9aff; text-decoration-color: #cc9aff; background-color: #cc9aff\">▄</span><span style=\"color: #cb98ff; text-decoration-color: #cb98ff; background-color: #cb98ff\">▄</span><span style=\"color: #c993ff; text-decoration-color: #c993ff; background-color: #c993ff\">▄</span><span style=\"color: #ce9eff; text-decoration-color: #ce9eff; background-color: #ce9eff\">▄</span><span style=\"color: #c68dff; text-decoration-color: #c68dff; background-color: #c68dff\">▄</span><span style=\"color: #cc9aff; text-decoration-color: #cc9aff; background-color: #cc9aff\">▄</span><span style=\"color: #c994ff; text-decoration-color: #c994ff; background-color: #c994ff\">▄</span><span style=\"color: #c891ff; text-decoration-color: #c891ff; background-color: #c891ff\">▄</span><span style=\"color: #ca95ff; text-decoration-color: #ca95ff; background-color: #ca95ff\">▄</span><span style=\"color: #ca96ff; text-decoration-color: #ca96ff; background-color: #ca96ff\">▄</span><span style=\"color: #c892ff; text-decoration-color: #c892ff; background-color: #c892ff\">▄</span><span style=\"color: #c891ff; text-decoration-color: #c891ff; background-color: #c891ff\">▄</span><span style=\"color: #c790ff; text-decoration-color: #c790ff; background-color: #c790ff\">▄</span><span style=\"color: #c68eff; text-decoration-color: #c68eff; background-color: #c68eff\">▄</span><span style=\"color: #cc9aff; text-decoration-color: #cc9aff; background-color: #cc9aff\">▄</span><span style=\"color: #c58bfe; text-decoration-color: #c58bfe; background-color: #c58bfe\">▄</span><span style=\"color: #cc99ff; text-decoration-color: #cc99ff; background-color: #cc99ff\">▄</span><span style=\"color: #ce9dff; text-decoration-color: #ce9dff; background-color: #ce9dff\">▄</span><span style=\"color: #cc9aff; text-decoration-color: #cc9aff; background-color: #cc9aff\">▄</span><span style=\"color: #ca95ff; text-decoration-color: #ca95ff; background-color: #ca95ff\">▄</span><span style=\"color: #c58cff; text-decoration-color: #c58cff; background-color: #c58cff\">▄</span><span style=\"color: #d1a4ff; text-decoration-color: #d1a4ff; background-color: #d1a4ff\">▄</span><span style=\"color: #dcbaff; text-decoration-color: #dcbaff; background-color: #dcbaff\">▄</span><span style=\"color: #c184ff; text-decoration-color: #c184ff; background-color: #c184ff\">▄</span><span style=\"color: #cf9fff; text-decoration-color: #cf9fff; background-color: #cf9fff\">▄</span><span style=\"color: #cd9cfe; text-decoration-color: #cd9cfe; background-color: #cd9cfe\">▄</span><span style=\"color: #d2a5ff; text-decoration-color: #d2a5ff; background-color: #d2a5ff\">▄</span><span style=\"color: #d3a7ff; text-decoration-color: #d3a7ff; background-color: #d3a7ff\">▄</span><span style=\"color: #c489ff; text-decoration-color: #c489ff; background-color: #c489ff\">▄</span><span style=\"color: #cc9afe; text-decoration-color: #cc9afe; background-color: #cc9afe\">▄</span><span style=\"color: #ca95ff; text-decoration-color: #ca95ff; background-color: #ca95ff\">▄</span> │\n",
       "│           │ <span style=\"color: #d5acfe; text-decoration-color: #d5acfe; background-color: #d5acfe\">▄</span><span style=\"color: #c387ff; text-decoration-color: #c387ff; background-color: #c387ff\">▄</span><span style=\"color: #c790fe; text-decoration-color: #c790fe; background-color: #c790fe\">▄</span><span style=\"color: #c68eff; text-decoration-color: #c68eff; background-color: #c68eff\">▄</span><span style=\"color: #cb97ff; text-decoration-color: #cb97ff; background-color: #cb97ff\">▄</span><span style=\"color: #cb98ff; text-decoration-color: #cb98ff; background-color: #cb98ff\">▄</span><span style=\"color: #cb97ff; text-decoration-color: #cb97ff; background-color: #cb97ff\">▄</span><span style=\"color: #c994fe; text-decoration-color: #c994fe; background-color: #c994fe\">▄</span><span style=\"color: #d8b2ff; text-decoration-color: #d8b2ff; background-color: #d8b2ff\">▄</span><span style=\"color: #c68eff; text-decoration-color: #c68eff; background-color: #c68eff\">▄</span><span style=\"color: #c286ff; text-decoration-color: #c286ff; background-color: #c286ff\">▄</span><span style=\"color: #cc99ff; text-decoration-color: #cc99ff; background-color: #cc99ff\">▄</span><span style=\"color: #c286fe; text-decoration-color: #c286fe; background-color: #c286fe\">▄</span><span style=\"color: #cc99ff; text-decoration-color: #cc99ff; background-color: #cc99ff\">▄</span><span style=\"color: #c68eff; text-decoration-color: #c68eff; background-color: #c68eff\">▄▄</span><span style=\"color: #d0a2ff; text-decoration-color: #d0a2ff; background-color: #d0a2ff\">▄</span><span style=\"color: #cb97fe; text-decoration-color: #cb97fe; background-color: #cb97fe\">▄</span><span style=\"color: #cb98ff; text-decoration-color: #cb98ff; background-color: #cb98ff\">▄</span><span style=\"color: #c892ff; text-decoration-color: #c892ff; background-color: #c892ff\">▄</span><span style=\"color: #c68eff; text-decoration-color: #c68eff; background-color: #c68eff\">▄</span><span style=\"color: #ce9eff; text-decoration-color: #ce9eff; background-color: #ce9eff\">▄</span><span style=\"color: #cb98ff; text-decoration-color: #cb98ff; background-color: #cb98ff\">▄</span><span style=\"color: #ca96ff; text-decoration-color: #ca96ff; background-color: #ca96ff\">▄</span><span style=\"color: #c790ff; text-decoration-color: #c790ff; background-color: #c790ff\">▄</span><span style=\"color: #ca96ff; text-decoration-color: #ca96ff; background-color: #ca96ff\">▄</span><span style=\"color: #cd9bff; text-decoration-color: #cd9bff; background-color: #cd9bff\">▄</span><span style=\"color: #cfa0fe; text-decoration-color: #cfa0fe; background-color: #cfa0fe\">▄</span><span style=\"color: #c891fe; text-decoration-color: #c891fe; background-color: #c891fe\">▄</span><span style=\"color: #c286ff; text-decoration-color: #c286ff; background-color: #c286ff\">▄</span><span style=\"color: #c183ff; text-decoration-color: #c183ff; background-color: #c183ff\">▄</span><span style=\"color: #cb98fe; text-decoration-color: #cb98fe; background-color: #cb98fe\">▄</span><span style=\"color: #cc9aff; text-decoration-color: #cc9aff; background-color: #cc9aff\">▄</span><span style=\"color: #c994ff; text-decoration-color: #c994ff; background-color: #c994ff\">▄</span><span style=\"color: #ca95ff; text-decoration-color: #ca95ff; background-color: #ca95ff\">▄</span><span style=\"color: #c993fe; text-decoration-color: #c993fe; background-color: #c993fe\">▄</span><span style=\"color: #c68eff; text-decoration-color: #c68eff; background-color: #c68eff\">▄</span><span style=\"color: #ca96ff; text-decoration-color: #ca96ff; background-color: #ca96ff\">▄</span><span style=\"color: #c388ff; text-decoration-color: #c388ff; background-color: #c388ff\">▄</span><span style=\"color: #d0a2fe; text-decoration-color: #d0a2fe; background-color: #d0a2fe\">▄</span><span style=\"color: #ca95ff; text-decoration-color: #ca95ff; background-color: #ca95ff\">▄</span><span style=\"color: #cc9aff; text-decoration-color: #cc9aff; background-color: #cc9aff\">▄</span><span style=\"color: #d5acff; text-decoration-color: #d5acff; background-color: #d5acff\">▄</span><span style=\"color: #ca95ff; text-decoration-color: #ca95ff; background-color: #ca95ff\">▄</span><span style=\"color: #cb97fe; text-decoration-color: #cb97fe; background-color: #cb97fe\">▄</span><span style=\"color: #c790ff; text-decoration-color: #c790ff; background-color: #c790ff\">▄</span><span style=\"color: #c388ff; text-decoration-color: #c388ff; background-color: #c388ff\">▄</span><span style=\"color: #c48aff; text-decoration-color: #c48aff; background-color: #c48aff\">▄</span><span style=\"color: #c58cfe; text-decoration-color: #c58cfe; background-color: #c58cfe\">▄</span><span style=\"color: #ce9dff; text-decoration-color: #ce9dff; background-color: #ce9dff\">▄</span><span style=\"color: #c286fe; text-decoration-color: #c286fe; background-color: #c286fe\">▄</span><span style=\"color: #cd9cff; text-decoration-color: #cd9cff; background-color: #cd9cff\">▄</span><span style=\"color: #cc99ff; text-decoration-color: #cc99ff; background-color: #cc99ff\">▄</span><span style=\"color: #cfa0ff; text-decoration-color: #cfa0ff; background-color: #cfa0ff\">▄</span><span style=\"color: #cc99ff; text-decoration-color: #cc99ff; background-color: #cc99ff\">▄</span><span style=\"color: #dab5ff; text-decoration-color: #dab5ff; background-color: #dab5ff\">▄</span><span style=\"color: #c892ff; text-decoration-color: #c892ff; background-color: #c892ff\">▄</span><span style=\"color: #ca96ff; text-decoration-color: #ca96ff; background-color: #ca96ff\">▄</span><span style=\"color: #cc99ff; text-decoration-color: #cc99ff; background-color: #cc99ff\">▄</span><span style=\"color: #c790fe; text-decoration-color: #c790fe; background-color: #c790fe\">▄</span><span style=\"color: #bf80ff; text-decoration-color: #bf80ff; background-color: #bf80ff\">▄</span><span style=\"color: #c58cff; text-decoration-color: #c58cff; background-color: #c58cff\">▄</span><span style=\"color: #c790ff; text-decoration-color: #c790ff; background-color: #c790ff\">▄</span><span style=\"color: #ca96ff; text-decoration-color: #ca96ff; background-color: #ca96ff\">▄</span> │\n",
       "│           │ <span style=\"color: #ca95fe; text-decoration-color: #ca95fe; background-color: #ca95fe\">▄▄</span><span style=\"color: #cb98fe; text-decoration-color: #cb98fe; background-color: #cb98fe\">▄</span><span style=\"color: #cc9afe; text-decoration-color: #cc9afe; background-color: #cc9afe\">▄</span><span style=\"color: #d7b0ff; text-decoration-color: #d7b0ff; background-color: #d7b0ff\">▄</span><span style=\"color: #c891fe; text-decoration-color: #c891fe; background-color: #c891fe\">▄</span><span style=\"color: #cd9cff; text-decoration-color: #cd9cff; background-color: #cd9cff\">▄</span><span style=\"color: #c68dfe; text-decoration-color: #c68dfe; background-color: #c68dfe\">▄</span><span style=\"color: #c993ff; text-decoration-color: #c993ff; background-color: #c993ff\">▄</span><span style=\"color: #c993fe; text-decoration-color: #c993fe; background-color: #c993fe\">▄</span><span style=\"color: #c892ff; text-decoration-color: #c892ff; background-color: #c892ff\">▄</span><span style=\"color: #d2a5fe; text-decoration-color: #d2a5fe; background-color: #d2a5fe\">▄</span><span style=\"color: #c892ff; text-decoration-color: #c892ff; background-color: #c892ff\">▄</span><span style=\"color: #bf7fff; text-decoration-color: #bf7fff; background-color: #bf7fff\">▄</span><span style=\"color: #ce9eff; text-decoration-color: #ce9eff; background-color: #ce9eff\">▄</span><span style=\"color: #cb98ff; text-decoration-color: #cb98ff; background-color: #cb98ff\">▄</span><span style=\"color: #cb97ff; text-decoration-color: #cb97ff; background-color: #cb97ff\">▄</span><span style=\"color: #cd9cfe; text-decoration-color: #cd9cfe; background-color: #cd9cfe\">▄</span><span style=\"color: #c285ff; text-decoration-color: #c285ff; background-color: #c285ff\">▄</span><span style=\"color: #c891ff; text-decoration-color: #c891ff; background-color: #c891ff\">▄</span><span style=\"color: #c286ff; text-decoration-color: #c286ff; background-color: #c286ff\">▄</span><span style=\"color: #c892ff; text-decoration-color: #c892ff; background-color: #c892ff\">▄</span><span style=\"color: #c68efe; text-decoration-color: #c68efe; background-color: #c68efe\">▄</span><span style=\"color: #cfa0ff; text-decoration-color: #cfa0ff; background-color: #cfa0ff\">▄</span><span style=\"color: #c286ff; text-decoration-color: #c286ff; background-color: #c286ff\">▄</span><span style=\"color: #c993ff; text-decoration-color: #c993ff; background-color: #c993ff\">▄</span><span style=\"color: #cb98ff; text-decoration-color: #cb98ff; background-color: #cb98ff\">▄</span><span style=\"color: #c790ff; text-decoration-color: #c790ff; background-color: #c790ff\">▄</span><span style=\"color: #cf9fff; text-decoration-color: #cf9fff; background-color: #cf9fff\">▄</span><span style=\"color: #cd9cff; text-decoration-color: #cd9cff; background-color: #cd9cff\">▄</span><span style=\"color: #c790ff; text-decoration-color: #c790ff; background-color: #c790ff\">▄</span><span style=\"color: #cc99ff; text-decoration-color: #cc99ff; background-color: #cc99ff\">▄</span><span style=\"color: #c58cff; text-decoration-color: #c58cff; background-color: #c58cff\">▄</span><span style=\"color: #c68dff; text-decoration-color: #c68dff; background-color: #c68dff\">▄▄</span><span style=\"color: #cd9bff; text-decoration-color: #cd9bff; background-color: #cd9bff\">▄</span><span style=\"color: #c286fe; text-decoration-color: #c286fe; background-color: #c286fe\">▄</span><span style=\"color: #ce9eff; text-decoration-color: #ce9eff; background-color: #ce9eff\">▄</span><span style=\"color: #b469ff; text-decoration-color: #b469ff; background-color: #b469ff\">▄</span><span style=\"color: #c68eff; text-decoration-color: #c68eff; background-color: #c68eff\">▄</span><span style=\"color: #ca96ff; text-decoration-color: #ca96ff; background-color: #ca96ff\">▄</span><span style=\"color: #c184ff; text-decoration-color: #c184ff; background-color: #c184ff\">▄</span><span style=\"color: #cc9afe; text-decoration-color: #cc9afe; background-color: #cc9afe\">▄</span><span style=\"color: #9f40ff; text-decoration-color: #9f40ff; background-color: #9f40ff\">▄</span><span style=\"color: #ca95fe; text-decoration-color: #ca95fe; background-color: #ca95fe\">▄</span><span style=\"color: #c994fe; text-decoration-color: #c994fe; background-color: #c994fe\">▄</span><span style=\"color: #c388ff; text-decoration-color: #c388ff; background-color: #c388ff\">▄</span><span style=\"color: #c993fe; text-decoration-color: #c993fe; background-color: #c993fe\">▄</span><span style=\"color: #c892ff; text-decoration-color: #c892ff; background-color: #c892ff\">▄</span><span style=\"color: #c387ff; text-decoration-color: #c387ff; background-color: #c387ff\">▄</span><span style=\"color: #c68dff; text-decoration-color: #c68dff; background-color: #c68dff\">▄</span><span style=\"color: #c892fe; text-decoration-color: #c892fe; background-color: #c892fe\">▄</span><span style=\"color: #c892ff; text-decoration-color: #c892ff; background-color: #c892ff\">▄</span><span style=\"color: #c184ff; text-decoration-color: #c184ff; background-color: #c184ff\">▄</span><span style=\"color: #c387ff; text-decoration-color: #c387ff; background-color: #c387ff\">▄</span><span style=\"color: #c790ff; text-decoration-color: #c790ff; background-color: #c790ff\">▄</span><span style=\"color: #ce9dff; text-decoration-color: #ce9dff; background-color: #ce9dff\">▄</span><span style=\"color: #c993ff; text-decoration-color: #c993ff; background-color: #c993ff\">▄</span><span style=\"color: #c68dff; text-decoration-color: #c68dff; background-color: #c68dff\">▄</span><span style=\"color: #cb98ff; text-decoration-color: #cb98ff; background-color: #cb98ff\">▄▄</span><span style=\"color: #c892ff; text-decoration-color: #c892ff; background-color: #c892ff\">▄</span><span style=\"color: #d1a4ff; text-decoration-color: #d1a4ff; background-color: #d1a4ff\">▄</span><span style=\"color: #c892ff; text-decoration-color: #c892ff; background-color: #c892ff\">▄</span> │\n",
       "│           │ <span style=\"color: #c994ff; text-decoration-color: #c994ff; background-color: #c994ff\">▄</span><span style=\"color: #c388fe; text-decoration-color: #c388fe; background-color: #c388fe\">▄</span><span style=\"color: #c78fff; text-decoration-color: #c78fff; background-color: #c78fff\">▄</span><span style=\"color: #c58cff; text-decoration-color: #c58cff; background-color: #c58cff\">▄</span><span style=\"color: #cc99ff; text-decoration-color: #cc99ff; background-color: #cc99ff\">▄</span><span style=\"color: #cd9cff; text-decoration-color: #cd9cff; background-color: #cd9cff\">▄</span><span style=\"color: #c489ff; text-decoration-color: #c489ff; background-color: #c489ff\">▄</span><span style=\"color: #d0a2ff; text-decoration-color: #d0a2ff; background-color: #d0a2ff\">▄</span><span style=\"color: #c78ffe; text-decoration-color: #c78ffe; background-color: #c78ffe\">▄</span><span style=\"color: #c993ff; text-decoration-color: #c993ff; background-color: #c993ff\">▄</span><span style=\"color: #c082ff; text-decoration-color: #c082ff; background-color: #c082ff\">▄</span><span style=\"color: #c790ff; text-decoration-color: #c790ff; background-color: #c790ff\">▄</span><span style=\"color: #c78fff; text-decoration-color: #c78fff; background-color: #c78fff\">▄</span><span style=\"color: #c082ff; text-decoration-color: #c082ff; background-color: #c082ff\">▄</span><span style=\"color: #c081fe; text-decoration-color: #c081fe; background-color: #c081fe\">▄</span><span style=\"color: #d3a7ff; text-decoration-color: #d3a7ff; background-color: #d3a7ff\">▄</span><span style=\"color: #c993ff; text-decoration-color: #c993ff; background-color: #c993ff\">▄</span><span style=\"color: #cf9fff; text-decoration-color: #cf9fff; background-color: #cf9fff\">▄</span><span style=\"color: #c489fe; text-decoration-color: #c489fe; background-color: #c489fe\">▄</span><span style=\"color: #c78fff; text-decoration-color: #c78fff; background-color: #c78fff\">▄</span><span style=\"color: #c68eff; text-decoration-color: #c68eff; background-color: #c68eff\">▄</span><span style=\"color: #cb98ff; text-decoration-color: #cb98ff; background-color: #cb98ff\">▄</span><span style=\"color: #cb98fe; text-decoration-color: #cb98fe; background-color: #cb98fe\">▄</span><span style=\"color: #cb98ff; text-decoration-color: #cb98ff; background-color: #cb98ff\">▄</span><span style=\"color: #c388ff; text-decoration-color: #c388ff; background-color: #c388ff\">▄</span><span style=\"color: #cfa0ff; text-decoration-color: #cfa0ff; background-color: #cfa0ff\">▄</span><span style=\"color: #c891ff; text-decoration-color: #c891ff; background-color: #c891ff\">▄</span><span style=\"color: #c58bff; text-decoration-color: #c58bff; background-color: #c58bff\">▄</span><span style=\"color: #c892ff; text-decoration-color: #c892ff; background-color: #c892ff\">▄</span><span style=\"color: #ce9eff; text-decoration-color: #ce9eff; background-color: #ce9eff\">▄</span><span style=\"color: #ca96ff; text-decoration-color: #ca96ff; background-color: #ca96ff\">▄</span><span style=\"color: #c78ffe; text-decoration-color: #c78ffe; background-color: #c78ffe\">▄</span><span style=\"color: #cb98ff; text-decoration-color: #cb98ff; background-color: #cb98ff\">▄</span><span style=\"color: #c993ff; text-decoration-color: #c993ff; background-color: #c993ff\">▄</span><span style=\"color: #d5abff; text-decoration-color: #d5abff; background-color: #d5abff\">▄</span><span style=\"color: #c790fe; text-decoration-color: #c790fe; background-color: #c790fe\">▄</span><span style=\"color: #c993ff; text-decoration-color: #c993ff; background-color: #c993ff\">▄</span><span style=\"color: #c993fe; text-decoration-color: #c993fe; background-color: #c993fe\">▄</span><span style=\"color: #c994ff; text-decoration-color: #c994ff; background-color: #c994ff\">▄</span><span style=\"color: #c78fff; text-decoration-color: #c78fff; background-color: #c78fff\">▄</span><span style=\"color: #c489fe; text-decoration-color: #c489fe; background-color: #c489fe\">▄</span><span style=\"color: #c68efe; text-decoration-color: #c68efe; background-color: #c68efe\">▄</span><span style=\"color: #c994ff; text-decoration-color: #c994ff; background-color: #c994ff\">▄</span><span style=\"color: #d1a3ff; text-decoration-color: #d1a3ff; background-color: #d1a3ff\">▄</span><span style=\"color: #ca96fe; text-decoration-color: #ca96fe; background-color: #ca96fe\">▄</span><span style=\"color: #c994ff; text-decoration-color: #c994ff; background-color: #c994ff\">▄</span><span style=\"color: #ca95ff; text-decoration-color: #ca95ff; background-color: #ca95ff\">▄</span><span style=\"color: #c993ff; text-decoration-color: #c993ff; background-color: #c993ff\">▄</span><span style=\"color: #c994fe; text-decoration-color: #c994fe; background-color: #c994fe\">▄</span><span style=\"color: #cb97ff; text-decoration-color: #cb97ff; background-color: #cb97ff\">▄</span><span style=\"color: #c58cff; text-decoration-color: #c58cff; background-color: #c58cff\">▄</span><span style=\"color: #cfa0fe; text-decoration-color: #cfa0fe; background-color: #cfa0fe\">▄</span><span style=\"color: #cb97ff; text-decoration-color: #cb97ff; background-color: #cb97ff\">▄</span><span style=\"color: #c68dff; text-decoration-color: #c68dff; background-color: #c68dff\">▄</span><span style=\"color: #cc99ff; text-decoration-color: #cc99ff; background-color: #cc99ff\">▄</span><span style=\"color: #d1a4ff; text-decoration-color: #d1a4ff; background-color: #d1a4ff\">▄</span><span style=\"color: #cc9aff; text-decoration-color: #cc9aff; background-color: #cc9aff\">▄</span><span style=\"color: #c994fe; text-decoration-color: #c994fe; background-color: #c994fe\">▄</span><span style=\"color: #cb97ff; text-decoration-color: #cb97ff; background-color: #cb97ff\">▄</span><span style=\"color: #c892ff; text-decoration-color: #c892ff; background-color: #c892ff\">▄</span><span style=\"color: #cd9bff; text-decoration-color: #cd9bff; background-color: #cd9bff\">▄</span><span style=\"color: #cb97ff; text-decoration-color: #cb97ff; background-color: #cb97ff\">▄</span><span style=\"color: #c993ff; text-decoration-color: #c993ff; background-color: #c993ff\">▄</span>  │\n",
       "╰───────────┴──────────────────────────────────────────────────────────────────╯\n",
       "</pre>\n"
      ],
      "text/plain": [
       "📄 \u001b[1mDocument\u001b[0m: \u001b[36mf7c16e033ebcfe832e6ee49300a2ccca\u001b[0m\n",
       "╭───────────┬──────────────────────────────────────────────────────────────────╮\n",
       "│\u001b[1m \u001b[0m\u001b[1mAttribute\u001b[0m\u001b[1m \u001b[0m│\u001b[1m \u001b[0m\u001b[1mValue                                                           \u001b[0m\u001b[1m \u001b[0m│\n",
       "├───────────┼──────────────────────────────────────────────────────────────────┤\n",
       "│ mime_type │ image/jpeg                                                       │\n",
       "│ uri       │ \u001b[4;94mhttps://images.unsplash.com/photo-1566296906137-2367d1561746\u001b[0m     │\n",
       "│ embedding │ \u001b[38;2;203;151;255;48;2;203;151;255m▄\u001b[0m\u001b[38;2;203;152;255;48;2;203;152;255m▄\u001b[0m\u001b[38;2;201;148;255;48;2;201;148;255m▄\u001b[0m\u001b[38;2;200;146;254;48;2;200;146;254m▄\u001b[0m\u001b[38;2;212;169;255;48;2;212;169;255m▄\u001b[0m\u001b[38;2;202;150;255;48;2;202;150;255m▄\u001b[0m\u001b[38;2;201;147;254;48;2;201;147;254m▄\u001b[0m\u001b[38;2;216;177;255;48;2;216;177;255m▄\u001b[0m\u001b[38;2;208;161;255;48;2;208;161;255m▄\u001b[0m\u001b[38;2;198;141;255;48;2;198;141;255m▄\u001b[0m\u001b[38;2;202;150;255;48;2;202;150;255m▄\u001b[0m\u001b[38;2;199;143;255;48;2;199;143;255m▄\u001b[0m\u001b[38;2;206;157;255;48;2;206;157;255m▄\u001b[0m\u001b[38;2;195;136;254;48;2;195;136;254m▄\u001b[0m\u001b[38;2;209;163;255;48;2;209;163;255m▄\u001b[0m\u001b[38;2;202;149;254;48;2;202;149;254m▄\u001b[0m\u001b[38;2;199;143;255;48;2;199;143;255m▄\u001b[0m\u001b[38;2;206;157;255;48;2;206;157;255m▄\u001b[0m\u001b[38;2;207;159;255;48;2;207;159;255m▄\u001b[0m\u001b[38;2;210;165;255;48;2;210;165;255m▄\u001b[0m\u001b[38;2;214;174;254;48;2;214;174;254m▄\u001b[0m\u001b[38;2;207;159;254;48;2;207;159;254m▄\u001b[0m\u001b[38;2;198;141;255;48;2;198;141;255m▄\u001b[0m\u001b[38;2;200;145;255;48;2;200;145;255m▄\u001b[0m\u001b[38;2;201;148;254;48;2;201;148;254m▄\u001b[0m\u001b[38;2;201;147;255;48;2;201;147;255m▄\u001b[0m\u001b[38;2;202;150;255;48;2;202;150;255m▄\u001b[0m\u001b[38;2;195;136;255;48;2;195;136;255m▄\u001b[0m\u001b[38;2;198;142;254;48;2;198;142;254m▄\u001b[0m\u001b[38;2;204;154;254;48;2;204;154;254m▄\u001b[0m\u001b[38;2;195;135;255;48;2;195;135;255m▄\u001b[0m\u001b[38;2;213;172;255;48;2;213;172;255m▄\u001b[0m\u001b[38;2;206;158;254;48;2;206;158;254m▄\u001b[0m\u001b[38;2;209;163;254;48;2;209;163;254m▄\u001b[0m\u001b[38;2;200;145;255;48;2;200;145;255m▄\u001b[0m\u001b[38;2;201;148;255;48;2;201;148;255m▄\u001b[0m\u001b[38;2;201;148;255;48;2;201;148;255m▄\u001b[0m\u001b[38;2;203;152;255;48;2;203;152;255m▄\u001b[0m\u001b[38;2;196;138;255;48;2;196;138;255m▄\u001b[0m\u001b[38;2;177;100;255;48;2;177;100;255m▄\u001b[0m\u001b[38;2;193;132;255;48;2;193;132;255m▄\u001b[0m\u001b[38;2;202;149;254;48;2;202;149;254m▄\u001b[0m\u001b[38;2;195;135;255;48;2;195;135;255m▄\u001b[0m\u001b[38;2;203;151;255;48;2;203;151;255m▄\u001b[0m\u001b[38;2;206;158;255;48;2;206;158;255m▄\u001b[0m\u001b[38;2;183;112;255;48;2;183;112;255m▄\u001b[0m\u001b[38;2;202;150;255;48;2;202;150;255m▄\u001b[0m\u001b[38;2;202;150;255;48;2;202;150;255m▄\u001b[0m\u001b[38;2;202;150;255;48;2;202;150;255m▄\u001b[0m\u001b[38;2;207;160;255;48;2;207;160;255m▄\u001b[0m\u001b[38;2;206;157;255;48;2;206;157;255m▄\u001b[0m\u001b[38;2;200;145;255;48;2;200;145;255m▄\u001b[0m\u001b[38;2;206;158;255;48;2;206;158;255m▄\u001b[0m\u001b[38;2;210;166;255;48;2;210;166;255m▄\u001b[0m\u001b[38;2;198;142;255;48;2;198;142;255m▄\u001b[0m\u001b[38;2;201;148;254;48;2;201;148;254m▄\u001b[0m\u001b[38;2;202;150;255;48;2;202;150;255m▄\u001b[0m\u001b[38;2;205;155;255;48;2;205;155;255m▄\u001b[0m\u001b[38;2;203;151;255;48;2;203;151;255m▄\u001b[0m\u001b[38;2;208;162;255;48;2;208;162;255m▄\u001b[0m\u001b[38;2;189;124;255;48;2;189;124;255m▄\u001b[0m\u001b[38;2;199;144;255;48;2;199;144;255m▄\u001b[0m\u001b[38;2;202;149;255;48;2;202;149;255m▄\u001b[0m\u001b[38;2;206;158;254;48;2;206;158;254m▄\u001b[0m │\n",
       "│           │ \u001b[38;2;203;152;255;48;2;203;152;255m▄\u001b[0m\u001b[38;2;205;155;255;48;2;205;155;255m▄\u001b[0m\u001b[38;2;205;155;255;48;2;205;155;255m▄\u001b[0m\u001b[38;2;198;142;255;48;2;198;142;255m▄\u001b[0m\u001b[38;2;201;147;255;48;2;201;147;255m▄\u001b[0m\u001b[38;2;196;138;254;48;2;196;138;254m▄\u001b[0m\u001b[38;2;201;147;255;48;2;201;147;255m▄\u001b[0m\u001b[38;2;203;152;255;48;2;203;152;255m▄\u001b[0m\u001b[38;2;197;140;255;48;2;197;140;255m▄\u001b[0m\u001b[38;2;195;135;255;48;2;195;135;255m▄\u001b[0m\u001b[38;2;198;142;255;48;2;198;142;255m▄\u001b[0m\u001b[38;2;197;139;255;48;2;197;139;255m▄\u001b[0m\u001b[38;2;201;147;255;48;2;201;147;255m▄\u001b[0m\u001b[38;2;202;150;255;48;2;202;150;255m▄\u001b[0m\u001b[38;2;200;146;255;48;2;200;146;255m▄\u001b[0m\u001b[38;2;201;148;255;48;2;201;148;255m▄\u001b[0m\u001b[38;2;198;142;255;48;2;198;142;255m▄\u001b[0m\u001b[38;2;204;154;255;48;2;204;154;255m▄\u001b[0m\u001b[38;2;204;154;255;48;2;204;154;255m▄\u001b[0m\u001b[38;2;203;151;255;48;2;203;151;255m▄\u001b[0m\u001b[38;2;205;155;255;48;2;205;155;255m▄\u001b[0m\u001b[38;2;198;142;255;48;2;198;142;255m▄\u001b[0m\u001b[38;2;200;146;254;48;2;200;146;254m▄\u001b[0m\u001b[38;2;208;162;255;48;2;208;162;255m▄\u001b[0m\u001b[38;2;199;144;255;48;2;199;144;255m▄\u001b[0m\u001b[38;2;199;144;255;48;2;199;144;255m▄\u001b[0m\u001b[38;2;206;157;255;48;2;206;157;255m▄\u001b[0m\u001b[38;2;43;0;86;48;2;43;0;86m▄\u001b[0m\u001b[38;2;207;160;255;48;2;207;160;255m▄\u001b[0m\u001b[38;2;199;144;255;48;2;199;144;255m▄\u001b[0m\u001b[38;2;205;156;255;48;2;205;156;255m▄\u001b[0m\u001b[38;2;201;147;255;48;2;201;147;255m▄\u001b[0m\u001b[38;2;198;142;255;48;2;198;142;255m▄\u001b[0m\u001b[38;2;185;115;255;48;2;185;115;255m▄\u001b[0m\u001b[38;2;174;93;255;48;2;174;93;255m▄\u001b[0m\u001b[38;2;205;156;255;48;2;205;156;255m▄\u001b[0m\u001b[38;2;203;152;255;48;2;203;152;255m▄\u001b[0m\u001b[38;2;199;143;255;48;2;199;143;255m▄\u001b[0m\u001b[38;2;208;162;255;48;2;208;162;255m▄\u001b[0m\u001b[38;2;213;172;255;48;2;213;172;255m▄\u001b[0m\u001b[38;2;204;154;255;48;2;204;154;255m▄\u001b[0m\u001b[38;2;193;132;254;48;2;193;132;254m▄\u001b[0m\u001b[38;2;199;144;255;48;2;199;144;255m▄\u001b[0m\u001b[38;2;203;152;255;48;2;203;152;255m▄\u001b[0m\u001b[38;2;198;141;255;48;2;198;141;255m▄\u001b[0m\u001b[38;2;190;125;255;48;2;190;125;255m▄\u001b[0m\u001b[38;2;202;149;255;48;2;202;149;255m▄\u001b[0m\u001b[38;2;203;152;255;48;2;203;152;255m▄\u001b[0m\u001b[38;2;196;137;255;48;2;196;137;255m▄\u001b[0m\u001b[38;2;198;141;255;48;2;198;141;255m▄\u001b[0m\u001b[38;2;201;147;254;48;2;201;147;254m▄\u001b[0m\u001b[38;2;199;144;255;48;2;199;144;255m▄\u001b[0m\u001b[38;2;196;137;254;48;2;196;137;254m▄\u001b[0m\u001b[38;2;202;150;254;48;2;202;150;254m▄\u001b[0m\u001b[38;2;204;154;255;48;2;204;154;255m▄\u001b[0m\u001b[38;2;200;146;255;48;2;200;146;255m▄\u001b[0m\u001b[38;2;207;160;254;48;2;207;160;254m▄\u001b[0m\u001b[38;2;209;163;254;48;2;209;163;254m▄\u001b[0m\u001b[38;2;194;133;255;48;2;194;133;255m▄\u001b[0m\u001b[38;2;199;143;254;48;2;199;143;254m▄\u001b[0m\u001b[38;2;201;147;255;48;2;201;147;255m▄\u001b[0m\u001b[38;2;200;146;255;48;2;200;146;255m▄\u001b[0m\u001b[38;2;202;149;255;48;2;202;149;255m▄\u001b[0m\u001b[38;2;203;152;255;48;2;203;152;255m▄\u001b[0m │\n",
       "│           │ \u001b[38;2;203;152;255;48;2;203;152;255m▄\u001b[0m\u001b[38;2;205;155;255;48;2;205;155;255m▄\u001b[0m\u001b[38;2;204;153;255;48;2;204;153;255m▄\u001b[0m\u001b[38;2;206;157;255;48;2;206;157;255m▄\u001b[0m\u001b[38;2;220;186;255;48;2;220;186;255m▄\u001b[0m\u001b[38;2;200;146;255;48;2;200;146;255m▄\u001b[0m\u001b[38;2;199;144;255;48;2;199;144;255m▄\u001b[0m\u001b[38;2;198;142;255;48;2;198;142;255m▄\u001b[0m\u001b[38;2;194;134;255;48;2;194;134;255m▄\u001b[0m\u001b[38;2;200;146;255;48;2;200;146;255m▄\u001b[0m\u001b[38;2;202;150;255;48;2;202;150;255m▄\u001b[0m\u001b[38;2;195;136;255;48;2;195;136;255m▄\u001b[0m\u001b[38;2;202;150;255;48;2;202;150;255m▄\u001b[0m\u001b[38;2;205;155;254;48;2;205;155;254m▄\u001b[0m\u001b[38;2;197;139;255;48;2;197;139;255m▄\u001b[0m\u001b[38;2;200;146;255;48;2;200;146;255m▄\u001b[0m\u001b[38;2;205;155;255;48;2;205;155;255m▄\u001b[0m\u001b[38;2;199;144;255;48;2;199;144;255m▄\u001b[0m\u001b[38;2;209;163;255;48;2;209;163;255m▄\u001b[0m\u001b[38;2;197;139;255;48;2;197;139;255m▄\u001b[0m\u001b[38;2;203;151;255;48;2;203;151;255m▄\u001b[0m\u001b[38;2;201;147;255;48;2;201;147;255m▄\u001b[0m\u001b[38;2;199;143;254;48;2;199;143;254m▄\u001b[0m\u001b[38;2;219;184;255;48;2;219;184;255m▄\u001b[0m\u001b[38;2;199;144;255;48;2;199;144;255m▄\u001b[0m\u001b[38;2;202;149;254;48;2;202;149;254m▄\u001b[0m\u001b[38;2;193;131;255;48;2;193;131;255m▄\u001b[0m\u001b[38;2;207;160;255;48;2;207;160;255m▄\u001b[0m\u001b[38;2;198;141;255;48;2;198;141;255m▄\u001b[0m\u001b[38;2;203;152;255;48;2;203;152;255m▄\u001b[0m\u001b[38;2;203;152;254;48;2;203;152;254m▄\u001b[0m\u001b[38;2;195;136;254;48;2;195;136;254m▄\u001b[0m\u001b[38;2;195;136;255;48;2;195;136;255m▄\u001b[0m\u001b[38;2;200;146;255;48;2;200;146;255m▄\u001b[0m\u001b[38;2;198;142;254;48;2;198;142;254m▄\u001b[0m\u001b[38;2;205;156;255;48;2;205;156;255m▄\u001b[0m\u001b[38;2;201;147;255;48;2;201;147;255m▄\u001b[0m\u001b[38;2;204;153;254;48;2;204;153;254m▄\u001b[0m\u001b[38;2;207;160;255;48;2;207;160;255m▄\u001b[0m\u001b[38;2;207;160;255;48;2;207;160;255m▄\u001b[0m\u001b[38;2;198;142;255;48;2;198;142;255m▄\u001b[0m\u001b[38;2;199;144;255;48;2;199;144;255m▄\u001b[0m\u001b[38;2;203;152;254;48;2;203;152;254m▄\u001b[0m\u001b[38;2;202;149;254;48;2;202;149;254m▄\u001b[0m\u001b[38;2;202;150;255;48;2;202;150;255m▄\u001b[0m\u001b[38;2;202;149;255;48;2;202;149;255m▄\u001b[0m\u001b[38;2;199;143;255;48;2;199;143;255m▄\u001b[0m\u001b[38;2;205;156;255;48;2;205;156;255m▄\u001b[0m\u001b[38;2;204;154;255;48;2;204;154;255m▄\u001b[0m\u001b[38;2;193;131;255;48;2;193;131;255m▄\u001b[0m\u001b[38;2;205;155;255;48;2;205;155;255m▄\u001b[0m\u001b[38;2;208;161;255;48;2;208;161;255m▄\u001b[0m\u001b[38;2;200;145;255;48;2;200;145;255m▄\u001b[0m\u001b[38;2;195;135;255;48;2;195;135;255m▄\u001b[0m\u001b[38;2;204;154;255;48;2;204;154;255m▄\u001b[0m\u001b[38;2;197;140;255;48;2;197;140;255m▄\u001b[0m\u001b[38;2;198;141;255;48;2;198;141;255m▄\u001b[0m\u001b[38;2;204;153;255;48;2;204;153;255m▄\u001b[0m\u001b[38;2;202;149;255;48;2;202;149;255m▄\u001b[0m\u001b[38;2;203;151;254;48;2;203;151;254m▄\u001b[0m\u001b[38;2;207;159;255;48;2;207;159;255m▄\u001b[0m\u001b[38;2;198;142;254;48;2;198;142;254m▄\u001b[0m\u001b[38;2;206;157;255;48;2;206;157;255m▄\u001b[0m\u001b[38;2;200;145;255;48;2;200;145;255m▄\u001b[0m │\n",
       "│           │ \u001b[38;2;204;153;254;48;2;204;153;254m▄\u001b[0m\u001b[38;2;195;136;255;48;2;195;136;255m▄\u001b[0m\u001b[38;2;196;137;255;48;2;196;137;255m▄\u001b[0m\u001b[38;2;207;160;255;48;2;207;160;255m▄\u001b[0m\u001b[38;2;196;137;255;48;2;196;137;255m▄\u001b[0m\u001b[38;2;207;160;255;48;2;207;160;255m▄\u001b[0m\u001b[38;2;196;137;255;48;2;196;137;255m▄\u001b[0m\u001b[38;2;204;154;255;48;2;204;154;255m▄\u001b[0m\u001b[38;2;201;147;255;48;2;201;147;255m▄\u001b[0m\u001b[38;2;206;158;255;48;2;206;158;255m▄\u001b[0m\u001b[38;2;198;142;254;48;2;198;142;254m▄\u001b[0m\u001b[38;2;202;149;254;48;2;202;149;254m▄\u001b[0m\u001b[38;2;197;139;254;48;2;197;139;254m▄\u001b[0m\u001b[38;2;202;150;255;48;2;202;150;255m▄\u001b[0m\u001b[38;2;202;149;255;48;2;202;149;255m▄\u001b[0m\u001b[38;2;202;149;255;48;2;202;149;255m▄\u001b[0m\u001b[38;2;203;152;255;48;2;203;152;255m▄\u001b[0m\u001b[38;2;198;142;255;48;2;198;142;255m▄\u001b[0m\u001b[38;2;199;143;254;48;2;199;143;254m▄\u001b[0m\u001b[38;2;198;142;255;48;2;198;142;255m▄\u001b[0m\u001b[38;2;206;157;255;48;2;206;157;255m▄\u001b[0m\u001b[38;2;205;156;255;48;2;205;156;255m▄\u001b[0m\u001b[38;2;202;149;255;48;2;202;149;255m▄\u001b[0m\u001b[38;2;202;150;255;48;2;202;150;255m▄\u001b[0m\u001b[38;2;200;145;254;48;2;200;145;254m▄\u001b[0m\u001b[38;2;203;151;254;48;2;203;151;254m▄\u001b[0m\u001b[38;2;199;144;255;48;2;199;144;255m▄\u001b[0m\u001b[38;2;209;164;255;48;2;209;164;255m▄\u001b[0m\u001b[38;2;203;152;255;48;2;203;152;255m▄\u001b[0m\u001b[38;2;197;139;254;48;2;197;139;254m▄\u001b[0m\u001b[38;2;206;158;255;48;2;206;158;255m▄\u001b[0m\u001b[38;2;200;146;255;48;2;200;146;255m▄\u001b[0m\u001b[38;2;205;155;255;48;2;205;155;255m▄\u001b[0m\u001b[38;2;202;150;255;48;2;202;150;255m▄\u001b[0m\u001b[38;2;198;141;255;48;2;198;141;255m▄\u001b[0m\u001b[38;2;197;140;255;48;2;197;140;255m▄\u001b[0m\u001b[38;2;203;151;255;48;2;203;151;255m▄\u001b[0m\u001b[38;2;198;142;255;48;2;198;142;255m▄\u001b[0m\u001b[38;2;196;138;255;48;2;196;138;255m▄\u001b[0m\u001b[38;2;205;155;255;48;2;205;155;255m▄\u001b[0m\u001b[38;2;208;162;255;48;2;208;162;255m▄\u001b[0m\u001b[38;2;205;155;255;48;2;205;155;255m▄\u001b[0m\u001b[38;2;206;157;255;48;2;206;157;255m▄\u001b[0m\u001b[38;2;201;147;255;48;2;201;147;255m▄\u001b[0m\u001b[38;2;203;151;254;48;2;203;151;254m▄\u001b[0m\u001b[38;2;196;138;255;48;2;196;138;255m▄\u001b[0m\u001b[38;2;202;150;255;48;2;202;150;255m▄\u001b[0m\u001b[38;2;202;149;255;48;2;202;149;255m▄\u001b[0m\u001b[38;2;206;157;255;48;2;206;157;255m▄\u001b[0m\u001b[38;2;207;160;255;48;2;207;160;255m▄\u001b[0m\u001b[38;2;203;151;255;48;2;203;151;255m▄\u001b[0m\u001b[38;2;198;141;255;48;2;198;141;255m▄\u001b[0m\u001b[38;2;186;117;255;48;2;186;117;255m▄\u001b[0m\u001b[38;2;200;145;255;48;2;200;145;255m▄\u001b[0m\u001b[38;2;204;154;254;48;2;204;154;254m▄\u001b[0m\u001b[38;2;203;152;255;48;2;203;152;255m▄\u001b[0m\u001b[38;2;203;152;255;48;2;203;152;255m▄\u001b[0m\u001b[38;2;196;137;254;48;2;196;137;254m▄\u001b[0m\u001b[38;2;209;163;255;48;2;209;163;255m▄\u001b[0m\u001b[38;2;205;156;255;48;2;205;156;255m▄\u001b[0m\u001b[38;2;201;148;255;48;2;201;148;255m▄\u001b[0m\u001b[38;2;202;150;254;48;2;202;150;254m▄\u001b[0m\u001b[38;2;207;159;254;48;2;207;159;254m▄\u001b[0m\u001b[38;2;196;138;255;48;2;196;138;255m▄\u001b[0m │\n",
       "│           │ \u001b[38;2;205;155;255;48;2;205;155;255m▄\u001b[0m\u001b[38;2;209;164;255;48;2;209;164;255m▄\u001b[0m\u001b[38;2;194;133;255;48;2;194;133;255m▄\u001b[0m\u001b[38;2;199;144;255;48;2;199;144;255m▄\u001b[0m\u001b[38;2;203;152;255;48;2;203;152;255m▄\u001b[0m\u001b[38;2;199;144;255;48;2;199;144;255m▄\u001b[0m\u001b[38;2;221;188;255;48;2;221;188;255m▄\u001b[0m\u001b[38;2;211;168;255;48;2;211;168;255m▄\u001b[0m\u001b[38;2;198;141;255;48;2;198;141;255m▄\u001b[0m\u001b[38;2;195;135;255;48;2;195;135;255m▄\u001b[0m\u001b[38;2;202;150;255;48;2;202;150;255m▄\u001b[0m\u001b[38;2;200;145;254;48;2;200;145;254m▄\u001b[0m\u001b[38;2;200;146;255;48;2;200;146;255m▄\u001b[0m\u001b[38;2;205;155;255;48;2;205;155;255m▄\u001b[0m\u001b[38;2;204;154;255;48;2;204;154;255m▄\u001b[0m\u001b[38;2;208;162;255;48;2;208;162;255m▄\u001b[0m\u001b[38;2;203;151;255;48;2;203;151;255m▄\u001b[0m\u001b[38;2;202;149;255;48;2;202;149;255m▄\u001b[0m\u001b[38;2;200;145;254;48;2;200;145;254m▄\u001b[0m\u001b[38;2;204;154;254;48;2;204;154;254m▄\u001b[0m\u001b[38;2;199;143;255;48;2;199;143;255m▄\u001b[0m\u001b[38;2;200;146;255;48;2;200;146;255m▄\u001b[0m\u001b[38;2;206;158;255;48;2;206;158;255m▄\u001b[0m\u001b[38;2;205;155;255;48;2;205;155;255m▄\u001b[0m\u001b[38;2;209;164;254;48;2;209;164;254m▄\u001b[0m\u001b[38;2;198;142;255;48;2;198;142;255m▄\u001b[0m\u001b[38;2;197;140;255;48;2;197;140;255m▄\u001b[0m\u001b[38;2;196;138;255;48;2;196;138;255m▄\u001b[0m\u001b[38;2;206;158;255;48;2;206;158;255m▄\u001b[0m\u001b[38;2;171;87;254;48;2;171;87;254m▄\u001b[0m\u001b[38;2;204;153;254;48;2;204;153;254m▄\u001b[0m\u001b[38;2;204;153;255;48;2;204;153;255m▄\u001b[0m\u001b[38;2;198;142;255;48;2;198;142;255m▄\u001b[0m\u001b[38;2;204;154;255;48;2;204;154;255m▄\u001b[0m\u001b[38;2;203;152;255;48;2;203;152;255m▄\u001b[0m\u001b[38;2;201;147;255;48;2;201;147;255m▄\u001b[0m\u001b[38;2;206;158;255;48;2;206;158;255m▄\u001b[0m\u001b[38;2;198;141;255;48;2;198;141;255m▄\u001b[0m\u001b[38;2;204;154;255;48;2;204;154;255m▄\u001b[0m\u001b[38;2;201;148;255;48;2;201;148;255m▄\u001b[0m\u001b[38;2;200;145;255;48;2;200;145;255m▄\u001b[0m\u001b[38;2;202;149;255;48;2;202;149;255m▄\u001b[0m\u001b[38;2;202;150;255;48;2;202;150;255m▄\u001b[0m\u001b[38;2;200;146;255;48;2;200;146;255m▄\u001b[0m\u001b[38;2;200;145;255;48;2;200;145;255m▄\u001b[0m\u001b[38;2;199;144;255;48;2;199;144;255m▄\u001b[0m\u001b[38;2;198;142;255;48;2;198;142;255m▄\u001b[0m\u001b[38;2;204;154;255;48;2;204;154;255m▄\u001b[0m\u001b[38;2;197;139;254;48;2;197;139;254m▄\u001b[0m\u001b[38;2;204;153;255;48;2;204;153;255m▄\u001b[0m\u001b[38;2;206;157;255;48;2;206;157;255m▄\u001b[0m\u001b[38;2;204;154;255;48;2;204;154;255m▄\u001b[0m\u001b[38;2;202;149;255;48;2;202;149;255m▄\u001b[0m\u001b[38;2;197;140;255;48;2;197;140;255m▄\u001b[0m\u001b[38;2;209;164;255;48;2;209;164;255m▄\u001b[0m\u001b[38;2;220;186;255;48;2;220;186;255m▄\u001b[0m\u001b[38;2;193;132;255;48;2;193;132;255m▄\u001b[0m\u001b[38;2;207;159;255;48;2;207;159;255m▄\u001b[0m\u001b[38;2;205;156;254;48;2;205;156;254m▄\u001b[0m\u001b[38;2;210;165;255;48;2;210;165;255m▄\u001b[0m\u001b[38;2;211;167;255;48;2;211;167;255m▄\u001b[0m\u001b[38;2;196;137;255;48;2;196;137;255m▄\u001b[0m\u001b[38;2;204;154;254;48;2;204;154;254m▄\u001b[0m\u001b[38;2;202;149;255;48;2;202;149;255m▄\u001b[0m │\n",
       "│           │ \u001b[38;2;213;172;254;48;2;213;172;254m▄\u001b[0m\u001b[38;2;195;135;255;48;2;195;135;255m▄\u001b[0m\u001b[38;2;199;144;254;48;2;199;144;254m▄\u001b[0m\u001b[38;2;198;142;255;48;2;198;142;255m▄\u001b[0m\u001b[38;2;203;151;255;48;2;203;151;255m▄\u001b[0m\u001b[38;2;203;152;255;48;2;203;152;255m▄\u001b[0m\u001b[38;2;203;151;255;48;2;203;151;255m▄\u001b[0m\u001b[38;2;201;148;254;48;2;201;148;254m▄\u001b[0m\u001b[38;2;216;178;255;48;2;216;178;255m▄\u001b[0m\u001b[38;2;198;142;255;48;2;198;142;255m▄\u001b[0m\u001b[38;2;194;134;255;48;2;194;134;255m▄\u001b[0m\u001b[38;2;204;153;255;48;2;204;153;255m▄\u001b[0m\u001b[38;2;194;134;254;48;2;194;134;254m▄\u001b[0m\u001b[38;2;204;153;255;48;2;204;153;255m▄\u001b[0m\u001b[38;2;198;142;255;48;2;198;142;255m▄\u001b[0m\u001b[38;2;198;142;255;48;2;198;142;255m▄\u001b[0m\u001b[38;2;208;162;255;48;2;208;162;255m▄\u001b[0m\u001b[38;2;203;151;254;48;2;203;151;254m▄\u001b[0m\u001b[38;2;203;152;255;48;2;203;152;255m▄\u001b[0m\u001b[38;2;200;146;255;48;2;200;146;255m▄\u001b[0m\u001b[38;2;198;142;255;48;2;198;142;255m▄\u001b[0m\u001b[38;2;206;158;255;48;2;206;158;255m▄\u001b[0m\u001b[38;2;203;152;255;48;2;203;152;255m▄\u001b[0m\u001b[38;2;202;150;255;48;2;202;150;255m▄\u001b[0m\u001b[38;2;199;144;255;48;2;199;144;255m▄\u001b[0m\u001b[38;2;202;150;255;48;2;202;150;255m▄\u001b[0m\u001b[38;2;205;155;255;48;2;205;155;255m▄\u001b[0m\u001b[38;2;207;160;254;48;2;207;160;254m▄\u001b[0m\u001b[38;2;200;145;254;48;2;200;145;254m▄\u001b[0m\u001b[38;2;194;134;255;48;2;194;134;255m▄\u001b[0m\u001b[38;2;193;131;255;48;2;193;131;255m▄\u001b[0m\u001b[38;2;203;152;254;48;2;203;152;254m▄\u001b[0m\u001b[38;2;204;154;255;48;2;204;154;255m▄\u001b[0m\u001b[38;2;201;148;255;48;2;201;148;255m▄\u001b[0m\u001b[38;2;202;149;255;48;2;202;149;255m▄\u001b[0m\u001b[38;2;201;147;254;48;2;201;147;254m▄\u001b[0m\u001b[38;2;198;142;255;48;2;198;142;255m▄\u001b[0m\u001b[38;2;202;150;255;48;2;202;150;255m▄\u001b[0m\u001b[38;2;195;136;255;48;2;195;136;255m▄\u001b[0m\u001b[38;2;208;162;254;48;2;208;162;254m▄\u001b[0m\u001b[38;2;202;149;255;48;2;202;149;255m▄\u001b[0m\u001b[38;2;204;154;255;48;2;204;154;255m▄\u001b[0m\u001b[38;2;213;172;255;48;2;213;172;255m▄\u001b[0m\u001b[38;2;202;149;255;48;2;202;149;255m▄\u001b[0m\u001b[38;2;203;151;254;48;2;203;151;254m▄\u001b[0m\u001b[38;2;199;144;255;48;2;199;144;255m▄\u001b[0m\u001b[38;2;195;136;255;48;2;195;136;255m▄\u001b[0m\u001b[38;2;196;138;255;48;2;196;138;255m▄\u001b[0m\u001b[38;2;197;140;254;48;2;197;140;254m▄\u001b[0m\u001b[38;2;206;157;255;48;2;206;157;255m▄\u001b[0m\u001b[38;2;194;134;254;48;2;194;134;254m▄\u001b[0m\u001b[38;2;205;156;255;48;2;205;156;255m▄\u001b[0m\u001b[38;2;204;153;255;48;2;204;153;255m▄\u001b[0m\u001b[38;2;207;160;255;48;2;207;160;255m▄\u001b[0m\u001b[38;2;204;153;255;48;2;204;153;255m▄\u001b[0m\u001b[38;2;218;181;255;48;2;218;181;255m▄\u001b[0m\u001b[38;2;200;146;255;48;2;200;146;255m▄\u001b[0m\u001b[38;2;202;150;255;48;2;202;150;255m▄\u001b[0m\u001b[38;2;204;153;255;48;2;204;153;255m▄\u001b[0m\u001b[38;2;199;144;254;48;2;199;144;254m▄\u001b[0m\u001b[38;2;191;128;255;48;2;191;128;255m▄\u001b[0m\u001b[38;2;197;140;255;48;2;197;140;255m▄\u001b[0m\u001b[38;2;199;144;255;48;2;199;144;255m▄\u001b[0m\u001b[38;2;202;150;255;48;2;202;150;255m▄\u001b[0m │\n",
       "│           │ \u001b[38;2;202;149;254;48;2;202;149;254m▄\u001b[0m\u001b[38;2;202;149;254;48;2;202;149;254m▄\u001b[0m\u001b[38;2;203;152;254;48;2;203;152;254m▄\u001b[0m\u001b[38;2;204;154;254;48;2;204;154;254m▄\u001b[0m\u001b[38;2;215;176;255;48;2;215;176;255m▄\u001b[0m\u001b[38;2;200;145;254;48;2;200;145;254m▄\u001b[0m\u001b[38;2;205;156;255;48;2;205;156;255m▄\u001b[0m\u001b[38;2;198;141;254;48;2;198;141;254m▄\u001b[0m\u001b[38;2;201;147;255;48;2;201;147;255m▄\u001b[0m\u001b[38;2;201;147;254;48;2;201;147;254m▄\u001b[0m\u001b[38;2;200;146;255;48;2;200;146;255m▄\u001b[0m\u001b[38;2;210;165;254;48;2;210;165;254m▄\u001b[0m\u001b[38;2;200;146;255;48;2;200;146;255m▄\u001b[0m\u001b[38;2;191;127;255;48;2;191;127;255m▄\u001b[0m\u001b[38;2;206;158;255;48;2;206;158;255m▄\u001b[0m\u001b[38;2;203;152;255;48;2;203;152;255m▄\u001b[0m\u001b[38;2;203;151;255;48;2;203;151;255m▄\u001b[0m\u001b[38;2;205;156;254;48;2;205;156;254m▄\u001b[0m\u001b[38;2;194;133;255;48;2;194;133;255m▄\u001b[0m\u001b[38;2;200;145;255;48;2;200;145;255m▄\u001b[0m\u001b[38;2;194;134;255;48;2;194;134;255m▄\u001b[0m\u001b[38;2;200;146;255;48;2;200;146;255m▄\u001b[0m\u001b[38;2;198;142;254;48;2;198;142;254m▄\u001b[0m\u001b[38;2;207;160;255;48;2;207;160;255m▄\u001b[0m\u001b[38;2;194;134;255;48;2;194;134;255m▄\u001b[0m\u001b[38;2;201;147;255;48;2;201;147;255m▄\u001b[0m\u001b[38;2;203;152;255;48;2;203;152;255m▄\u001b[0m\u001b[38;2;199;144;255;48;2;199;144;255m▄\u001b[0m\u001b[38;2;207;159;255;48;2;207;159;255m▄\u001b[0m\u001b[38;2;205;156;255;48;2;205;156;255m▄\u001b[0m\u001b[38;2;199;144;255;48;2;199;144;255m▄\u001b[0m\u001b[38;2;204;153;255;48;2;204;153;255m▄\u001b[0m\u001b[38;2;197;140;255;48;2;197;140;255m▄\u001b[0m\u001b[38;2;198;141;255;48;2;198;141;255m▄\u001b[0m\u001b[38;2;198;141;255;48;2;198;141;255m▄\u001b[0m\u001b[38;2;205;155;255;48;2;205;155;255m▄\u001b[0m\u001b[38;2;194;134;254;48;2;194;134;254m▄\u001b[0m\u001b[38;2;206;158;255;48;2;206;158;255m▄\u001b[0m\u001b[38;2;180;105;255;48;2;180;105;255m▄\u001b[0m\u001b[38;2;198;142;255;48;2;198;142;255m▄\u001b[0m\u001b[38;2;202;150;255;48;2;202;150;255m▄\u001b[0m\u001b[38;2;193;132;255;48;2;193;132;255m▄\u001b[0m\u001b[38;2;204;154;254;48;2;204;154;254m▄\u001b[0m\u001b[38;2;159;64;255;48;2;159;64;255m▄\u001b[0m\u001b[38;2;202;149;254;48;2;202;149;254m▄\u001b[0m\u001b[38;2;201;148;254;48;2;201;148;254m▄\u001b[0m\u001b[38;2;195;136;255;48;2;195;136;255m▄\u001b[0m\u001b[38;2;201;147;254;48;2;201;147;254m▄\u001b[0m\u001b[38;2;200;146;255;48;2;200;146;255m▄\u001b[0m\u001b[38;2;195;135;255;48;2;195;135;255m▄\u001b[0m\u001b[38;2;198;141;255;48;2;198;141;255m▄\u001b[0m\u001b[38;2;200;146;254;48;2;200;146;254m▄\u001b[0m\u001b[38;2;200;146;255;48;2;200;146;255m▄\u001b[0m\u001b[38;2;193;132;255;48;2;193;132;255m▄\u001b[0m\u001b[38;2;195;135;255;48;2;195;135;255m▄\u001b[0m\u001b[38;2;199;144;255;48;2;199;144;255m▄\u001b[0m\u001b[38;2;206;157;255;48;2;206;157;255m▄\u001b[0m\u001b[38;2;201;147;255;48;2;201;147;255m▄\u001b[0m\u001b[38;2;198;141;255;48;2;198;141;255m▄\u001b[0m\u001b[38;2;203;152;255;48;2;203;152;255m▄\u001b[0m\u001b[38;2;203;152;255;48;2;203;152;255m▄\u001b[0m\u001b[38;2;200;146;255;48;2;200;146;255m▄\u001b[0m\u001b[38;2;209;164;255;48;2;209;164;255m▄\u001b[0m\u001b[38;2;200;146;255;48;2;200;146;255m▄\u001b[0m │\n",
       "│           │ \u001b[38;2;201;148;255;48;2;201;148;255m▄\u001b[0m\u001b[38;2;195;136;254;48;2;195;136;254m▄\u001b[0m\u001b[38;2;199;143;255;48;2;199;143;255m▄\u001b[0m\u001b[38;2;197;140;255;48;2;197;140;255m▄\u001b[0m\u001b[38;2;204;153;255;48;2;204;153;255m▄\u001b[0m\u001b[38;2;205;156;255;48;2;205;156;255m▄\u001b[0m\u001b[38;2;196;137;255;48;2;196;137;255m▄\u001b[0m\u001b[38;2;208;162;255;48;2;208;162;255m▄\u001b[0m\u001b[38;2;199;143;254;48;2;199;143;254m▄\u001b[0m\u001b[38;2;201;147;255;48;2;201;147;255m▄\u001b[0m\u001b[38;2;192;130;255;48;2;192;130;255m▄\u001b[0m\u001b[38;2;199;144;255;48;2;199;144;255m▄\u001b[0m\u001b[38;2;199;143;255;48;2;199;143;255m▄\u001b[0m\u001b[38;2;192;130;255;48;2;192;130;255m▄\u001b[0m\u001b[38;2;192;129;254;48;2;192;129;254m▄\u001b[0m\u001b[38;2;211;167;255;48;2;211;167;255m▄\u001b[0m\u001b[38;2;201;147;255;48;2;201;147;255m▄\u001b[0m\u001b[38;2;207;159;255;48;2;207;159;255m▄\u001b[0m\u001b[38;2;196;137;254;48;2;196;137;254m▄\u001b[0m\u001b[38;2;199;143;255;48;2;199;143;255m▄\u001b[0m\u001b[38;2;198;142;255;48;2;198;142;255m▄\u001b[0m\u001b[38;2;203;152;255;48;2;203;152;255m▄\u001b[0m\u001b[38;2;203;152;254;48;2;203;152;254m▄\u001b[0m\u001b[38;2;203;152;255;48;2;203;152;255m▄\u001b[0m\u001b[38;2;195;136;255;48;2;195;136;255m▄\u001b[0m\u001b[38;2;207;160;255;48;2;207;160;255m▄\u001b[0m\u001b[38;2;200;145;255;48;2;200;145;255m▄\u001b[0m\u001b[38;2;197;139;255;48;2;197;139;255m▄\u001b[0m\u001b[38;2;200;146;255;48;2;200;146;255m▄\u001b[0m\u001b[38;2;206;158;255;48;2;206;158;255m▄\u001b[0m\u001b[38;2;202;150;255;48;2;202;150;255m▄\u001b[0m\u001b[38;2;199;143;254;48;2;199;143;254m▄\u001b[0m\u001b[38;2;203;152;255;48;2;203;152;255m▄\u001b[0m\u001b[38;2;201;147;255;48;2;201;147;255m▄\u001b[0m\u001b[38;2;213;171;255;48;2;213;171;255m▄\u001b[0m\u001b[38;2;199;144;254;48;2;199;144;254m▄\u001b[0m\u001b[38;2;201;147;255;48;2;201;147;255m▄\u001b[0m\u001b[38;2;201;147;254;48;2;201;147;254m▄\u001b[0m\u001b[38;2;201;148;255;48;2;201;148;255m▄\u001b[0m\u001b[38;2;199;143;255;48;2;199;143;255m▄\u001b[0m\u001b[38;2;196;137;254;48;2;196;137;254m▄\u001b[0m\u001b[38;2;198;142;254;48;2;198;142;254m▄\u001b[0m\u001b[38;2;201;148;255;48;2;201;148;255m▄\u001b[0m\u001b[38;2;209;163;255;48;2;209;163;255m▄\u001b[0m\u001b[38;2;202;150;254;48;2;202;150;254m▄\u001b[0m\u001b[38;2;201;148;255;48;2;201;148;255m▄\u001b[0m\u001b[38;2;202;149;255;48;2;202;149;255m▄\u001b[0m\u001b[38;2;201;147;255;48;2;201;147;255m▄\u001b[0m\u001b[38;2;201;148;254;48;2;201;148;254m▄\u001b[0m\u001b[38;2;203;151;255;48;2;203;151;255m▄\u001b[0m\u001b[38;2;197;140;255;48;2;197;140;255m▄\u001b[0m\u001b[38;2;207;160;254;48;2;207;160;254m▄\u001b[0m\u001b[38;2;203;151;255;48;2;203;151;255m▄\u001b[0m\u001b[38;2;198;141;255;48;2;198;141;255m▄\u001b[0m\u001b[38;2;204;153;255;48;2;204;153;255m▄\u001b[0m\u001b[38;2;209;164;255;48;2;209;164;255m▄\u001b[0m\u001b[38;2;204;154;255;48;2;204;154;255m▄\u001b[0m\u001b[38;2;201;148;254;48;2;201;148;254m▄\u001b[0m\u001b[38;2;203;151;255;48;2;203;151;255m▄\u001b[0m\u001b[38;2;200;146;255;48;2;200;146;255m▄\u001b[0m\u001b[38;2;205;155;255;48;2;205;155;255m▄\u001b[0m\u001b[38;2;203;151;255;48;2;203;151;255m▄\u001b[0m\u001b[38;2;201;147;255;48;2;201;147;255m▄\u001b[0m  │\n",
       "╰───────────┴──────────────────────────────────────────────────────────────────╯\n"
      ]
     },
     "metadata": {},
     "output_type": "display_data"
    }
   ],
   "source": [
    "unsplash_lite_img_emb_da[0]"
   ]
  },
  {
   "cell_type": "code",
   "execution_count": 41,
   "id": "bd58a6fd",
   "metadata": {},
   "outputs": [],
   "source": [
    "unsplash_lite_img_emb_da.save_binary(\"../frontend/unsplash_lite_img_emb_da.bin\", compress='lz4')"
   ]
  },
  {
   "cell_type": "code",
   "execution_count": null,
   "id": "b2e6dd67",
   "metadata": {},
   "outputs": [],
   "source": [
    "# data_da = DocumentArray.load_binary(\"../frontend/unsplash_lite_img_emb_da.bin\", compress='lz4')"
   ]
  },
  {
   "cell_type": "code",
   "execution_count": null,
   "id": "40750dd6",
   "metadata": {},
   "outputs": [],
   "source": []
  }
 ],
 "metadata": {
  "kernelspec": {
   "display_name": "Python 3 (ipykernel)",
   "language": "python",
   "name": "python3"
  },
  "language_info": {
   "codemirror_mode": {
    "name": "ipython",
    "version": 3
   },
   "file_extension": ".py",
   "mimetype": "text/x-python",
   "name": "python",
   "nbconvert_exporter": "python",
   "pygments_lexer": "ipython3",
   "version": "3.10.6"
  }
 },
 "nbformat": 4,
 "nbformat_minor": 5
}
