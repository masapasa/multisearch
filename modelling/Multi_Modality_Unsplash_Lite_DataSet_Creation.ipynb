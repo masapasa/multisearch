{
 "cells": [
  {
   "cell_type": "code",
   "execution_count": null,
   "id": "a596d72c",
   "metadata": {},
   "outputs": [],
   "source": [
    "import numpy as np\n",
    "import pandas as pd\n",
    "import glob\n",
    "import os\n",
    "import requests\n",
    "from docarray import DocumentArray\n",
    "from docarray import dataclass\n",
    "from docarray.typing import Image, Text\n",
    "from docarray import Document"
   ]
  },
  {
   "cell_type": "code",
   "execution_count": null,
   "id": "480853e7",
   "metadata": {},
   "outputs": [],
   "source": [
    "# Download Unsplash lite dataset\n",
    "# !wget https://unsplash.com/data/lite/latest"
   ]
  },
  {
   "cell_type": "code",
   "execution_count": null,
   "id": "0ae315de",
   "metadata": {},
   "outputs": [],
   "source": [
    "# explore unsplash dataset, all csv files\n",
    "\n",
    "path = './'\n",
    "documents = ['photos', 'colors']\n",
    "datasets = {}\n",
    "\n",
    "for doc in documents:\n",
    "    files = glob.glob(path + doc + \".tsv*\")\n",
    "    \n",
    "    subsets = []\n",
    "    for filename in files:\n",
    "        df = pd.read_csv(filename, sep='\\t', header=0)\n",
    "        subsets.append(df)\n",
    "    \n",
    "    datasets[doc] = pd.concat(subsets, axis=0, ignore_index=True)"
   ]
  },
  {
   "cell_type": "code",
   "execution_count": null,
   "id": "d4373226",
   "metadata": {},
   "outputs": [],
   "source": [
    "datasets['photos']"
   ]
  },
  {
   "cell_type": "markdown",
   "id": "a839f51a",
   "metadata": {},
   "source": [
    "#### Data Cleaning"
   ]
  },
  {
   "cell_type": "code",
   "execution_count": null,
   "id": "71c1d2b6",
   "metadata": {},
   "outputs": [],
   "source": [
    "datasets['photos'].isna().sum()"
   ]
  },
  {
   "cell_type": "code",
   "execution_count": null,
   "id": "c8282c41",
   "metadata": {},
   "outputs": [],
   "source": [
    "df = datasets['photos'].dropna(axis=0, subset=['ai_description'])"
   ]
  },
  {
   "cell_type": "code",
   "execution_count": null,
   "id": "97bd270f",
   "metadata": {},
   "outputs": [],
   "source": [
    "print(len(df))"
   ]
  },
  {
   "cell_type": "code",
   "execution_count": null,
   "id": "195087c4",
   "metadata": {},
   "outputs": [],
   "source": [
    "df.isna().sum()"
   ]
  },
  {
   "cell_type": "code",
   "execution_count": null,
   "id": "3a66c1bf",
   "metadata": {},
   "outputs": [],
   "source": [
    "# get unique photo id's\n",
    "photo_id_list = list(set(df['photo_id'].values))\n",
    "print(len(photo_id_list))\n",
    "photo_id_list"
   ]
  },
  {
   "cell_type": "code",
   "execution_count": null,
   "id": "fdca0b3d",
   "metadata": {},
   "outputs": [],
   "source": [
    "# get all ai descriptions\n",
    "ai_description_list = df['ai_description'].values\n",
    "print(len(ai_description_list))\n",
    "ai_description_list"
   ]
  },
  {
   "cell_type": "markdown",
   "id": "f5883b66",
   "metadata": {},
   "source": [
    "#### Dataset(DocumentArray) Creation"
   ]
  },
  {
   "cell_type": "code",
   "execution_count": null,
   "id": "e8d13dfb",
   "metadata": {},
   "outputs": [],
   "source": [
    "@dataclass\n",
    "class Photo:\n",
    "    image: Image\n",
    "    description: Text"
   ]
  },
  {
   "cell_type": "code",
   "execution_count": null,
   "id": "8f0bbfaf",
   "metadata": {},
   "outputs": [],
   "source": [
    "da = DocumentArray()\n",
    "for photo_id, ai_description in zip(photo_id_list, ai_description_list):\n",
    "    try:\n",
    "        photo = Photo(\n",
    "            image = f'resize_images/{photo_id}.jpg',\n",
    "            description = f'{ai_description}',\n",
    "        )\n",
    "        doc = Document(photo)\n",
    "        da.append(doc)\n",
    "    except:\n",
    "        continue"
   ]
  },
  {
   "cell_type": "code",
   "execution_count": null,
   "id": "a961f544",
   "metadata": {},
   "outputs": [],
   "source": [
    "da.summary()"
   ]
  },
  {
   "cell_type": "code",
   "execution_count": null,
   "id": "046e615a",
   "metadata": {},
   "outputs": [],
   "source": [
    "da[0:1][0]"
   ]
  },
  {
   "cell_type": "code",
   "execution_count": null,
   "id": "2e8cd24a",
   "metadata": {},
   "outputs": [],
   "source": [
    "# create train and eval da\n",
    "train_da = da[:22599]\n",
    "eval_da = da[22600:]"
   ]
  },
  {
   "cell_type": "code",
   "execution_count": null,
   "id": "9a9f4a18",
   "metadata": {},
   "outputs": [],
   "source": [
    "train_da.summary()"
   ]
  },
  {
   "cell_type": "code",
   "execution_count": null,
   "id": "5ea0b5e6",
   "metadata": {},
   "outputs": [],
   "source": [
    "eval_da.summary()"
   ]
  },
  {
   "cell_type": "code",
   "execution_count": null,
   "id": "cec0eff6",
   "metadata": {},
   "outputs": [],
   "source": [
    "# push local da to jina cloud for storage\n",
    "eval_da.push(name='unsplash-lite-clean-eval-data-clip', show_progress=True)"
   ]
  },
  {
   "cell_type": "code",
   "execution_count": null,
   "id": "69e1e408",
   "metadata": {},
   "outputs": [],
   "source": [
    "# push local da to jina cloud for storage\n",
    "train_da.push(name='unsplash-lite-clean-train-data-clip', show_progress=True)"
   ]
  },
  {
   "cell_type": "markdown",
   "id": "ff579448",
   "metadata": {},
   "source": [
    "#### Finish"
   ]
  }
 ],
 "metadata": {
  "kernelspec": {
   "display_name": "Python 3.9.13 ('fast')",
   "language": "python",
   "name": "python3"
  },
  "language_info": {
   "codemirror_mode": {
    "name": "ipython",
    "version": 3
   },
   "file_extension": ".py",
   "mimetype": "text/x-python",
   "name": "python",
   "nbconvert_exporter": "python",
   "pygments_lexer": "ipython3",
   "version": "3.9.13"
  },
  "vscode": {
   "interpreter": {
    "hash": "91cf809ebeac7834cab322c0e9393d8c235d5aedcc8b94bfe1d55e7236ca8197"
   }
  }
 },
 "nbformat": 4,
 "nbformat_minor": 5
}
