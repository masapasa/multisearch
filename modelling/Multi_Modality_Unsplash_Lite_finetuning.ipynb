{
 "cells": [
  {
   "cell_type": "code",
   "execution_count": 1,
   "id": "a596d72c",
   "metadata": {},
   "outputs": [
    {
     "name": "stderr",
     "output_type": "stream",
     "text": [
      "/home/aswin/anaconda3/envs/fast/lib/python3.9/site-packages/requests/__init__.py:102: RequestsDependencyWarning: urllib3 (1.26.12) or chardet (5.0.0)/charset_normalizer (2.0.12) doesn't match a supported version!\n",
      "  warnings.warn(\"urllib3 ({}) or chardet ({})/charset_normalizer ({}) doesn't match a supported \"\n"
     ]
    }
   ],
   "source": [
    "import numpy as np\n",
    "import pandas as pd\n",
    "import glob\n",
    "import os\n",
    "import requests\n",
    "from docarray import DocumentArray\n",
    "from docarray import dataclass\n",
    "from docarray.typing import Image, Text\n",
    "from docarray import Document"
   ]
  },
  {
   "cell_type": "code",
   "execution_count": 3,
   "id": "0ae315de",
   "metadata": {},
   "outputs": [],
   "source": [
    "path = '/home/aswin/data/unsplash-research-dataset-lite-latest/'\n",
    "documents = ['photos', 'keywords', 'collections', 'colors']\n",
    "datasets = {}\n",
    "\n",
    "for doc in documents:\n",
    "    files = glob.glob(path + doc + \".tsv*\")\n",
    "    \n",
    "    subsets = []\n",
    "    for filename in files:\n",
    "        df = pd.read_csv(filename, sep='\\t', header=0)\n",
    "        subsets.append(df)\n",
    "    \n",
    "    datasets[doc] = pd.concat(subsets, axis=0, ignore_index=True)"
   ]
  },
  {
   "cell_type": "code",
   "execution_count": 57,
   "id": "d4373226",
   "metadata": {},
   "outputs": [
    {
     "data": {
      "text/html": [
       "<div>\n",
       "<style scoped>\n",
       "    .dataframe tbody tr th:only-of-type {\n",
       "        vertical-align: middle;\n",
       "    }\n",
       "\n",
       "    .dataframe tbody tr th {\n",
       "        vertical-align: top;\n",
       "    }\n",
       "\n",
       "    .dataframe thead th {\n",
       "        text-align: right;\n",
       "    }\n",
       "</style>\n",
       "<table border=\"1\" class=\"dataframe\">\n",
       "  <thead>\n",
       "    <tr style=\"text-align: right;\">\n",
       "      <th></th>\n",
       "      <th>photo_id</th>\n",
       "      <th>photo_url</th>\n",
       "      <th>photo_image_url</th>\n",
       "      <th>photo_submitted_at</th>\n",
       "      <th>photo_featured</th>\n",
       "      <th>photo_width</th>\n",
       "      <th>photo_height</th>\n",
       "      <th>photo_aspect_ratio</th>\n",
       "      <th>photo_description</th>\n",
       "      <th>photographer_username</th>\n",
       "      <th>...</th>\n",
       "      <th>photo_location_country</th>\n",
       "      <th>photo_location_city</th>\n",
       "      <th>stats_views</th>\n",
       "      <th>stats_downloads</th>\n",
       "      <th>ai_description</th>\n",
       "      <th>ai_primary_landmark_name</th>\n",
       "      <th>ai_primary_landmark_latitude</th>\n",
       "      <th>ai_primary_landmark_longitude</th>\n",
       "      <th>ai_primary_landmark_confidence</th>\n",
       "      <th>blur_hash</th>\n",
       "    </tr>\n",
       "  </thead>\n",
       "  <tbody>\n",
       "    <tr>\n",
       "      <th>0</th>\n",
       "      <td>XMyPniM9LF0</td>\n",
       "      <td>https://unsplash.com/photos/XMyPniM9LF0</td>\n",
       "      <td>https://images.unsplash.com/uploads/1411949294...</td>\n",
       "      <td>2014-09-29 00:08:38.594364</td>\n",
       "      <td>t</td>\n",
       "      <td>4272</td>\n",
       "      <td>2848</td>\n",
       "      <td>1.50</td>\n",
       "      <td>Woman exploring a forest</td>\n",
       "      <td>michellespencer77</td>\n",
       "      <td>...</td>\n",
       "      <td>NaN</td>\n",
       "      <td>NaN</td>\n",
       "      <td>2375421</td>\n",
       "      <td>6967</td>\n",
       "      <td>woman walking in the middle of forest</td>\n",
       "      <td>NaN</td>\n",
       "      <td>NaN</td>\n",
       "      <td>NaN</td>\n",
       "      <td>NaN</td>\n",
       "      <td>L56bVcRRIWMh.gVunlS4SMbsRRxr</td>\n",
       "    </tr>\n",
       "    <tr>\n",
       "      <th>1</th>\n",
       "      <td>rDLBArZUl1c</td>\n",
       "      <td>https://unsplash.com/photos/rDLBArZUl1c</td>\n",
       "      <td>https://images.unsplash.com/photo-141633941111...</td>\n",
       "      <td>2014-11-18 19:36:57.08945</td>\n",
       "      <td>t</td>\n",
       "      <td>3000</td>\n",
       "      <td>4000</td>\n",
       "      <td>0.75</td>\n",
       "      <td>Succulents in a terrarium</td>\n",
       "      <td>ugmonk</td>\n",
       "      <td>...</td>\n",
       "      <td>NaN</td>\n",
       "      <td>NaN</td>\n",
       "      <td>13784815</td>\n",
       "      <td>82141</td>\n",
       "      <td>succulent plants in clear glass terrarium</td>\n",
       "      <td>NaN</td>\n",
       "      <td>NaN</td>\n",
       "      <td>NaN</td>\n",
       "      <td>NaN</td>\n",
       "      <td>LvI$4txu%2s:_4t6WUj]xat7RPoe</td>\n",
       "    </tr>\n",
       "    <tr>\n",
       "      <th>2</th>\n",
       "      <td>cNDGZ2sQ3Bo</td>\n",
       "      <td>https://unsplash.com/photos/cNDGZ2sQ3Bo</td>\n",
       "      <td>https://images.unsplash.com/photo-142014251503...</td>\n",
       "      <td>2015-01-01 20:02:02.097036</td>\n",
       "      <td>t</td>\n",
       "      <td>2564</td>\n",
       "      <td>1710</td>\n",
       "      <td>1.50</td>\n",
       "      <td>Rural winter mountainside</td>\n",
       "      <td>johnprice</td>\n",
       "      <td>...</td>\n",
       "      <td>NaN</td>\n",
       "      <td>NaN</td>\n",
       "      <td>1302461</td>\n",
       "      <td>3428</td>\n",
       "      <td>rocky mountain under gray sky at daytime</td>\n",
       "      <td>NaN</td>\n",
       "      <td>NaN</td>\n",
       "      <td>NaN</td>\n",
       "      <td>NaN</td>\n",
       "      <td>LhMj%NxvM{t7_4t7aeoM%2M{ozj[</td>\n",
       "    </tr>\n",
       "    <tr>\n",
       "      <th>3</th>\n",
       "      <td>iuZ_D1eoq9k</td>\n",
       "      <td>https://unsplash.com/photos/iuZ_D1eoq9k</td>\n",
       "      <td>https://images.unsplash.com/photo-141487280988...</td>\n",
       "      <td>2014-11-01 20:15:13.410073</td>\n",
       "      <td>t</td>\n",
       "      <td>2912</td>\n",
       "      <td>4368</td>\n",
       "      <td>0.67</td>\n",
       "      <td>Poppy seeds and flowers</td>\n",
       "      <td>krisatomic</td>\n",
       "      <td>...</td>\n",
       "      <td>NaN</td>\n",
       "      <td>NaN</td>\n",
       "      <td>2890238</td>\n",
       "      <td>33704</td>\n",
       "      <td>red common poppy flower selective focus phography</td>\n",
       "      <td>NaN</td>\n",
       "      <td>NaN</td>\n",
       "      <td>NaN</td>\n",
       "      <td>NaN</td>\n",
       "      <td>LSC7DirZAsX7}Br@GEWWmnoLWCnj</td>\n",
       "    </tr>\n",
       "    <tr>\n",
       "      <th>4</th>\n",
       "      <td>BeD3vjQ8SI0</td>\n",
       "      <td>https://unsplash.com/photos/BeD3vjQ8SI0</td>\n",
       "      <td>https://images.unsplash.com/photo-141700759404...</td>\n",
       "      <td>2014-11-26 13:13:50.134383</td>\n",
       "      <td>t</td>\n",
       "      <td>4896</td>\n",
       "      <td>3264</td>\n",
       "      <td>1.50</td>\n",
       "      <td>Silhouette near dark trees</td>\n",
       "      <td>jonaseriksson</td>\n",
       "      <td>...</td>\n",
       "      <td>NaN</td>\n",
       "      <td>NaN</td>\n",
       "      <td>8704860</td>\n",
       "      <td>49662</td>\n",
       "      <td>trees during night time</td>\n",
       "      <td>NaN</td>\n",
       "      <td>NaN</td>\n",
       "      <td>NaN</td>\n",
       "      <td>NaN</td>\n",
       "      <td>L25|_:V@0hxtI=W;odae0ht6=^NG</td>\n",
       "    </tr>\n",
       "    <tr>\n",
       "      <th>...</th>\n",
       "      <td>...</td>\n",
       "      <td>...</td>\n",
       "      <td>...</td>\n",
       "      <td>...</td>\n",
       "      <td>...</td>\n",
       "      <td>...</td>\n",
       "      <td>...</td>\n",
       "      <td>...</td>\n",
       "      <td>...</td>\n",
       "      <td>...</td>\n",
       "      <td>...</td>\n",
       "      <td>...</td>\n",
       "      <td>...</td>\n",
       "      <td>...</td>\n",
       "      <td>...</td>\n",
       "      <td>...</td>\n",
       "      <td>...</td>\n",
       "      <td>...</td>\n",
       "      <td>...</td>\n",
       "      <td>...</td>\n",
       "      <td>...</td>\n",
       "    </tr>\n",
       "    <tr>\n",
       "      <th>24995</th>\n",
       "      <td>c7OrOMxrurA</td>\n",
       "      <td>https://unsplash.com/photos/c7OrOMxrurA</td>\n",
       "      <td>https://images.unsplash.com/photo-159300793778...</td>\n",
       "      <td>2020-06-24 14:12:32.397564</td>\n",
       "      <td>t</td>\n",
       "      <td>4160</td>\n",
       "      <td>6240</td>\n",
       "      <td>0.67</td>\n",
       "      <td>NaN</td>\n",
       "      <td>andyadcon</td>\n",
       "      <td>...</td>\n",
       "      <td>NaN</td>\n",
       "      <td>NaN</td>\n",
       "      <td>1603469</td>\n",
       "      <td>4757</td>\n",
       "      <td>black metal fence during daytime</td>\n",
       "      <td>NaN</td>\n",
       "      <td>NaN</td>\n",
       "      <td>NaN</td>\n",
       "      <td>NaN</td>\n",
       "      <td>L34d_aJ-I:R*tlxGWUjY1y$i$hsm</td>\n",
       "    </tr>\n",
       "    <tr>\n",
       "      <th>24996</th>\n",
       "      <td>15IuQ5a0Qwg</td>\n",
       "      <td>https://unsplash.com/photos/15IuQ5a0Qwg</td>\n",
       "      <td>https://images.unsplash.com/photo-159296761254...</td>\n",
       "      <td>2020-06-24 03:00:42.603563</td>\n",
       "      <td>t</td>\n",
       "      <td>6000</td>\n",
       "      <td>4000</td>\n",
       "      <td>1.50</td>\n",
       "      <td>Pearl earrings and seashells</td>\n",
       "      <td>contentpixie</td>\n",
       "      <td>...</td>\n",
       "      <td>Australia</td>\n",
       "      <td>Melbourne</td>\n",
       "      <td>550016</td>\n",
       "      <td>2544</td>\n",
       "      <td>white and brown seashell on white surface</td>\n",
       "      <td>NaN</td>\n",
       "      <td>NaN</td>\n",
       "      <td>NaN</td>\n",
       "      <td>NaN</td>\n",
       "      <td>LAM%_?_NNIH?xvRPx]kBajRPWAxv</td>\n",
       "    </tr>\n",
       "    <tr>\n",
       "      <th>24997</th>\n",
       "      <td>w8nrcXz8pwk</td>\n",
       "      <td>https://unsplash.com/photos/w8nrcXz8pwk</td>\n",
       "      <td>https://images.unsplash.com/photo-159299937329...</td>\n",
       "      <td>2020-06-24 11:53:00.668613</td>\n",
       "      <td>t</td>\n",
       "      <td>2584</td>\n",
       "      <td>4592</td>\n",
       "      <td>0.56</td>\n",
       "      <td>NaN</td>\n",
       "      <td>maur1ts</td>\n",
       "      <td>...</td>\n",
       "      <td>Tansania</td>\n",
       "      <td>NaN</td>\n",
       "      <td>500831</td>\n",
       "      <td>3923</td>\n",
       "      <td>leopard on brown tree trunk during daytime</td>\n",
       "      <td>NaN</td>\n",
       "      <td>NaN</td>\n",
       "      <td>NaN</td>\n",
       "      <td>NaN</td>\n",
       "      <td>LlK1wK00M{%MxvV@x[tRM|oyt8t7</td>\n",
       "    </tr>\n",
       "    <tr>\n",
       "      <th>24998</th>\n",
       "      <td>n1jHrRhehUI</td>\n",
       "      <td>https://unsplash.com/photos/n1jHrRhehUI</td>\n",
       "      <td>https://images.unsplash.com/photo-159192792878...</td>\n",
       "      <td>2020-06-12 02:13:04.409162</td>\n",
       "      <td>t</td>\n",
       "      <td>3533</td>\n",
       "      <td>4824</td>\n",
       "      <td>0.73</td>\n",
       "      <td>Floral truck in the streets of Rome</td>\n",
       "      <td>keithalva</td>\n",
       "      <td>...</td>\n",
       "      <td>Italy</td>\n",
       "      <td>Rome</td>\n",
       "      <td>335692</td>\n",
       "      <td>1734</td>\n",
       "      <td>woman in beige coat and white hat standing on ...</td>\n",
       "      <td>NaN</td>\n",
       "      <td>NaN</td>\n",
       "      <td>NaN</td>\n",
       "      <td>NaN</td>\n",
       "      <td>LOIhKfV@0J%N~WM{sT-=g4M{Mxx]</td>\n",
       "    </tr>\n",
       "    <tr>\n",
       "      <th>24999</th>\n",
       "      <td>Ic74ACoaAX0</td>\n",
       "      <td>https://unsplash.com/photos/Ic74ACoaAX0</td>\n",
       "      <td>https://images.unsplash.com/photo-159240763188...</td>\n",
       "      <td>2020-06-17 15:28:28.662711</td>\n",
       "      <td>t</td>\n",
       "      <td>4000</td>\n",
       "      <td>6000</td>\n",
       "      <td>0.67</td>\n",
       "      <td>NaN</td>\n",
       "      <td>alexkurchev</td>\n",
       "      <td>...</td>\n",
       "      <td>NaN</td>\n",
       "      <td>NaN</td>\n",
       "      <td>143834</td>\n",
       "      <td>1104</td>\n",
       "      <td>green plants on brown rocky mountain under blu...</td>\n",
       "      <td>NaN</td>\n",
       "      <td>NaN</td>\n",
       "      <td>NaN</td>\n",
       "      <td>NaN</td>\n",
       "      <td>LxIOkN%ge.kC.Tozaeoft7VsWBkC</td>\n",
       "    </tr>\n",
       "  </tbody>\n",
       "</table>\n",
       "<p>25000 rows × 31 columns</p>\n",
       "</div>"
      ],
      "text/plain": [
       "          photo_id                                photo_url  \\\n",
       "0      XMyPniM9LF0  https://unsplash.com/photos/XMyPniM9LF0   \n",
       "1      rDLBArZUl1c  https://unsplash.com/photos/rDLBArZUl1c   \n",
       "2      cNDGZ2sQ3Bo  https://unsplash.com/photos/cNDGZ2sQ3Bo   \n",
       "3      iuZ_D1eoq9k  https://unsplash.com/photos/iuZ_D1eoq9k   \n",
       "4      BeD3vjQ8SI0  https://unsplash.com/photos/BeD3vjQ8SI0   \n",
       "...            ...                                      ...   \n",
       "24995  c7OrOMxrurA  https://unsplash.com/photos/c7OrOMxrurA   \n",
       "24996  15IuQ5a0Qwg  https://unsplash.com/photos/15IuQ5a0Qwg   \n",
       "24997  w8nrcXz8pwk  https://unsplash.com/photos/w8nrcXz8pwk   \n",
       "24998  n1jHrRhehUI  https://unsplash.com/photos/n1jHrRhehUI   \n",
       "24999  Ic74ACoaAX0  https://unsplash.com/photos/Ic74ACoaAX0   \n",
       "\n",
       "                                         photo_image_url  \\\n",
       "0      https://images.unsplash.com/uploads/1411949294...   \n",
       "1      https://images.unsplash.com/photo-141633941111...   \n",
       "2      https://images.unsplash.com/photo-142014251503...   \n",
       "3      https://images.unsplash.com/photo-141487280988...   \n",
       "4      https://images.unsplash.com/photo-141700759404...   \n",
       "...                                                  ...   \n",
       "24995  https://images.unsplash.com/photo-159300793778...   \n",
       "24996  https://images.unsplash.com/photo-159296761254...   \n",
       "24997  https://images.unsplash.com/photo-159299937329...   \n",
       "24998  https://images.unsplash.com/photo-159192792878...   \n",
       "24999  https://images.unsplash.com/photo-159240763188...   \n",
       "\n",
       "               photo_submitted_at photo_featured  photo_width  photo_height  \\\n",
       "0      2014-09-29 00:08:38.594364              t         4272          2848   \n",
       "1       2014-11-18 19:36:57.08945              t         3000          4000   \n",
       "2      2015-01-01 20:02:02.097036              t         2564          1710   \n",
       "3      2014-11-01 20:15:13.410073              t         2912          4368   \n",
       "4      2014-11-26 13:13:50.134383              t         4896          3264   \n",
       "...                           ...            ...          ...           ...   \n",
       "24995  2020-06-24 14:12:32.397564              t         4160          6240   \n",
       "24996  2020-06-24 03:00:42.603563              t         6000          4000   \n",
       "24997  2020-06-24 11:53:00.668613              t         2584          4592   \n",
       "24998  2020-06-12 02:13:04.409162              t         3533          4824   \n",
       "24999  2020-06-17 15:28:28.662711              t         4000          6000   \n",
       "\n",
       "       photo_aspect_ratio                    photo_description  \\\n",
       "0                    1.50             Woman exploring a forest   \n",
       "1                    0.75            Succulents in a terrarium   \n",
       "2                    1.50            Rural winter mountainside   \n",
       "3                    0.67              Poppy seeds and flowers   \n",
       "4                    1.50           Silhouette near dark trees   \n",
       "...                   ...                                  ...   \n",
       "24995                0.67                                  NaN   \n",
       "24996                1.50         Pearl earrings and seashells   \n",
       "24997                0.56                                  NaN   \n",
       "24998                0.73  Floral truck in the streets of Rome   \n",
       "24999                0.67                                  NaN   \n",
       "\n",
       "      photographer_username  ... photo_location_country photo_location_city  \\\n",
       "0         michellespencer77  ...                    NaN                 NaN   \n",
       "1                    ugmonk  ...                    NaN                 NaN   \n",
       "2                 johnprice  ...                    NaN                 NaN   \n",
       "3                krisatomic  ...                    NaN                 NaN   \n",
       "4             jonaseriksson  ...                    NaN                 NaN   \n",
       "...                     ...  ...                    ...                 ...   \n",
       "24995             andyadcon  ...                    NaN                 NaN   \n",
       "24996          contentpixie  ...              Australia           Melbourne   \n",
       "24997               maur1ts  ...               Tansania                 NaN   \n",
       "24998             keithalva  ...                  Italy                Rome   \n",
       "24999           alexkurchev  ...                    NaN                 NaN   \n",
       "\n",
       "      stats_views stats_downloads  \\\n",
       "0         2375421            6967   \n",
       "1        13784815           82141   \n",
       "2         1302461            3428   \n",
       "3         2890238           33704   \n",
       "4         8704860           49662   \n",
       "...           ...             ...   \n",
       "24995     1603469            4757   \n",
       "24996      550016            2544   \n",
       "24997      500831            3923   \n",
       "24998      335692            1734   \n",
       "24999      143834            1104   \n",
       "\n",
       "                                          ai_description  \\\n",
       "0                  woman walking in the middle of forest   \n",
       "1              succulent plants in clear glass terrarium   \n",
       "2               rocky mountain under gray sky at daytime   \n",
       "3      red common poppy flower selective focus phography   \n",
       "4                                trees during night time   \n",
       "...                                                  ...   \n",
       "24995                   black metal fence during daytime   \n",
       "24996          white and brown seashell on white surface   \n",
       "24997         leopard on brown tree trunk during daytime   \n",
       "24998  woman in beige coat and white hat standing on ...   \n",
       "24999  green plants on brown rocky mountain under blu...   \n",
       "\n",
       "      ai_primary_landmark_name ai_primary_landmark_latitude  \\\n",
       "0                          NaN                          NaN   \n",
       "1                          NaN                          NaN   \n",
       "2                          NaN                          NaN   \n",
       "3                          NaN                          NaN   \n",
       "4                          NaN                          NaN   \n",
       "...                        ...                          ...   \n",
       "24995                      NaN                          NaN   \n",
       "24996                      NaN                          NaN   \n",
       "24997                      NaN                          NaN   \n",
       "24998                      NaN                          NaN   \n",
       "24999                      NaN                          NaN   \n",
       "\n",
       "      ai_primary_landmark_longitude ai_primary_landmark_confidence  \\\n",
       "0                               NaN                            NaN   \n",
       "1                               NaN                            NaN   \n",
       "2                               NaN                            NaN   \n",
       "3                               NaN                            NaN   \n",
       "4                               NaN                            NaN   \n",
       "...                             ...                            ...   \n",
       "24995                           NaN                            NaN   \n",
       "24996                           NaN                            NaN   \n",
       "24997                           NaN                            NaN   \n",
       "24998                           NaN                            NaN   \n",
       "24999                           NaN                            NaN   \n",
       "\n",
       "                          blur_hash  \n",
       "0      L56bVcRRIWMh.gVunlS4SMbsRRxr  \n",
       "1      LvI$4txu%2s:_4t6WUj]xat7RPoe  \n",
       "2      LhMj%NxvM{t7_4t7aeoM%2M{ozj[  \n",
       "3      LSC7DirZAsX7}Br@GEWWmnoLWCnj  \n",
       "4      L25|_:V@0hxtI=W;odae0ht6=^NG  \n",
       "...                             ...  \n",
       "24995  L34d_aJ-I:R*tlxGWUjY1y$i$hsm  \n",
       "24996  LAM%_?_NNIH?xvRPx]kBajRPWAxv  \n",
       "24997  LlK1wK00M{%MxvV@x[tRM|oyt8t7  \n",
       "24998  LOIhKfV@0J%N~WM{sT-=g4M{Mxx]  \n",
       "24999  LxIOkN%ge.kC.Tozaeoft7VsWBkC  \n",
       "\n",
       "[25000 rows x 31 columns]"
      ]
     },
     "execution_count": 57,
     "metadata": {},
     "output_type": "execute_result"
    }
   ],
   "source": [
    "datasets['photos']"
   ]
  },
  {
   "cell_type": "code",
   "execution_count": null,
   "id": "71c1d2b6",
   "metadata": {},
   "outputs": [],
   "source": [
    "import finetuner\n",
    "from finetuner.callback import EvaluationCallback\n",
    "\n",
    "finetuner.login()\n",
    "\n",
    "run = finetuner.fit(\n",
    "    model='resnet50',\n",
    "    run_name='resnet50-tll-run',\n",
    "    train_data='tll-train-data',\n",
    "    callbacks=[\n",
    "        EvaluationCallback(\n",
    "            query_data='tll-test-query-data',\n",
    "            index_data='tll-test-index-data',\n",
    "        )\n",
    "    ],\n",
    ")"
   ]
  },
  {
   "cell_type": "code",
   "execution_count": 10,
   "id": "c8282c41",
   "metadata": {},
   "outputs": [],
   "source": [
    "# df = datasets['photos'].dropna(axis=0, subset=['ai_description'])"
   ]
  },
  {
   "cell_type": "code",
   "execution_count": 11,
   "id": "97bd270f",
   "metadata": {},
   "outputs": [],
   "source": [
    "# df"
   ]
  },
  {
   "cell_type": "code",
   "execution_count": 12,
   "id": "195087c4",
   "metadata": {},
   "outputs": [],
   "source": [
    "# df.isna().sum()"
   ]
  },
  {
   "cell_type": "code",
   "execution_count": 13,
   "id": "7ef34045",
   "metadata": {},
   "outputs": [],
   "source": [
    "# # Iterate over photo_id and ai_descriptions columns\n",
    "# for column in df[['photo_id', 'ai_description']]:\n",
    "#     # Select column contents by column name using [] operator\n",
    "#     columnSeriesObj = df[column]\n",
    "#     print('Colunm Name : ', column)\n",
    "#     print('Column Contents : ', columnSeriesObj.values)"
   ]
  },
  {
   "cell_type": "code",
   "execution_count": null,
   "id": "3a66c1bf",
   "metadata": {},
   "outputs": [],
   "source": [
    "# get unique image id's\n",
    "photo_id_list = list(set(df['photo_id'].values))\n",
    "print(len(photo_id_list))\n",
    "photo_id_list"
   ]
  },
  {
   "cell_type": "code",
   "execution_count": null,
   "id": "fdca0b3d",
   "metadata": {},
   "outputs": [],
   "source": [
    "ai_description_list = df['ai_description'].values\n",
    "ai_description_list"
   ]
  },
  {
   "cell_type": "code",
   "execution_count": 6,
   "id": "8f0bbfaf",
   "metadata": {},
   "outputs": [
    {
     "ename": "NameError",
     "evalue": "name 'ai_description_list' is not defined",
     "output_type": "error",
     "traceback": [
      "\u001b[0;31m---------------------------------------------------------------------------\u001b[0m",
      "\u001b[0;31mNameError\u001b[0m                                 Traceback (most recent call last)",
      "Cell \u001b[0;32mIn [6], line 2\u001b[0m\n\u001b[1;32m      1\u001b[0m da \u001b[39m=\u001b[39m DocumentArray()\n\u001b[0;32m----> 2\u001b[0m \u001b[39mfor\u001b[39;00m photo_id, ai_description \u001b[39min\u001b[39;00m \u001b[39mzip\u001b[39m(photo_id_list,ai_description_list):\n\u001b[1;32m      3\u001b[0m     \u001b[39mtry\u001b[39;00m:\n\u001b[1;32m      4\u001b[0m         photo \u001b[39m=\u001b[39m Photo(\n\u001b[1;32m      5\u001b[0m             image \u001b[39m=\u001b[39m \u001b[39mf\u001b[39m\u001b[39m'\u001b[39m\u001b[39mresize_images/\u001b[39m\u001b[39m{\u001b[39;00mphoto_id\u001b[39m}\u001b[39;00m\u001b[39m.jpg\u001b[39m\u001b[39m'\u001b[39m,\n\u001b[1;32m      6\u001b[0m             description \u001b[39m=\u001b[39m \u001b[39mf\u001b[39m\u001b[39m'\u001b[39m\u001b[39m{\u001b[39;00mai_description\u001b[39m}\u001b[39;00m\u001b[39m'\u001b[39m,\n\u001b[1;32m      7\u001b[0m         )\n",
      "\u001b[0;31mNameError\u001b[0m: name 'ai_description_list' is not defined"
     ]
    }
   ],
   "source": [
    "da = DocumentArray()\n",
    "for photo_id, ai_description in zip(photo_id_list,ai_description_list):\n",
    "    try:\n",
    "        photo = Photo(\n",
    "            image = f'resize_images/{photo_id}.jpg',\n",
    "            description = f'{ai_description}',\n",
    "        )\n",
    "        doc = Document(photo)\n",
    "        da.append(doc)\n",
    "    except:\n",
    "        continue"
   ]
  },
  {
   "cell_type": "code",
   "execution_count": 17,
   "id": "a961f544",
   "metadata": {},
   "outputs": [],
   "source": [
    "da.summary()"
   ]
  },
  {
   "cell_type": "code",
   "execution_count": 18,
   "id": "046e615a",
   "metadata": {},
   "outputs": [],
   "source": [
    "da[0:1][0]"
   ]
  },
  {
   "cell_type": "code",
   "execution_count": 7,
   "id": "2e8cd24a",
   "metadata": {},
   "outputs": [],
   "source": [
    "# create train and eval da\n",
    "train_da = da[:22599]\n",
    "eval_da = da[22600:]"
   ]
  },
  {
   "cell_type": "code",
   "execution_count": 20,
   "id": "9a9f4a18",
   "metadata": {},
   "outputs": [],
   "source": [
    "train_da.summary()"
   ]
  },
  {
   "cell_type": "code",
   "execution_count": 21,
   "id": "5ea0b5e6",
   "metadata": {},
   "outputs": [],
   "source": [
    "eval_da.summary()"
   ]
  },
  {
   "cell_type": "code",
   "execution_count": 8,
   "id": "cec0eff6",
   "metadata": {},
   "outputs": [
    {
     "data": {
      "text/html": [
       "<pre style=\"white-space:pre;overflow-x:auto;line-height:normal;font-family:Menlo,'DejaVu Sans Mono',consolas,'Courier New',monospace\">🔐 <span style=\"color: #008000; text-decoration-color: #008000; font-weight: bold\">You are logged in to Jina AI</span> as <span style=\"font-weight: bold\">masapasa</span>. To log out, use <span style=\"color: #7f7f7f; text-decoration-color: #7f7f7f\">jina auth logout</span>.\n",
       "</pre>\n"
      ],
      "text/plain": [
       "🔐 \u001b[1;32mYou are logged in to Jina AI\u001b[0m as \u001b[1mmasapasa\u001b[0m. To log out, use \u001b[2mjina auth logout\u001b[0m.\n"
      ]
     },
     "metadata": {},
     "output_type": "display_data"
    },
    {
     "data": {
      "application/vnd.jupyter.widget-view+json": {
       "model_id": "f0aed16ae6e24935b71c00fc750d7945",
       "version_major": 2,
       "version_minor": 0
      },
      "text/plain": [
       "Output()"
      ]
     },
     "metadata": {},
     "output_type": "display_data"
    },
    {
     "data": {
      "text/html": [
       "<pre style=\"white-space:pre;overflow-x:auto;line-height:normal;font-family:Menlo,'DejaVu Sans Mono',consolas,'Courier New',monospace\">\n",
       "</pre>\n"
      ],
      "text/plain": [
       "\n"
      ]
     },
     "metadata": {},
     "output_type": "display_data"
    },
    {
     "data": {
      "text/html": [
       "<pre style=\"white-space:pre;overflow-x:auto;line-height:normal;font-family:Menlo,'DejaVu Sans Mono',consolas,'Courier New',monospace\">\n",
       "</pre>\n"
      ],
      "text/plain": [
       "\n"
      ]
     },
     "metadata": {},
     "output_type": "display_data"
    },
    {
     "data": {
      "text/html": [
       "<pre style=\"white-space:pre;overflow-x:auto;line-height:normal;font-family:Menlo,'DejaVu Sans Mono',consolas,'Courier New',monospace\"></pre>\n"
      ],
      "text/plain": []
     },
     "metadata": {},
     "output_type": "display_data"
    },
    {
     "data": {
      "text/html": [
       "<pre style=\"white-space:pre;overflow-x:auto;line-height:normal;font-family:Menlo,'DejaVu Sans Mono',consolas,'Courier New',monospace\">\n",
       "</pre>\n"
      ],
      "text/plain": [
       "\n"
      ]
     },
     "metadata": {},
     "output_type": "display_data"
    },
    {
     "ename": "HTTPError",
     "evalue": "403 Client Error: OperationNotAllowedError: Current user is not allowed to edit this artifact. Permission denied. for url: https://api.hubble.jina.ai/v2/rpc/artifact.upload",
     "output_type": "error",
     "traceback": [
      "\u001b[0;31m---------------------------------------------------------------------------\u001b[0m",
      "\u001b[0;31mHTTPError\u001b[0m                                 Traceback (most recent call last)",
      "Cell \u001b[0;32mIn [8], line 2\u001b[0m\n\u001b[1;32m      1\u001b[0m \u001b[39m# push local da to jina cloud for storage\u001b[39;00m\n\u001b[0;32m----> 2\u001b[0m eval_da\u001b[39m.\u001b[39;49mpush(name\u001b[39m=\u001b[39;49m\u001b[39m'\u001b[39;49m\u001b[39munsplash-lite-eval-data-clip\u001b[39;49m\u001b[39m'\u001b[39;49m, show_progress\u001b[39m=\u001b[39;49m\u001b[39mTrue\u001b[39;49;00m)\n",
      "File \u001b[0;32m~/anaconda3/envs/fast/lib/python3.9/site-packages/hubble/__init__.py:48\u001b[0m, in \u001b[0;36mlogin_required.<locals>.arg_wrapper\u001b[0;34m(*args, **kwargs)\u001b[0m\n\u001b[1;32m     46\u001b[0m \u001b[39mtry\u001b[39;00m:\n\u001b[1;32m     47\u001b[0m     Client(jsonify\u001b[39m=\u001b[39m\u001b[39mTrue\u001b[39;00m)\u001b[39m.\u001b[39mget_user_info()\n\u001b[0;32m---> 48\u001b[0m     \u001b[39mreturn\u001b[39;00m func(\u001b[39m*\u001b[39;49margs, \u001b[39m*\u001b[39;49m\u001b[39m*\u001b[39;49mkwargs)\n\u001b[1;32m     49\u001b[0m \u001b[39mexcept\u001b[39;00m AuthenticationRequiredError:\n\u001b[1;32m     50\u001b[0m     \u001b[39mraise\u001b[39;00m AuthenticationRequiredError(\n\u001b[1;32m     51\u001b[0m         response\u001b[39m=\u001b[39m{},\n\u001b[1;32m     52\u001b[0m         message\u001b[39m=\u001b[39m\u001b[39mf\u001b[39m\u001b[39m'\u001b[39m\u001b[39mJina auth token is not provided or has expired. \u001b[39m\u001b[39m{\u001b[39;00mfunc\u001b[39m!r}\u001b[39;00m\u001b[39m requires login to Jina AI, \u001b[39m\u001b[39m'\u001b[39m\n\u001b[1;32m     53\u001b[0m         \u001b[39mf\u001b[39m\u001b[39m'\u001b[39m\u001b[39mplease do `jina auth login -f` or set env variable `JINA_AUTH_TOKEN` with correct token\u001b[39m\u001b[39m'\u001b[39m,\n\u001b[1;32m     54\u001b[0m     ) \u001b[39mfrom\u001b[39;00m \u001b[39mNone\u001b[39m\n",
      "File \u001b[0;32m~/anaconda3/envs/fast/lib/python3.9/site-packages/docarray/array/mixins/io/pushpull.py:256\u001b[0m, in \u001b[0;36mPushPullMixin.push\u001b[0;34m(self, name, show_progress, public, branding)\u001b[0m\n\u001b[1;32m    254\u001b[0m \u001b[39mif\u001b[39;00m response\u001b[39m.\u001b[39mstatus_code \u001b[39m>\u001b[39m\u001b[39m=\u001b[39m \u001b[39m400\u001b[39m \u001b[39mand\u001b[39;00m \u001b[39m'\u001b[39m\u001b[39mreadableMessage\u001b[39m\u001b[39m'\u001b[39m \u001b[39min\u001b[39;00m response\u001b[39m.\u001b[39mjson():\n\u001b[1;32m    255\u001b[0m     response\u001b[39m.\u001b[39mreason \u001b[39m=\u001b[39m response\u001b[39m.\u001b[39mjson()[\u001b[39m'\u001b[39m\u001b[39mreadableMessage\u001b[39m\u001b[39m'\u001b[39m]\n\u001b[0;32m--> 256\u001b[0m response\u001b[39m.\u001b[39;49mraise_for_status()\n",
      "File \u001b[0;32m~/anaconda3/envs/fast/lib/python3.9/site-packages/requests/models.py:960\u001b[0m, in \u001b[0;36mResponse.raise_for_status\u001b[0;34m(self)\u001b[0m\n\u001b[1;32m    957\u001b[0m     http_error_msg \u001b[39m=\u001b[39m \u001b[39mu\u001b[39m\u001b[39m'\u001b[39m\u001b[39m%s\u001b[39;00m\u001b[39m Server Error: \u001b[39m\u001b[39m%s\u001b[39;00m\u001b[39m for url: \u001b[39m\u001b[39m%s\u001b[39;00m\u001b[39m'\u001b[39m \u001b[39m%\u001b[39m (\u001b[39mself\u001b[39m\u001b[39m.\u001b[39mstatus_code, reason, \u001b[39mself\u001b[39m\u001b[39m.\u001b[39murl)\n\u001b[1;32m    959\u001b[0m \u001b[39mif\u001b[39;00m http_error_msg:\n\u001b[0;32m--> 960\u001b[0m     \u001b[39mraise\u001b[39;00m HTTPError(http_error_msg, response\u001b[39m=\u001b[39m\u001b[39mself\u001b[39m)\n",
      "\u001b[0;31mHTTPError\u001b[0m: 403 Client Error: OperationNotAllowedError: Current user is not allowed to edit this artifact. Permission denied. for url: https://api.hubble.jina.ai/v2/rpc/artifact.upload"
     ]
    }
   ],
   "source": [
    "# push local da to jina cloud for storage\n",
    "eval_da.push(name='unsplash-lite-eval-data-clip', show_progress=True)"
   ]
  },
  {
   "cell_type": "code",
   "execution_count": 9,
   "id": "69e1e408",
   "metadata": {},
   "outputs": [
    {
     "data": {
      "application/vnd.jupyter.widget-view+json": {
       "model_id": "d2cc931503c7482b97d2b6175e8cf495",
       "version_major": 2,
       "version_minor": 0
      },
      "text/plain": [
       "Output()"
      ]
     },
     "metadata": {},
     "output_type": "display_data"
    },
    {
     "data": {
      "text/html": [
       "<pre style=\"white-space:pre;overflow-x:auto;line-height:normal;font-family:Menlo,'DejaVu Sans Mono',consolas,'Courier New',monospace\">\n",
       "</pre>\n"
      ],
      "text/plain": [
       "\n"
      ]
     },
     "metadata": {},
     "output_type": "display_data"
    },
    {
     "data": {
      "text/html": [
       "<pre style=\"white-space:pre;overflow-x:auto;line-height:normal;font-family:Menlo,'DejaVu Sans Mono',consolas,'Courier New',monospace\">\n",
       "</pre>\n"
      ],
      "text/plain": [
       "\n"
      ]
     },
     "metadata": {},
     "output_type": "display_data"
    },
    {
     "data": {
      "text/html": [
       "<pre style=\"white-space:pre;overflow-x:auto;line-height:normal;font-family:Menlo,'DejaVu Sans Mono',consolas,'Courier New',monospace\"></pre>\n"
      ],
      "text/plain": []
     },
     "metadata": {},
     "output_type": "display_data"
    },
    {
     "data": {
      "text/html": [
       "<pre style=\"white-space:pre;overflow-x:auto;line-height:normal;font-family:Menlo,'DejaVu Sans Mono',consolas,'Courier New',monospace\">\n",
       "</pre>\n"
      ],
      "text/plain": [
       "\n"
      ]
     },
     "metadata": {},
     "output_type": "display_data"
    },
    {
     "ename": "HTTPError",
     "evalue": "403 Client Error: OperationNotAllowedError: Current user is not allowed to edit this artifact. Permission denied. for url: https://api.hubble.jina.ai/v2/rpc/artifact.upload",
     "output_type": "error",
     "traceback": [
      "\u001b[0;31m---------------------------------------------------------------------------\u001b[0m",
      "\u001b[0;31mHTTPError\u001b[0m                                 Traceback (most recent call last)",
      "Cell \u001b[0;32mIn [9], line 2\u001b[0m\n\u001b[1;32m      1\u001b[0m \u001b[39m# push local da to jina cloud for storage\u001b[39;00m\n\u001b[0;32m----> 2\u001b[0m train_da\u001b[39m.\u001b[39;49mpush(name\u001b[39m=\u001b[39;49m\u001b[39m'\u001b[39;49m\u001b[39munsplash-lite-train-data-clip\u001b[39;49m\u001b[39m'\u001b[39;49m, show_progress\u001b[39m=\u001b[39;49m\u001b[39mTrue\u001b[39;49;00m)\n",
      "File \u001b[0;32m~/anaconda3/envs/fast/lib/python3.9/site-packages/hubble/__init__.py:48\u001b[0m, in \u001b[0;36mlogin_required.<locals>.arg_wrapper\u001b[0;34m(*args, **kwargs)\u001b[0m\n\u001b[1;32m     46\u001b[0m \u001b[39mtry\u001b[39;00m:\n\u001b[1;32m     47\u001b[0m     Client(jsonify\u001b[39m=\u001b[39m\u001b[39mTrue\u001b[39;00m)\u001b[39m.\u001b[39mget_user_info()\n\u001b[0;32m---> 48\u001b[0m     \u001b[39mreturn\u001b[39;00m func(\u001b[39m*\u001b[39;49margs, \u001b[39m*\u001b[39;49m\u001b[39m*\u001b[39;49mkwargs)\n\u001b[1;32m     49\u001b[0m \u001b[39mexcept\u001b[39;00m AuthenticationRequiredError:\n\u001b[1;32m     50\u001b[0m     \u001b[39mraise\u001b[39;00m AuthenticationRequiredError(\n\u001b[1;32m     51\u001b[0m         response\u001b[39m=\u001b[39m{},\n\u001b[1;32m     52\u001b[0m         message\u001b[39m=\u001b[39m\u001b[39mf\u001b[39m\u001b[39m'\u001b[39m\u001b[39mJina auth token is not provided or has expired. \u001b[39m\u001b[39m{\u001b[39;00mfunc\u001b[39m!r}\u001b[39;00m\u001b[39m requires login to Jina AI, \u001b[39m\u001b[39m'\u001b[39m\n\u001b[1;32m     53\u001b[0m         \u001b[39mf\u001b[39m\u001b[39m'\u001b[39m\u001b[39mplease do `jina auth login -f` or set env variable `JINA_AUTH_TOKEN` with correct token\u001b[39m\u001b[39m'\u001b[39m,\n\u001b[1;32m     54\u001b[0m     ) \u001b[39mfrom\u001b[39;00m \u001b[39mNone\u001b[39m\n",
      "File \u001b[0;32m~/anaconda3/envs/fast/lib/python3.9/site-packages/docarray/array/mixins/io/pushpull.py:256\u001b[0m, in \u001b[0;36mPushPullMixin.push\u001b[0;34m(self, name, show_progress, public, branding)\u001b[0m\n\u001b[1;32m    254\u001b[0m \u001b[39mif\u001b[39;00m response\u001b[39m.\u001b[39mstatus_code \u001b[39m>\u001b[39m\u001b[39m=\u001b[39m \u001b[39m400\u001b[39m \u001b[39mand\u001b[39;00m \u001b[39m'\u001b[39m\u001b[39mreadableMessage\u001b[39m\u001b[39m'\u001b[39m \u001b[39min\u001b[39;00m response\u001b[39m.\u001b[39mjson():\n\u001b[1;32m    255\u001b[0m     response\u001b[39m.\u001b[39mreason \u001b[39m=\u001b[39m response\u001b[39m.\u001b[39mjson()[\u001b[39m'\u001b[39m\u001b[39mreadableMessage\u001b[39m\u001b[39m'\u001b[39m]\n\u001b[0;32m--> 256\u001b[0m response\u001b[39m.\u001b[39;49mraise_for_status()\n",
      "File \u001b[0;32m~/anaconda3/envs/fast/lib/python3.9/site-packages/requests/models.py:960\u001b[0m, in \u001b[0;36mResponse.raise_for_status\u001b[0;34m(self)\u001b[0m\n\u001b[1;32m    957\u001b[0m     http_error_msg \u001b[39m=\u001b[39m \u001b[39mu\u001b[39m\u001b[39m'\u001b[39m\u001b[39m%s\u001b[39;00m\u001b[39m Server Error: \u001b[39m\u001b[39m%s\u001b[39;00m\u001b[39m for url: \u001b[39m\u001b[39m%s\u001b[39;00m\u001b[39m'\u001b[39m \u001b[39m%\u001b[39m (\u001b[39mself\u001b[39m\u001b[39m.\u001b[39mstatus_code, reason, \u001b[39mself\u001b[39m\u001b[39m.\u001b[39murl)\n\u001b[1;32m    959\u001b[0m \u001b[39mif\u001b[39;00m http_error_msg:\n\u001b[0;32m--> 960\u001b[0m     \u001b[39mraise\u001b[39;00m HTTPError(http_error_msg, response\u001b[39m=\u001b[39m\u001b[39mself\u001b[39m)\n",
      "\u001b[0;31mHTTPError\u001b[0m: 403 Client Error: OperationNotAllowedError: Current user is not allowed to edit this artifact. Permission denied. for url: https://api.hubble.jina.ai/v2/rpc/artifact.upload"
     ]
    }
   ],
   "source": [
    "# push local da to jina cloud for storage\n",
    "train_da.push(name='unsplash-lite-train-data-clip', show_progress=True)"
   ]
  },
  {
   "cell_type": "markdown",
   "id": "1bfcf784",
   "metadata": {},
   "source": [
    "### Fine Tuning"
   ]
  },
  {
   "cell_type": "code",
   "execution_count": 10,
   "id": "5c465db8",
   "metadata": {},
   "outputs": [],
   "source": [
    "import finetuner\n",
    "from docarray import DocumentArray, Document"
   ]
  },
  {
   "cell_type": "code",
   "execution_count": 11,
   "id": "0d76eced",
   "metadata": {},
   "outputs": [
    {
     "data": {
      "application/vnd.jupyter.widget-view+json": {
       "model_id": "9ca37cbd0c9e4fa7b5f01359cc29f0cd",
       "version_major": 2,
       "version_minor": 0
      },
      "text/plain": [
       "VBox(children=(VBox(children=(HTML(value=\"\\n<div class='custom-container'>\\n    <style>\\n        .button1 {\\n …"
      ]
     },
     "metadata": {},
     "output_type": "display_data"
    }
   ],
   "source": [
    "finetuner.notebook_login(force=True)"
   ]
  },
  {
   "cell_type": "code",
   "execution_count": 12,
   "id": "14b924c0",
   "metadata": {},
   "outputs": [
    {
     "ename": "AttributeError",
     "evalue": "'NoneType' object has no attribute 'create_run'",
     "output_type": "error",
     "traceback": [
      "\u001b[0;31m---------------------------------------------------------------------------\u001b[0m",
      "\u001b[0;31mAttributeError\u001b[0m                            Traceback (most recent call last)",
      "Cell \u001b[0;32mIn [12], line 1\u001b[0m\n\u001b[0;32m----> 1\u001b[0m run \u001b[39m=\u001b[39m finetuner\u001b[39m.\u001b[39;49mfit(\n\u001b[1;32m      2\u001b[0m     model\u001b[39m=\u001b[39;49m\u001b[39m'\u001b[39;49m\u001b[39mopenai/clip-vit-base-patch32\u001b[39;49m\u001b[39m'\u001b[39;49m,\n\u001b[1;32m      3\u001b[0m     train_data\u001b[39m=\u001b[39;49m\u001b[39m'\u001b[39;49m\u001b[39munsplash-lite-train-data-clip\u001b[39;49m\u001b[39m'\u001b[39;49m,\n\u001b[1;32m      4\u001b[0m     eval_data\u001b[39m=\u001b[39;49m\u001b[39m'\u001b[39;49m\u001b[39munsplash-lite-eval-data-clip\u001b[39;49m\u001b[39m'\u001b[39;49m,\n\u001b[1;32m      5\u001b[0m     run_name\u001b[39m=\u001b[39;49m\u001b[39m'\u001b[39;49m\u001b[39munsplash-lite-clip-run-onnx-11072022-1940\u001b[39;49m\u001b[39m'\u001b[39;49m,\n\u001b[1;32m      6\u001b[0m     epochs\u001b[39m=\u001b[39;49m\u001b[39m5\u001b[39;49m,\n\u001b[1;32m      7\u001b[0m     learning_rate\u001b[39m=\u001b[39;49m \u001b[39m1e-7\u001b[39;49m,\n\u001b[1;32m      8\u001b[0m     loss\u001b[39m=\u001b[39;49m\u001b[39m'\u001b[39;49m\u001b[39mCLIPLoss\u001b[39;49m\u001b[39m'\u001b[39;49m,\n\u001b[1;32m      9\u001b[0m     device\u001b[39m=\u001b[39;49m\u001b[39m'\u001b[39;49m\u001b[39mcuda\u001b[39;49m\u001b[39m'\u001b[39;49m,\n\u001b[1;32m     10\u001b[0m     to_onnx\u001b[39m=\u001b[39;49m\u001b[39mTrue\u001b[39;49;00m,\u001b[39m#MAKE SURE TO CHOOSE FOR ONNX\u001b[39;49;00m\n\u001b[1;32m     11\u001b[0m )\n",
      "File \u001b[0;32m~/anaconda3/envs/fast/lib/python3.9/site-packages/hubble/__init__.py:48\u001b[0m, in \u001b[0;36mlogin_required.<locals>.arg_wrapper\u001b[0;34m(*args, **kwargs)\u001b[0m\n\u001b[1;32m     46\u001b[0m \u001b[39mtry\u001b[39;00m:\n\u001b[1;32m     47\u001b[0m     Client(jsonify\u001b[39m=\u001b[39m\u001b[39mTrue\u001b[39;00m)\u001b[39m.\u001b[39mget_user_info()\n\u001b[0;32m---> 48\u001b[0m     \u001b[39mreturn\u001b[39;00m func(\u001b[39m*\u001b[39;49margs, \u001b[39m*\u001b[39;49m\u001b[39m*\u001b[39;49mkwargs)\n\u001b[1;32m     49\u001b[0m \u001b[39mexcept\u001b[39;00m AuthenticationRequiredError:\n\u001b[1;32m     50\u001b[0m     \u001b[39mraise\u001b[39;00m AuthenticationRequiredError(\n\u001b[1;32m     51\u001b[0m         response\u001b[39m=\u001b[39m{},\n\u001b[1;32m     52\u001b[0m         message\u001b[39m=\u001b[39m\u001b[39mf\u001b[39m\u001b[39m'\u001b[39m\u001b[39mJina auth token is not provided or has expired. \u001b[39m\u001b[39m{\u001b[39;00mfunc\u001b[39m!r}\u001b[39;00m\u001b[39m requires login to Jina AI, \u001b[39m\u001b[39m'\u001b[39m\n\u001b[1;32m     53\u001b[0m         \u001b[39mf\u001b[39m\u001b[39m'\u001b[39m\u001b[39mplease do `jina auth login -f` or set env variable `JINA_AUTH_TOKEN` with correct token\u001b[39m\u001b[39m'\u001b[39m,\n\u001b[1;32m     54\u001b[0m     ) \u001b[39mfrom\u001b[39;00m \u001b[39mNone\u001b[39m\n",
      "File \u001b[0;32m~/anaconda3/envs/fast/lib/python3.9/site-packages/finetuner/__init__.py:206\u001b[0m, in \u001b[0;36mfit\u001b[0;34m(model, train_data, eval_data, run_name, description, experiment_name, model_options, loss, miner, miner_options, optimizer, optimizer_options, learning_rate, epochs, batch_size, callbacks, scheduler_step, freeze, output_dim, cpu, device, num_workers, to_onnx, csv_options, public)\u001b[0m\n\u001b[1;32m    107\u001b[0m \u001b[39m@login_required\u001b[39m\n\u001b[1;32m    108\u001b[0m \u001b[39mdef\u001b[39;00m \u001b[39mfit\u001b[39m(\n\u001b[1;32m    109\u001b[0m     model: \u001b[39mstr\u001b[39m,\n\u001b[0;32m   (...)\u001b[0m\n\u001b[1;32m    133\u001b[0m     public: \u001b[39mbool\u001b[39m \u001b[39m=\u001b[39m \u001b[39mFalse\u001b[39;00m,\n\u001b[1;32m    134\u001b[0m ) \u001b[39m-\u001b[39m\u001b[39m>\u001b[39m Run:\n\u001b[1;32m    135\u001b[0m     \u001b[39m\"\"\"Start a finetuner run!\u001b[39;00m\n\u001b[1;32m    136\u001b[0m \n\u001b[1;32m    137\u001b[0m \u001b[39m    :param model: The name of model to be fine-tuned. Run `finetuner.list_models()` or\u001b[39;00m\n\u001b[0;32m   (...)\u001b[0m\n\u001b[1;32m    203\u001b[0m \u001b[39m       extremely slow and inefficient.\u001b[39;00m\n\u001b[1;32m    204\u001b[0m \u001b[39m    \"\"\"\u001b[39;00m\n\u001b[0;32m--> 206\u001b[0m     \u001b[39mreturn\u001b[39;00m ft\u001b[39m.\u001b[39;49mcreate_run(\n\u001b[1;32m    207\u001b[0m         model\u001b[39m=\u001b[39;49mmodel,\n\u001b[1;32m    208\u001b[0m         train_data\u001b[39m=\u001b[39;49mtrain_data,\n\u001b[1;32m    209\u001b[0m         eval_data\u001b[39m=\u001b[39;49meval_data,\n\u001b[1;32m    210\u001b[0m         run_name\u001b[39m=\u001b[39;49mrun_name,\n\u001b[1;32m    211\u001b[0m         description\u001b[39m=\u001b[39;49mdescription,\n\u001b[1;32m    212\u001b[0m         experiment_name\u001b[39m=\u001b[39;49mexperiment_name,\n\u001b[1;32m    213\u001b[0m         model_options\u001b[39m=\u001b[39;49mmodel_options,\n\u001b[1;32m    214\u001b[0m         loss\u001b[39m=\u001b[39;49mloss,\n\u001b[1;32m    215\u001b[0m         miner\u001b[39m=\u001b[39;49mminer,\n\u001b[1;32m    216\u001b[0m         miner_options\u001b[39m=\u001b[39;49mminer_options,\n\u001b[1;32m    217\u001b[0m         optimizer\u001b[39m=\u001b[39;49moptimizer,\n\u001b[1;32m    218\u001b[0m         optimizer_options\u001b[39m=\u001b[39;49moptimizer_options,\n\u001b[1;32m    219\u001b[0m         learning_rate\u001b[39m=\u001b[39;49mlearning_rate,\n\u001b[1;32m    220\u001b[0m         epochs\u001b[39m=\u001b[39;49mepochs,\n\u001b[1;32m    221\u001b[0m         batch_size\u001b[39m=\u001b[39;49mbatch_size,\n\u001b[1;32m    222\u001b[0m         callbacks\u001b[39m=\u001b[39;49mcallbacks,\n\u001b[1;32m    223\u001b[0m         scheduler_step\u001b[39m=\u001b[39;49mscheduler_step,\n\u001b[1;32m    224\u001b[0m         freeze\u001b[39m=\u001b[39;49mfreeze,\n\u001b[1;32m    225\u001b[0m         output_dim\u001b[39m=\u001b[39;49moutput_dim,\n\u001b[1;32m    226\u001b[0m         cpu\u001b[39m=\u001b[39;49mcpu,\n\u001b[1;32m    227\u001b[0m         device\u001b[39m=\u001b[39;49mdevice,\n\u001b[1;32m    228\u001b[0m         num_workers\u001b[39m=\u001b[39;49mnum_workers,\n\u001b[1;32m    229\u001b[0m         to_onnx\u001b[39m=\u001b[39;49mto_onnx,\n\u001b[1;32m    230\u001b[0m         csv_options\u001b[39m=\u001b[39;49mcsv_options,\n\u001b[1;32m    231\u001b[0m         public\u001b[39m=\u001b[39;49mpublic,\n\u001b[1;32m    232\u001b[0m     )\n",
      "File \u001b[0;32m~/anaconda3/envs/fast/lib/python3.9/site-packages/hubble/__init__.py:48\u001b[0m, in \u001b[0;36mlogin_required.<locals>.arg_wrapper\u001b[0;34m(*args, **kwargs)\u001b[0m\n\u001b[1;32m     46\u001b[0m \u001b[39mtry\u001b[39;00m:\n\u001b[1;32m     47\u001b[0m     Client(jsonify\u001b[39m=\u001b[39m\u001b[39mTrue\u001b[39;00m)\u001b[39m.\u001b[39mget_user_info()\n\u001b[0;32m---> 48\u001b[0m     \u001b[39mreturn\u001b[39;00m func(\u001b[39m*\u001b[39;49margs, \u001b[39m*\u001b[39;49m\u001b[39m*\u001b[39;49mkwargs)\n\u001b[1;32m     49\u001b[0m \u001b[39mexcept\u001b[39;00m AuthenticationRequiredError:\n\u001b[1;32m     50\u001b[0m     \u001b[39mraise\u001b[39;00m AuthenticationRequiredError(\n\u001b[1;32m     51\u001b[0m         response\u001b[39m=\u001b[39m{},\n\u001b[1;32m     52\u001b[0m         message\u001b[39m=\u001b[39m\u001b[39mf\u001b[39m\u001b[39m'\u001b[39m\u001b[39mJina auth token is not provided or has expired. \u001b[39m\u001b[39m{\u001b[39;00mfunc\u001b[39m!r}\u001b[39;00m\u001b[39m requires login to Jina AI, \u001b[39m\u001b[39m'\u001b[39m\n\u001b[1;32m     53\u001b[0m         \u001b[39mf\u001b[39m\u001b[39m'\u001b[39m\u001b[39mplease do `jina auth login -f` or set env variable `JINA_AUTH_TOKEN` with correct token\u001b[39m\u001b[39m'\u001b[39m,\n\u001b[1;32m     54\u001b[0m     ) \u001b[39mfrom\u001b[39;00m \u001b[39mNone\u001b[39m\n",
      "File \u001b[0;32m~/anaconda3/envs/fast/lib/python3.9/site-packages/finetuner/finetuner.py:179\u001b[0m, in \u001b[0;36mFinetuner.create_run\u001b[0;34m(self, model, train_data, eval_data, run_name, description, experiment_name, model_options, loss, miner, miner_options, optimizer, optimizer_options, learning_rate, epochs, batch_size, callbacks, scheduler_step, freeze, output_dim, cpu, device, num_workers, to_onnx, csv_options, public)\u001b[0m\n\u001b[1;32m    177\u001b[0m \u001b[39melse\u001b[39;00m:\n\u001b[1;32m    178\u001b[0m     experiment \u001b[39m=\u001b[39m \u001b[39mself\u001b[39m\u001b[39m.\u001b[39mget_experiment(name\u001b[39m=\u001b[39mexperiment_name)\n\u001b[0;32m--> 179\u001b[0m \u001b[39mreturn\u001b[39;00m experiment\u001b[39m.\u001b[39;49mcreate_run(\n\u001b[1;32m    180\u001b[0m     model\u001b[39m=\u001b[39mmodel,\n\u001b[1;32m    181\u001b[0m     train_data\u001b[39m=\u001b[39mtrain_data,\n\u001b[1;32m    182\u001b[0m     eval_data\u001b[39m=\u001b[39meval_data,\n\u001b[1;32m    183\u001b[0m     run_name\u001b[39m=\u001b[39mrun_name,\n\u001b[1;32m    184\u001b[0m     description\u001b[39m=\u001b[39mdescription,\n\u001b[1;32m    185\u001b[0m     model_options\u001b[39m=\u001b[39mmodel_options \u001b[39mor\u001b[39;00m {},\n\u001b[1;32m    186\u001b[0m     loss\u001b[39m=\u001b[39mloss,\n\u001b[1;32m    187\u001b[0m     miner\u001b[39m=\u001b[39mminer,\n\u001b[1;32m    188\u001b[0m     miner_options\u001b[39m=\u001b[39mminer_options,\n\u001b[1;32m    189\u001b[0m     optimizer\u001b[39m=\u001b[39moptimizer,\n\u001b[1;32m    190\u001b[0m     optimizer_options\u001b[39m=\u001b[39moptimizer_options,\n\u001b[1;32m    191\u001b[0m     learning_rate\u001b[39m=\u001b[39mlearning_rate,\n\u001b[1;32m    192\u001b[0m     epochs\u001b[39m=\u001b[39mepochs,\n\u001b[1;32m    193\u001b[0m     batch_size\u001b[39m=\u001b[39mbatch_size,\n\u001b[1;32m    194\u001b[0m     callbacks\u001b[39m=\u001b[39mcallbacks \u001b[39mor\u001b[39;00m [],\n\u001b[1;32m    195\u001b[0m     scheduler_step\u001b[39m=\u001b[39mscheduler_step,\n\u001b[1;32m    196\u001b[0m     freeze\u001b[39m=\u001b[39mfreeze,\n\u001b[1;32m    197\u001b[0m     output_dim\u001b[39m=\u001b[39moutput_dim,\n\u001b[1;32m    198\u001b[0m     cpu\u001b[39m=\u001b[39mcpu,\n\u001b[1;32m    199\u001b[0m     device\u001b[39m=\u001b[39mdevice,\n\u001b[1;32m    200\u001b[0m     num_workers\u001b[39m=\u001b[39mnum_workers,\n\u001b[1;32m    201\u001b[0m     to_onnx\u001b[39m=\u001b[39mto_onnx,\n\u001b[1;32m    202\u001b[0m     csv_options\u001b[39m=\u001b[39mcsv_options,\n\u001b[1;32m    203\u001b[0m     public\u001b[39m=\u001b[39mpublic,\n\u001b[1;32m    204\u001b[0m )\n",
      "\u001b[0;31mAttributeError\u001b[0m: 'NoneType' object has no attribute 'create_run'"
     ]
    }
   ],
   "source": [
    "run = finetuner.fit(\n",
    "    model='openai/clip-vit-base-patch32',\n",
    "    train_data='unsplash-lite-train-data-clip',\n",
    "    eval_data='unsplash-lite-eval-data-clip',\n",
    "    run_name='unsplash-lite-clip-run-onnx-11072022-1940',\n",
    "    epochs=5,\n",
    "    learning_rate= 1e-7,\n",
    "    loss='CLIPLoss',\n",
    "    device='cuda',\n",
    "    to_onnx=True,#MAKE SURE TO CHOOSE FOR ONNX\n",
    ")"
   ]
  },
  {
   "cell_type": "code",
   "execution_count": 27,
   "id": "16e6752c",
   "metadata": {},
   "outputs": [
    {
     "data": {
      "application/vnd.jupyter.widget-view+json": {
       "model_id": "",
       "version_major": 2,
       "version_minor": 0
      },
      "text/plain": [
       "Output()"
      ]
     },
     "metadata": {},
     "output_type": "display_data"
    },
    {
     "data": {
      "text/html": [
       "<pre style=\"white-space:pre;overflow-x:auto;line-height:normal;font-family:Menlo,'DejaVu Sans Mono',consolas,'Courier New',monospace\"></pre>\n"
      ],
      "text/plain": []
     },
     "metadata": {},
     "output_type": "display_data"
    },
    {
     "name": "stdout",
     "output_type": "stream",
     "text": [
      "[04:30:50] INFO     Starting finetuner run ...                                                           __main__.py:113\n",
      "           DEBUG    Found Jina AI Cloud authentication token                                             __main__.py:125\n",
      "           DEBUG    Running in online mode                                                               __main__.py:126\n",
      "           INFO     Reading config ...                                                                   __main__.py:133\n",
      "           DEBUG    Reading config from stream                                                           __main__.py:145\n",
      "           INFO     Parsing config ...                                                                   __main__.py:148\n",
      "           INFO     Config loaded 📜                                                                     __main__.py:150\n",
      "           INFO     Run name: unsplash-lite-clip-run-onnx-11072022-1940                                  __main__.py:152\n",
      "           INFO     Experiment name: unsplash-research-dataset-lite-latest                               __main__.py:153\n",
      "           DEBUG    Device set to [cuda]                                                                 __main__.py:156\n",
      "           DEBUG    Artifact ID set to 6369db701b731acc1347b455                                          __main__.py:164\n",
      "           INFO     Bulding the tuner components ...                                                     __main__.py:166\n",
      "           INFO     Building models ...                                                                    parser.py:193\n",
      "           DEBUG    Model name: openai/clip-vit-base-patch32                                               parser.py:195\n",
      "           DEBUG    Model options: {}                                                                      parser.py:196\n",
      "\n",
      "Downloading:   0%|          | 0.00/4.09k [00:00<?, ?B/s]\n",
      "Downloading: 100%|██████████| 4.09k/4.09k [00:00<00:00, 5.11MB/s]\n",
      "ping\n",
      "2022-11-08 04:31:20.661143\n",
      "\n",
      "Downloading:   0%|          | 0.00/568 [00:00<?, ?B/s]\n",
      "Downloading: 100%|██████████| 568/568 [00:00<00:00, 1.03MB/s]\n",
      "\n",
      "Downloading:   0%|          | 0.00/842k [00:00<?, ?B/s]\n",
      "Downloading:   5%|▍         | 40.0k/842k [00:00<00:03, 228kB/s]\n",
      "Downloading:  24%|██▎       | 200k/842k [00:00<00:01, 629kB/s] \n",
      "Downloading: 100%|██████████| 842k/842k [00:00<00:00, 1.89MB/s]\n",
      "\n",
      "Downloading:   0%|          | 0.00/512k [00:00<?, ?B/s]\n",
      "Downloading:   8%|▊         | 41.0k/512k [00:00<00:02, 234kB/s]\n",
      "Downloading:  39%|███▉      | 201k/512k [00:00<00:00, 631kB/s] \n",
      "Downloading: 100%|██████████| 512k/512k [00:00<00:00, 1.16MB/s]\n",
      "\n",
      "Downloading:   0%|          | 0.00/2.12M [00:00<?, ?B/s]\n",
      "Downloading:   1%|          | 24.0k/2.12M [00:00<00:11, 187kB/s]\n",
      "Downloading:   4%|▍         | 91.0k/2.12M [00:00<00:05, 372kB/s]\n",
      "Downloading:  18%|█▊        | 395k/2.12M [00:00<00:01, 1.27MB/s]\n",
      "Downloading:  40%|████      | 875k/2.12M [00:00<00:00, 2.18MB/s]\n",
      "Downloading: 100%|██████████| 2.12M/2.12M [00:00<00:00, 3.49MB/s]\n",
      "\n",
      "Downloading:   0%|          | 0.00/389 [00:00<?, ?B/s]\n",
      "Downloading: 100%|██████████| 389/389 [00:00<00:00, 781kB/s]\n",
      "\n",
      "Downloading:   0%|          | 0.00/316 [00:00<?, ?B/s]\n",
      "Downloading: 100%|██████████| 316/316 [00:00<00:00, 530kB/s]\n",
      "[04:31:18] INFO     Building loss ...                                                                      parser.py:248\n",
      "           DEBUG    Loss name: CLIPLoss                                                                    parser.py:249\n",
      "           INFO     Building optimizer ...                                                                 parser.py:294\n",
      "           DEBUG    Optimizer name: Adam                                                                   parser.py:295\n",
      "           DEBUG    Optimizer options: {'lr': 1e-07}                                                       parser.py:296\n",
      "           INFO     Loading the training data ...                                                          parser.py:112\n",
      "           INFO     Pulling data from cloud storage ...                                                     parser.py:90\n",
      "🔐 You are logged in to Jina AI as pankajarm. To log out, use jina auth logout.\n",
      "ping\n",
      "2022-11-08 04:31:50.663067\n",
      "ping\n",
      "2022-11-08 04:32:20.665331\n",
      "ping\n",
      "2022-11-08 04:32:50.667880\n",
      "ping\n",
      "2022-11-08 04:33:20.671525\n",
      "ping\n",
      "2022-11-08 04:33:50.673907\n",
      "ping\n",
      "2022-11-08 04:34:20.677035\n",
      "ping\n",
      "2022-11-08 04:34:50.679617\n",
      "ping\n",
      "2022-11-08 04:35:20.682534\n",
      "ping\n",
      "2022-11-08 04:35:50.684464\n",
      "ping\n",
      "2022-11-08 04:36:20.686686\n",
      "ping\n",
      "2022-11-08 04:36:50.691991\n",
      "ping\n",
      "2022-11-08 04:37:20.698903\n",
      "ping\n",
      "2022-11-08 04:37:50.701917\n",
      "ping\n",
      "2022-11-08 04:38:20.704805\n",
      "ping\n",
      "2022-11-08 04:38:50.707698\n",
      "ping\n",
      "2022-11-08 04:39:20.710780\n",
      "ping\n",
      "2022-11-08 04:39:50.712660\n",
      "ping\n",
      "2022-11-08 04:40:20.715469\n",
      "ping\n",
      "2022-11-08 04:40:50.717143\n",
      "ping\n",
      "2022-11-08 04:41:20.719811\n",
      "ping\n",
      "2022-11-08 04:41:50.734590\n",
      "ping\n",
      "2022-11-08 04:42:20.736224\n",
      "ping\n",
      "2022-11-08 04:42:50.738886\n",
      "ping\n",
      "2022-11-08 04:43:20.741077\n",
      "ping\n",
      "2022-11-08 04:43:50.743638\n",
      "ping\n",
      "2022-11-08 04:44:20.746285\n",
      "ping\n",
      "2022-11-08 04:44:50.748905\n",
      "ping\n",
      "2022-11-08 04:45:20.751129\n",
      "ping\n",
      "2022-11-08 04:45:50.753292\n",
      "ping\n",
      "2022-11-08 04:46:20.755197\n",
      "ping\n",
      "2022-11-08 04:46:50.757449\n",
      "ping\n",
      "2022-11-08 04:47:20.759708\n",
      "ping\n",
      "2022-11-08 04:47:50.761684\n",
      "ping\n",
      "2022-11-08 04:48:20.763627\n",
      "ping\n",
      "2022-11-08 04:48:50.765246\n",
      "[04:49:06] DEBUG    # training samples: 22599                                                              parser.py:119\n",
      "           INFO     Loading the evaluation data ...                                                        parser.py:146\n",
      "           INFO     Pulling data from cloud storage ...                                                     parser.py:90\n",
      "ping\n",
      "2022-11-08 04:49:20.781039\n",
      "  Deserializing ━━━━━━━━━━━━━━━━━━━━━━━━━━━━━━━━━━━━━━━━ 999/999 • 131 QPS • 0:00:00 • 126.4 MB\n",
      "[04:49:16] DEBUG    # eval samples: 999                                                                    parser.py:153\n",
      "           INFO     Model, data, callbacks, loss, miner and optimizer built successfully 🔥              __main__.py:169\n",
      "           INFO     Finetuning ...                                                                       __main__.py:174\n",
      "ping\n",
      "2022-11-08 04:49:50.783449\n",
      "ping\n",
      "2022-11-08 04:50:20.787175\n",
      "ping\n",
      "2022-11-08 04:50:50.789181\n",
      "ping\n",
      "2022-11-08 04:51:20.791806\n",
      "ping\n",
      "2022-11-08 04:51:50.794552\n",
      "ping\n",
      "2022-11-08 04:52:20.796362\n",
      "ping\n",
      "2022-11-08 04:52:50.798936\n",
      "ping\n",
      "2022-11-08 04:53:20.804814\n",
      "ping\n",
      "2022-11-08 04:53:50.810817\n",
      "ping\n",
      "2022-11-08 04:54:20.813939\n",
      "ping\n",
      "2022-11-08 04:54:50.816281\n",
      "ping\n",
      "2022-11-08 04:55:20.818642\n",
      "ping\n",
      "2022-11-08 04:55:50.820269\n",
      "ping\n",
      "2022-11-08 04:56:20.859906\n",
      "ping\n",
      "2022-11-08 04:56:50.862373\n",
      "ping\n",
      "2022-11-08 04:57:20.865008\n",
      "ping\n",
      "2022-11-08 04:57:50.867211\n",
      "ping\n",
      "2022-11-08 04:58:20.869716\n",
      "  Training [5/5] ━━━━━━━━━━━━━━━━━━━━━━━━━━━━━━━━━━━━━━━━ 706/706 0:00:00 0:01:47 • loss: 0.811 • val_loss: 0.965\n",
      "[04:58:31] INFO     Done ✨                                                                              __main__.py:195\n",
      "           DEBUG    Finetuning took 0 days, 0 hours 9 minutes and 14 seconds                             __main__.py:197\n",
      "           INFO     Building the artifact ...                                                            __main__.py:208\n",
      "           INFO     Pushing artifact to Jina AI Cloud ...                                                __main__.py:233\n",
      "ping\n",
      "2022-11-08 04:58:50.871342\n",
      "ping\n",
      "2022-11-08 04:59:20.873575\n",
      "ping\n",
      "2022-11-08 04:59:50.875289\n",
      "ping\n",
      "2022-11-08 05:00:20.878223\n",
      "ping\n",
      "2022-11-08 05:00:50.880697\n"
     ]
    }
   ],
   "source": [
    "# note, the fine-tuning might takes many hours\n",
    "for entry in run.stream_logs():\n",
    "    print(entry)"
   ]
  },
  {
   "cell_type": "code",
   "execution_count": 28,
   "id": "7baa8818",
   "metadata": {},
   "outputs": [],
   "source": [
    "# finetuner.notebook_login()\n",
    "run_name = 'unsplash-lite-clip-run-onnx-11072022-1940'\n",
    "run = finetuner.get_run(run.name)"
   ]
  },
  {
   "cell_type": "code",
   "execution_count": null,
   "id": "d2e604da",
   "metadata": {},
   "outputs": [],
   "source": [
    "# note, the fine-tuning might takes many hours\n",
    "for entry in run.stream_logs():\n",
    "    print(entry)"
   ]
  },
  {
   "cell_type": "code",
   "execution_count": 29,
   "id": "5cb02a30",
   "metadata": {},
   "outputs": [
    {
     "data": {
      "application/vnd.jupyter.widget-view+json": {
       "model_id": "",
       "version_major": 2,
       "version_minor": 0
      },
      "text/plain": [
       "Output()"
      ]
     },
     "metadata": {},
     "output_type": "display_data"
    },
    {
     "data": {
      "text/html": [
       "<pre style=\"white-space:pre;overflow-x:auto;line-height:normal;font-family:Menlo,'DejaVu Sans Mono',consolas,'Courier New',monospace\"></pre>\n"
      ],
      "text/plain": []
     },
     "metadata": {},
     "output_type": "display_data"
    },
    {
     "data": {
      "text/html": [
       "<pre style=\"white-space:pre;overflow-x:auto;line-height:normal;font-family:Menlo,'DejaVu Sans Mono',consolas,'Courier New',monospace\">\n",
       "</pre>\n"
      ],
      "text/plain": [
       "\n"
      ]
     },
     "metadata": {},
     "output_type": "display_data"
    }
   ],
   "source": [
    "artifact = run.save_artifact('unsplash-lite-clip-onnx-model')"
   ]
  },
  {
   "cell_type": "markdown",
   "id": "e4ddb806",
   "metadata": {},
   "source": [
    "### Inference"
   ]
  },
  {
   "cell_type": "markdown",
   "id": "6c895723",
   "metadata": {},
   "source": [
    "##### with ONNX"
   ]
  },
  {
   "cell_type": "code",
   "execution_count": null,
   "id": "994c9bbc",
   "metadata": {},
   "outputs": [],
   "source": [
    "artifact_local_path = \"unsplash-lite-clip-onnx-model/unsplash-lite-clip-run-onnx-11072022-1940\""
   ]
  },
  {
   "cell_type": "code",
   "execution_count": 33,
   "id": "65d52c52",
   "metadata": {},
   "outputs": [
    {
     "data": {
      "application/vnd.jupyter.widget-view+json": {
       "model_id": "7cd96c2515a84013820526285ab01baf",
       "version_major": 2,
       "version_minor": 0
      },
      "text/plain": [
       "Output()"
      ]
     },
     "metadata": {},
     "output_type": "display_data"
    },
    {
     "data": {
      "text/html": [
       "<pre style=\"white-space:pre;overflow-x:auto;line-height:normal;font-family:Menlo,'DejaVu Sans Mono',consolas,'Courier New',monospace\"></pre>\n"
      ],
      "text/plain": []
     },
     "metadata": {},
     "output_type": "display_data"
    },
    {
     "data": {
      "text/html": [
       "<pre style=\"white-space:pre;overflow-x:auto;line-height:normal;font-family:Menlo,'DejaVu Sans Mono',consolas,'Courier New',monospace\">\n",
       "</pre>\n"
      ],
      "text/plain": [
       "\n"
      ]
     },
     "metadata": {},
     "output_type": "display_data"
    },
    {
     "data": {
      "application/vnd.jupyter.widget-view+json": {
       "model_id": "f212af59cc3947259198b70e40f56efe",
       "version_major": 2,
       "version_minor": 0
      },
      "text/plain": [
       "Output()"
      ]
     },
     "metadata": {},
     "output_type": "display_data"
    },
    {
     "data": {
      "text/html": [
       "<pre style=\"white-space:pre;overflow-x:auto;line-height:normal;font-family:Menlo,'DejaVu Sans Mono',consolas,'Courier New',monospace\"></pre>\n"
      ],
      "text/plain": []
     },
     "metadata": {},
     "output_type": "display_data"
    },
    {
     "data": {
      "text/html": [
       "<pre style=\"white-space:pre;overflow-x:auto;line-height:normal;font-family:Menlo,'DejaVu Sans Mono',consolas,'Courier New',monospace\">\n",
       "</pre>\n"
      ],
      "text/plain": [
       "\n"
      ]
     },
     "metadata": {},
     "output_type": "display_data"
    },
    {
     "name": "stdout",
     "output_type": "stream",
     "text": [
      "(1, 512)\n",
      "(1, 512)\n"
     ]
    }
   ],
   "source": [
    "text_da = DocumentArray([Document(text='some text to encode')])\n",
    "image_da = DocumentArray([Document(uri='https://upload.wikimedia.org/wikipedia/commons/4/4e/Single_apple.png')])\n",
    "\n",
    "clip_text_encoder = finetuner.get_model(artifact=artifact_local_path, select_model='clip-text', is_onnx=True)\n",
    "clip_image_encoder = finetuner.get_model(artifact=artifact_local_path, select_model='clip-vision', is_onnx=True)\n",
    "\n",
    "finetuner.encode(model=clip_text_encoder, data=text_da)\n",
    "finetuner.encode(model=clip_image_encoder, data=image_da)\n",
    "\n",
    "print(text_da.summary())\n",
    "print(text_da.embeddings.shape)\n",
    "print(image_da.summary())\n",
    "print(image_da.embeddings.shape)"
   ]
  },
  {
   "cell_type": "code",
   "execution_count": 38,
   "id": "6c1a2185",
   "metadata": {},
   "outputs": [
    {
     "data": {
      "text/html": [
       "<pre style=\"white-space:pre;overflow-x:auto;line-height:normal;font-family:Menlo,'DejaVu Sans Mono',consolas,'Courier New',monospace\">╭────────────────── Documents Summary ───────────────────╮\n",
       "│                                                        │\n",
       "│   Type                   DocumentArrayInMemory         │\n",
       "│   Length                 <span style=\"color: #008080; text-decoration-color: #008080; font-weight: bold\">1</span>                             │\n",
       "│   Homogenous Documents   <span style=\"color: #00ff00; text-decoration-color: #00ff00; font-style: italic\">True</span>                          │\n",
       "│   Common Attributes      <span style=\"font-weight: bold\">(</span><span style=\"color: #008000; text-decoration-color: #008000\">'id'</span>, <span style=\"color: #008000; text-decoration-color: #008000\">'text'</span>, <span style=\"color: #008000; text-decoration-color: #008000\">'embedding'</span><span style=\"font-weight: bold\">)</span>   │\n",
       "│   Multimodal dataclass   <span style=\"color: #ff0000; text-decoration-color: #ff0000; font-style: italic\">False</span>                         │\n",
       "│                                                        │\n",
       "╰────────────────────────────────────────────────────────╯\n",
       "╭────────────────────── Attributes Summary ───────────────────────╮\n",
       "│                                                                 │\n",
       "│  <span style=\"font-weight: bold\"> Attribute </span> <span style=\"font-weight: bold\"> Data type    </span> <span style=\"font-weight: bold\"> #Unique values </span> <span style=\"font-weight: bold\"> Has empty value </span>  │\n",
       "│  ─────────────────────────────────────────────────────────────  │\n",
       "│   embedding   <span style=\"font-weight: bold\">(</span><span style=\"color: #008000; text-decoration-color: #008000\">'ndarray'</span>,<span style=\"font-weight: bold\">)</span>   <span style=\"color: #008080; text-decoration-color: #008080; font-weight: bold\">1</span>                <span style=\"color: #ff0000; text-decoration-color: #ff0000; font-style: italic\">False</span>             │\n",
       "│   id          <span style=\"font-weight: bold\">(</span><span style=\"color: #008000; text-decoration-color: #008000\">'str'</span>,<span style=\"font-weight: bold\">)</span>       <span style=\"color: #008080; text-decoration-color: #008080; font-weight: bold\">1</span>                <span style=\"color: #ff0000; text-decoration-color: #ff0000; font-style: italic\">False</span>             │\n",
       "│   text        <span style=\"font-weight: bold\">(</span><span style=\"color: #008000; text-decoration-color: #008000\">'str'</span>,<span style=\"font-weight: bold\">)</span>       <span style=\"color: #008080; text-decoration-color: #008080; font-weight: bold\">1</span>                <span style=\"color: #ff0000; text-decoration-color: #ff0000; font-style: italic\">False</span>             │\n",
       "│                                                                 │\n",
       "╰─────────────────────────────────────────────────────────────────╯\n",
       "</pre>\n"
      ],
      "text/plain": [
       "╭────────────────── Documents Summary ───────────────────╮\n",
       "│                                                        │\n",
       "│   Type                   DocumentArrayInMemory         │\n",
       "│   Length                 \u001b[1;36m1\u001b[0m                             │\n",
       "│   Homogenous Documents   \u001b[3;92mTrue\u001b[0m                          │\n",
       "│   Common Attributes      \u001b[1m(\u001b[0m\u001b[32m'id'\u001b[0m, \u001b[32m'text'\u001b[0m, \u001b[32m'embedding'\u001b[0m\u001b[1m)\u001b[0m   │\n",
       "│   Multimodal dataclass   \u001b[3;91mFalse\u001b[0m                         │\n",
       "│                                                        │\n",
       "╰────────────────────────────────────────────────────────╯\n",
       "╭────────────────────── Attributes Summary ───────────────────────╮\n",
       "│                                                                 │\n",
       "│  \u001b[1m \u001b[0m\u001b[1mAttribute\u001b[0m\u001b[1m \u001b[0m \u001b[1m \u001b[0m\u001b[1mData type   \u001b[0m\u001b[1m \u001b[0m \u001b[1m \u001b[0m\u001b[1m#Unique values\u001b[0m\u001b[1m \u001b[0m \u001b[1m \u001b[0m\u001b[1mHas empty value\u001b[0m\u001b[1m \u001b[0m  │\n",
       "│  ─────────────────────────────────────────────────────────────  │\n",
       "│   embedding   \u001b[1m(\u001b[0m\u001b[32m'ndarray'\u001b[0m,\u001b[1m)\u001b[0m   \u001b[1;36m1\u001b[0m                \u001b[3;91mFalse\u001b[0m             │\n",
       "│   id          \u001b[1m(\u001b[0m\u001b[32m'str'\u001b[0m,\u001b[1m)\u001b[0m       \u001b[1;36m1\u001b[0m                \u001b[3;91mFalse\u001b[0m             │\n",
       "│   text        \u001b[1m(\u001b[0m\u001b[32m'str'\u001b[0m,\u001b[1m)\u001b[0m       \u001b[1;36m1\u001b[0m                \u001b[3;91mFalse\u001b[0m             │\n",
       "│                                                                 │\n",
       "╰─────────────────────────────────────────────────────────────────╯\n"
      ]
     },
     "metadata": {},
     "output_type": "display_data"
    },
    {
     "name": "stdout",
     "output_type": "stream",
     "text": [
      "None\n"
     ]
    }
   ],
   "source": [
    "print(text_da.summary())"
   ]
  },
  {
   "cell_type": "code",
   "execution_count": 39,
   "id": "9dea0f56",
   "metadata": {},
   "outputs": [
    {
     "data": {
      "text/html": [
       "<pre style=\"white-space:pre;overflow-x:auto;line-height:normal;font-family:Menlo,'DejaVu Sans Mono',consolas,'Courier New',monospace\">╭──────────────────────── Documents Summary ─────────────────────────╮\n",
       "│                                                                    │\n",
       "│   Type                   DocumentArrayInMemory                     │\n",
       "│   Length                 <span style=\"color: #008080; text-decoration-color: #008080; font-weight: bold\">1</span>                                         │\n",
       "│   Homogenous Documents   <span style=\"color: #00ff00; text-decoration-color: #00ff00; font-style: italic\">True</span>                                      │\n",
       "│   Common Attributes      <span style=\"font-weight: bold\">(</span><span style=\"color: #008000; text-decoration-color: #008000\">'id'</span>, <span style=\"color: #008000; text-decoration-color: #008000\">'mime_type'</span>, <span style=\"color: #008000; text-decoration-color: #008000\">'uri'</span>, <span style=\"color: #008000; text-decoration-color: #008000\">'embedding'</span><span style=\"font-weight: bold\">)</span>   │\n",
       "│   Multimodal dataclass   <span style=\"color: #ff0000; text-decoration-color: #ff0000; font-style: italic\">False</span>                                     │\n",
       "│                                                                    │\n",
       "╰────────────────────────────────────────────────────────────────────╯\n",
       "╭────────────────────── Attributes Summary ───────────────────────╮\n",
       "│                                                                 │\n",
       "│  <span style=\"font-weight: bold\"> Attribute </span> <span style=\"font-weight: bold\"> Data type    </span> <span style=\"font-weight: bold\"> #Unique values </span> <span style=\"font-weight: bold\"> Has empty value </span>  │\n",
       "│  ─────────────────────────────────────────────────────────────  │\n",
       "│   embedding   <span style=\"font-weight: bold\">(</span><span style=\"color: #008000; text-decoration-color: #008000\">'ndarray'</span>,<span style=\"font-weight: bold\">)</span>   <span style=\"color: #008080; text-decoration-color: #008080; font-weight: bold\">1</span>                <span style=\"color: #ff0000; text-decoration-color: #ff0000; font-style: italic\">False</span>             │\n",
       "│   id          <span style=\"font-weight: bold\">(</span><span style=\"color: #008000; text-decoration-color: #008000\">'str'</span>,<span style=\"font-weight: bold\">)</span>       <span style=\"color: #008080; text-decoration-color: #008080; font-weight: bold\">1</span>                <span style=\"color: #ff0000; text-decoration-color: #ff0000; font-style: italic\">False</span>             │\n",
       "│   mime_type   <span style=\"font-weight: bold\">(</span><span style=\"color: #008000; text-decoration-color: #008000\">'str'</span>,<span style=\"font-weight: bold\">)</span>       <span style=\"color: #008080; text-decoration-color: #008080; font-weight: bold\">1</span>                <span style=\"color: #ff0000; text-decoration-color: #ff0000; font-style: italic\">False</span>             │\n",
       "│   uri         <span style=\"font-weight: bold\">(</span><span style=\"color: #008000; text-decoration-color: #008000\">'str'</span>,<span style=\"font-weight: bold\">)</span>       <span style=\"color: #008080; text-decoration-color: #008080; font-weight: bold\">1</span>                <span style=\"color: #ff0000; text-decoration-color: #ff0000; font-style: italic\">False</span>             │\n",
       "│                                                                 │\n",
       "╰─────────────────────────────────────────────────────────────────╯\n",
       "</pre>\n"
      ],
      "text/plain": [
       "╭──────────────────────── Documents Summary ─────────────────────────╮\n",
       "│                                                                    │\n",
       "│   Type                   DocumentArrayInMemory                     │\n",
       "│   Length                 \u001b[1;36m1\u001b[0m                                         │\n",
       "│   Homogenous Documents   \u001b[3;92mTrue\u001b[0m                                      │\n",
       "│   Common Attributes      \u001b[1m(\u001b[0m\u001b[32m'id'\u001b[0m, \u001b[32m'mime_type'\u001b[0m, \u001b[32m'uri'\u001b[0m, \u001b[32m'embedding'\u001b[0m\u001b[1m)\u001b[0m   │\n",
       "│   Multimodal dataclass   \u001b[3;91mFalse\u001b[0m                                     │\n",
       "│                                                                    │\n",
       "╰────────────────────────────────────────────────────────────────────╯\n",
       "╭────────────────────── Attributes Summary ───────────────────────╮\n",
       "│                                                                 │\n",
       "│  \u001b[1m \u001b[0m\u001b[1mAttribute\u001b[0m\u001b[1m \u001b[0m \u001b[1m \u001b[0m\u001b[1mData type   \u001b[0m\u001b[1m \u001b[0m \u001b[1m \u001b[0m\u001b[1m#Unique values\u001b[0m\u001b[1m \u001b[0m \u001b[1m \u001b[0m\u001b[1mHas empty value\u001b[0m\u001b[1m \u001b[0m  │\n",
       "│  ─────────────────────────────────────────────────────────────  │\n",
       "│   embedding   \u001b[1m(\u001b[0m\u001b[32m'ndarray'\u001b[0m,\u001b[1m)\u001b[0m   \u001b[1;36m1\u001b[0m                \u001b[3;91mFalse\u001b[0m             │\n",
       "│   id          \u001b[1m(\u001b[0m\u001b[32m'str'\u001b[0m,\u001b[1m)\u001b[0m       \u001b[1;36m1\u001b[0m                \u001b[3;91mFalse\u001b[0m             │\n",
       "│   mime_type   \u001b[1m(\u001b[0m\u001b[32m'str'\u001b[0m,\u001b[1m)\u001b[0m       \u001b[1;36m1\u001b[0m                \u001b[3;91mFalse\u001b[0m             │\n",
       "│   uri         \u001b[1m(\u001b[0m\u001b[32m'str'\u001b[0m,\u001b[1m)\u001b[0m       \u001b[1;36m1\u001b[0m                \u001b[3;91mFalse\u001b[0m             │\n",
       "│                                                                 │\n",
       "╰─────────────────────────────────────────────────────────────────╯\n"
      ]
     },
     "metadata": {},
     "output_type": "display_data"
    },
    {
     "name": "stdout",
     "output_type": "stream",
     "text": [
      "None\n"
     ]
    }
   ],
   "source": [
    "print(image_da.summary())"
   ]
  }
 ],
 "metadata": {
  "kernelspec": {
   "display_name": "Python 3.9.13 ('fast')",
   "language": "python",
   "name": "python3"
  },
  "language_info": {
   "codemirror_mode": {
    "name": "ipython",
    "version": 3
   },
   "file_extension": ".py",
   "mimetype": "text/x-python",
   "name": "python",
   "nbconvert_exporter": "python",
   "pygments_lexer": "ipython3",
   "version": "3.9.13"
  },
  "vscode": {
   "interpreter": {
    "hash": "91cf809ebeac7834cab322c0e9393d8c235d5aedcc8b94bfe1d55e7236ca8197"
   }
  }
 },
 "nbformat": 4,
 "nbformat_minor": 5
}
